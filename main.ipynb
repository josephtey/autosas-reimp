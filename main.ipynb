{
 "cells": [
  {
   "cell_type": "code",
   "execution_count": 109,
   "metadata": {},
   "outputs": [
    {
     "name": "stdout",
     "output_type": "stream",
     "text": [
      "The autoreload extension is already loaded. To reload it, use:\n",
      "  %reload_ext autoreload\n"
     ]
    }
   ],
   "source": [
    "import pandas as pd\n",
    "%load_ext autoreload\n",
    "%autoreload 2"
   ]
  },
  {
   "cell_type": "code",
   "execution_count": 110,
   "metadata": {},
   "outputs": [],
   "source": [
    "df = pd.read_csv('df.csv')"
   ]
  },
  {
   "cell_type": "code",
   "execution_count": 111,
   "metadata": {},
   "outputs": [],
   "source": [
    "from dotenv import load_dotenv\n",
    "import os\n",
    "\n",
    "load_dotenv()\n",
    "\n",
    "open_ai_key = os.getenv(\"OPEN_AI_KEY\")\n",
    "google_search_key = os.getenv(\"GOOGLE_PROGRAMMABLE_SEARCH_KEY\")\n"
   ]
  },
  {
   "cell_type": "code",
   "execution_count": 112,
   "metadata": {},
   "outputs": [
    {
     "data": {
      "text/plain": [
       "28682"
      ]
     },
     "execution_count": 112,
     "metadata": {},
     "output_type": "execute_result"
    }
   ],
   "source": [
    "len(df)"
   ]
  },
  {
   "cell_type": "markdown",
   "metadata": {},
   "source": [
    "setup"
   ]
  },
  {
   "cell_type": "code",
   "execution_count": 113,
   "metadata": {},
   "outputs": [
    {
     "ename": "KeyboardInterrupt",
     "evalue": "",
     "output_type": "error",
     "traceback": [
      "\u001b[0;31m---------------------------------------------------------------------------\u001b[0m",
      "\u001b[0;31mKeyboardInterrupt\u001b[0m                         Traceback (most recent call last)",
      "Cell \u001b[0;32mIn[113], line 2\u001b[0m\n\u001b[1;32m      1\u001b[0m \u001b[38;5;28;01mimport\u001b[39;00m \u001b[38;5;21;01mgensim\u001b[39;00m\n\u001b[0;32m----> 2\u001b[0m model \u001b[38;5;241m=\u001b[39m \u001b[43mgensim\u001b[49m\u001b[38;5;241;43m.\u001b[39;49m\u001b[43mmodels\u001b[49m\u001b[38;5;241;43m.\u001b[39;49m\u001b[43mKeyedVectors\u001b[49m\u001b[38;5;241;43m.\u001b[39;49m\u001b[43mload_word2vec_format\u001b[49m\u001b[43m(\u001b[49m\u001b[38;5;124;43m'\u001b[39;49m\u001b[38;5;124;43mword2vec_model/GoogleNews-vectors-negative300.bin\u001b[39;49m\u001b[38;5;124;43m'\u001b[39;49m\u001b[43m,\u001b[49m\u001b[43m \u001b[49m\u001b[43mbinary\u001b[49m\u001b[38;5;241;43m=\u001b[39;49m\u001b[38;5;28;43;01mTrue\u001b[39;49;00m\u001b[43m)\u001b[49m  \n",
      "File \u001b[0;32m~/Projects/autosas-reimp/venv/lib/python3.9/site-packages/gensim/models/keyedvectors.py:1547\u001b[0m, in \u001b[0;36mWord2VecKeyedVectors.load_word2vec_format\u001b[0;34m(cls, fname, fvocab, binary, encoding, unicode_errors, limit, datatype)\u001b[0m\n\u001b[1;32m   1509\u001b[0m \u001b[38;5;250m\u001b[39m\u001b[38;5;124;03m\"\"\"Load the input-hidden weight matrix from the original C word2vec-tool format.\u001b[39;00m\n\u001b[1;32m   1510\u001b[0m \n\u001b[1;32m   1511\u001b[0m \u001b[38;5;124;03mWarnings\u001b[39;00m\n\u001b[0;32m   (...)\u001b[0m\n\u001b[1;32m   1544\u001b[0m \n\u001b[1;32m   1545\u001b[0m \u001b[38;5;124;03m\"\"\"\u001b[39;00m\n\u001b[1;32m   1546\u001b[0m \u001b[38;5;66;03m# from gensim.models.word2vec import load_word2vec_format\u001b[39;00m\n\u001b[0;32m-> 1547\u001b[0m \u001b[38;5;28;01mreturn\u001b[39;00m \u001b[43m_load_word2vec_format\u001b[49m\u001b[43m(\u001b[49m\n\u001b[1;32m   1548\u001b[0m \u001b[43m    \u001b[49m\u001b[38;5;28;43mcls\u001b[39;49m\u001b[43m,\u001b[49m\u001b[43m \u001b[49m\u001b[43mfname\u001b[49m\u001b[43m,\u001b[49m\u001b[43m \u001b[49m\u001b[43mfvocab\u001b[49m\u001b[38;5;241;43m=\u001b[39;49m\u001b[43mfvocab\u001b[49m\u001b[43m,\u001b[49m\u001b[43m \u001b[49m\u001b[43mbinary\u001b[49m\u001b[38;5;241;43m=\u001b[39;49m\u001b[43mbinary\u001b[49m\u001b[43m,\u001b[49m\u001b[43m \u001b[49m\u001b[43mencoding\u001b[49m\u001b[38;5;241;43m=\u001b[39;49m\u001b[43mencoding\u001b[49m\u001b[43m,\u001b[49m\u001b[43m \u001b[49m\u001b[43municode_errors\u001b[49m\u001b[38;5;241;43m=\u001b[39;49m\u001b[43municode_errors\u001b[49m\u001b[43m,\u001b[49m\n\u001b[1;32m   1549\u001b[0m \u001b[43m    \u001b[49m\u001b[43mlimit\u001b[49m\u001b[38;5;241;43m=\u001b[39;49m\u001b[43mlimit\u001b[49m\u001b[43m,\u001b[49m\u001b[43m \u001b[49m\u001b[43mdatatype\u001b[49m\u001b[38;5;241;43m=\u001b[39;49m\u001b[43mdatatype\u001b[49m\u001b[43m)\u001b[49m\n",
      "File \u001b[0;32m~/Projects/autosas-reimp/venv/lib/python3.9/site-packages/gensim/models/utils_any2vec.py:285\u001b[0m, in \u001b[0;36m_load_word2vec_format\u001b[0;34m(cls, fname, fvocab, binary, encoding, unicode_errors, limit, datatype, binary_chunk_size)\u001b[0m\n\u001b[1;32m    282\u001b[0m result\u001b[38;5;241m.\u001b[39mvectors \u001b[38;5;241m=\u001b[39m zeros((vocab_size, vector_size), dtype\u001b[38;5;241m=\u001b[39mdatatype)\n\u001b[1;32m    284\u001b[0m \u001b[38;5;28;01mif\u001b[39;00m binary:\n\u001b[0;32m--> 285\u001b[0m     \u001b[43m_word2vec_read_binary\u001b[49m\u001b[43m(\u001b[49m\u001b[43mfin\u001b[49m\u001b[43m,\u001b[49m\u001b[43m \u001b[49m\u001b[43mresult\u001b[49m\u001b[43m,\u001b[49m\u001b[43m \u001b[49m\u001b[43mcounts\u001b[49m\u001b[43m,\u001b[49m\n\u001b[1;32m    286\u001b[0m \u001b[43m        \u001b[49m\u001b[43mvocab_size\u001b[49m\u001b[43m,\u001b[49m\u001b[43m \u001b[49m\u001b[43mvector_size\u001b[49m\u001b[43m,\u001b[49m\u001b[43m \u001b[49m\u001b[43mdatatype\u001b[49m\u001b[43m,\u001b[49m\u001b[43m \u001b[49m\u001b[43municode_errors\u001b[49m\u001b[43m,\u001b[49m\u001b[43m \u001b[49m\u001b[43mbinary_chunk_size\u001b[49m\u001b[43m)\u001b[49m\n\u001b[1;32m    287\u001b[0m \u001b[38;5;28;01melse\u001b[39;00m:\n\u001b[1;32m    288\u001b[0m     _word2vec_read_text(fin, result, counts, vocab_size, vector_size, datatype, unicode_errors, encoding)\n",
      "File \u001b[0;32m~/Projects/autosas-reimp/venv/lib/python3.9/site-packages/gensim/models/utils_any2vec.py:204\u001b[0m, in \u001b[0;36m_word2vec_read_binary\u001b[0;34m(fin, result, counts, vocab_size, vector_size, datatype, unicode_errors, binary_chunk_size)\u001b[0m\n\u001b[1;32m    202\u001b[0m new_chunk \u001b[38;5;241m=\u001b[39m fin\u001b[38;5;241m.\u001b[39mread(binary_chunk_size)\n\u001b[1;32m    203\u001b[0m chunk \u001b[38;5;241m+\u001b[39m\u001b[38;5;241m=\u001b[39m new_chunk\n\u001b[0;32m--> 204\u001b[0m processed_words, chunk \u001b[38;5;241m=\u001b[39m \u001b[43m_add_bytes_to_result\u001b[49m\u001b[43m(\u001b[49m\n\u001b[1;32m    205\u001b[0m \u001b[43m    \u001b[49m\u001b[43mresult\u001b[49m\u001b[43m,\u001b[49m\u001b[43m \u001b[49m\u001b[43mcounts\u001b[49m\u001b[43m,\u001b[49m\u001b[43m \u001b[49m\u001b[43mchunk\u001b[49m\u001b[43m,\u001b[49m\u001b[43m \u001b[49m\u001b[43mvocab_size\u001b[49m\u001b[43m,\u001b[49m\u001b[43m \u001b[49m\u001b[43mvector_size\u001b[49m\u001b[43m,\u001b[49m\u001b[43m \u001b[49m\u001b[43mdatatype\u001b[49m\u001b[43m,\u001b[49m\u001b[43m \u001b[49m\u001b[43municode_errors\u001b[49m\u001b[43m)\u001b[49m\n\u001b[1;32m    206\u001b[0m tot_processed_words \u001b[38;5;241m+\u001b[39m\u001b[38;5;241m=\u001b[39m processed_words\n\u001b[1;32m    207\u001b[0m \u001b[38;5;28;01mif\u001b[39;00m \u001b[38;5;28mlen\u001b[39m(new_chunk) \u001b[38;5;241m<\u001b[39m binary_chunk_size:\n",
      "File \u001b[0;32m~/Projects/autosas-reimp/venv/lib/python3.9/site-packages/gensim/models/utils_any2vec.py:190\u001b[0m, in \u001b[0;36m_add_bytes_to_result\u001b[0;34m(result, counts, chunk, vocab_size, vector_size, datatype, unicode_errors)\u001b[0m\n\u001b[1;32m    188\u001b[0m word \u001b[38;5;241m=\u001b[39m word\u001b[38;5;241m.\u001b[39mlstrip(\u001b[38;5;124m'\u001b[39m\u001b[38;5;130;01m\\n\u001b[39;00m\u001b[38;5;124m'\u001b[39m)\n\u001b[1;32m    189\u001b[0m vector \u001b[38;5;241m=\u001b[39m frombuffer(chunk, offset\u001b[38;5;241m=\u001b[39mi_vector, count\u001b[38;5;241m=\u001b[39mvector_size, dtype\u001b[38;5;241m=\u001b[39mREAL)\u001b[38;5;241m.\u001b[39mastype(datatype)\n\u001b[0;32m--> 190\u001b[0m \u001b[43m_add_word_to_result\u001b[49m\u001b[43m(\u001b[49m\u001b[43mresult\u001b[49m\u001b[43m,\u001b[49m\u001b[43m \u001b[49m\u001b[43mcounts\u001b[49m\u001b[43m,\u001b[49m\u001b[43m \u001b[49m\u001b[43mword\u001b[49m\u001b[43m,\u001b[49m\u001b[43m \u001b[49m\u001b[43mvector\u001b[49m\u001b[43m,\u001b[49m\u001b[43m \u001b[49m\u001b[43mvocab_size\u001b[49m\u001b[43m)\u001b[49m\n\u001b[1;32m    191\u001b[0m start \u001b[38;5;241m=\u001b[39m i_vector \u001b[38;5;241m+\u001b[39m bytes_per_vector\n\u001b[1;32m    192\u001b[0m processed_words \u001b[38;5;241m+\u001b[39m\u001b[38;5;241m=\u001b[39m \u001b[38;5;241m1\u001b[39m\n",
      "File \u001b[0;32m~/Projects/autosas-reimp/venv/lib/python3.9/site-packages/gensim/models/utils_any2vec.py:170\u001b[0m, in \u001b[0;36m_add_word_to_result\u001b[0;34m(result, counts, word, weights, vocab_size)\u001b[0m\n\u001b[1;32m    167\u001b[0m     word_count \u001b[38;5;241m=\u001b[39m \u001b[38;5;28;01mNone\u001b[39;00m\n\u001b[1;32m    169\u001b[0m result\u001b[38;5;241m.\u001b[39mvocab[word] \u001b[38;5;241m=\u001b[39m gensim\u001b[38;5;241m.\u001b[39mmodels\u001b[38;5;241m.\u001b[39mkeyedvectors\u001b[38;5;241m.\u001b[39mVocab(index\u001b[38;5;241m=\u001b[39mword_id, count\u001b[38;5;241m=\u001b[39mword_count)\n\u001b[0;32m--> 170\u001b[0m \u001b[43mresult\u001b[49m\u001b[38;5;241;43m.\u001b[39;49m\u001b[43mvectors\u001b[49m\u001b[43m[\u001b[49m\u001b[43mword_id\u001b[49m\u001b[43m]\u001b[49m \u001b[38;5;241m=\u001b[39m weights\n\u001b[1;32m    171\u001b[0m result\u001b[38;5;241m.\u001b[39mindex2word\u001b[38;5;241m.\u001b[39mappend(word)\n",
      "\u001b[0;31mKeyboardInterrupt\u001b[0m: "
     ]
    }
   ],
   "source": [
    "import gensim\n",
    "model = gensim.models.KeyedVectors.load_word2vec_format('word2vec_model/GoogleNews-vectors-negative300.bin', binary=True)  "
   ]
  },
  {
   "cell_type": "code",
   "execution_count": null,
   "metadata": {},
   "outputs": [],
   "source": [
    "from gensim.models.doc2vec import Doc2Vec\n",
    "doc2vec_model = Doc2Vec.load(\"doc2vec_model/doc2vec_wiki_d300_n5_w8_mc50_t12_e10_dbow.model\")"
   ]
  },
  {
   "cell_type": "code",
   "execution_count": null,
   "metadata": {},
   "outputs": [],
   "source": [
    "import nltk\n",
    "from nltk import ngrams, pos_tag\n",
    "from nltk.tokenize import word_tokenize\n",
    "from collections import Counter\n",
    "\n",
    "def generate_ngram_results(set_ids, df, count_threshold = 3):\n",
    "    # Initialize dictionary to store results\n",
    "    ngram_results = {i: [] for i in set_ids}\n",
    "\n",
    "    # Loop through each EssaySet\n",
    "    for set_id in set_ids:\n",
    "        # Filter DataFrame for current EssaySet and score1 == 2\n",
    "        filtered_df = df[(df['EssaySet'] == set_id) & (df['Score1'] == 2)]\n",
    "        \n",
    "        # Print progress for each EssaySet\n",
    "        print(f\"Processing EssaySet {set_id} with {len(filtered_df)} essays.\")\n",
    "        \n",
    "        # Initialize a Counter to count n-grams across all essays in the set\n",
    "        ngram_counter = Counter()\n",
    "        \n",
    "        # Process each EssayText in the filtered_df DataFrame\n",
    "        for essay in filtered_df['EssayText']:\n",
    "            tokens = word_tokenize(essay)\n",
    "            pos_tags = pos_tag(tokens)\n",
    "            \n",
    "            # Generate bi-grams, tri-grams, and tetra-grams\n",
    "            bi_grams = list(ngrams(pos_tags, 2))\n",
    "            tri_grams = list(ngrams(pos_tags, 3))\n",
    "            tetra_grams = list(ngrams(pos_tags, 4))\n",
    "            \n",
    "            # Concatenate all n-grams into a single list and update the counter\n",
    "            all_ngrams = bi_grams + tri_grams + tetra_grams\n",
    "            ngram_counter.update(all_ngrams)\n",
    "        \n",
    "        # Filter n-grams that appeared at least 3 times\n",
    "        frequent_ngrams = [ngram for ngram, count in ngram_counter.items() if count >= count_threshold]\n",
    "        \n",
    "        # Store the frequent n-grams in the results dictionary\n",
    "        ngram_results[set_id] = frequent_ngrams\n",
    "        \n",
    "        # Print after processing each set\n",
    "        print(f\"Completed processing EssaySet {set_id}, with {len(frequent_ngrams)} n-grams.\")\n",
    "    \n",
    "    return ngram_results\n"
   ]
  },
  {
   "cell_type": "code",
   "execution_count": null,
   "metadata": {},
   "outputs": [
    {
     "name": "stdout",
     "output_type": "stream",
     "text": [
      "Processing EssaySet 3 with 699 essays.\n",
      "Completed processing EssaySet 3, with 403 n-grams.\n"
     ]
    }
   ],
   "source": [
    "ngram_results = generate_ngram_results([3], df, 30)"
   ]
  },
  {
   "cell_type": "code",
   "execution_count": null,
   "metadata": {},
   "outputs": [],
   "source": [
    "import os\n",
    "\n",
    "def load_prompts(set_ids):\n",
    "    prompts = {}\n",
    "    for set_id in set_ids:\n",
    "        file_name = f\"prompts/asap_{set_id:02d}.txt\"\n",
    "        if os.path.exists(file_name):\n",
    "            with open(file_name, 'r') as file:\n",
    "                prompts[set_id] = file.read().strip()\n",
    "        else:\n",
    "            print(f\"Prompt file {file_name} not found.\")\n",
    "    return prompts\n",
    "\n",
    "set_ids = list(range(1, 11))  # Example set ids, you can modify this as needed\n",
    "prompts = load_prompts(set_ids)\n"
   ]
  },
  {
   "cell_type": "code",
   "execution_count": 126,
   "metadata": {},
   "outputs": [],
   "source": [
    "import os\n",
    "\n",
    "def load_only_prompts(set_ids):\n",
    "    prompts = {}\n",
    "    for set_id in set_ids:\n",
    "        file_name = f\"only_prompts/asap_{set_id:02d}.txt\"\n",
    "        if os.path.exists(file_name):\n",
    "            with open(file_name, 'r') as file:\n",
    "                prompts[set_id] = file.read().strip()\n",
    "        else:\n",
    "            print(f\"Prompt file {file_name} not found.\")\n",
    "    return prompts\n",
    "\n",
    "only_prompts = load_only_prompts(list(range(1, 11)))\n"
   ]
  },
  {
   "cell_type": "code",
   "execution_count": 117,
   "metadata": {},
   "outputs": [
    {
     "name": "stderr",
     "output_type": "stream",
     "text": [
      "[nltk_data] Downloading package punkt to /Users/josephtey/nltk_data...\n",
      "[nltk_data]   Package punkt is already up-to-date!\n"
     ]
    },
    {
     "name": "stdout",
     "output_type": "stream",
     "text": [
      "All links:  ['https://en.wikipedia.org/wiki/China', 'https://travel.state.gov/content/travel/en/traveladvisories/traveladvisories/china-travel-advisory.html', 'https://english.www.gov.cn/', 'https://www.reuters.com/world/china/', 'https://m.airchina.com.cn/', 'https://www.state.gov/countries-areas/china/', 'https://www.stats.gov.cn/english/', 'https://www.china-airlines.com/us/en', 'https://www.fmprc.gov.cn/mfa_eng/', 'https://obamawhitehouse.archives.gov/the-press-office/2014/11/11/us-china-joint-announcement-climate-change', 'https://us.ceair.com/', 'https://www.chinamobileltd.com/', 'https://www.nottingham.edu.cn/en/index.aspx', 'https://www.census.gov/foreign-trade/balance/c5700.html', 'https://www.cia.gov/the-world-factbook/countries/china/', 'https://obamawhitehouse.archives.gov/the-press-office/2015/09/25/us-china-joint-presidential-statement-climate-change', 'https://www.cnsa.gov.cn/english/', 'https://www.scmp.com/asia', 'http://english.customs.gov.cn/', 'https://www.theguardian.com/world/china']\n",
      "Failed to scrape https://www.cnsa.gov.cn/english/: HTTPSConnectionPool(host='www.cnsa.gov.cn', port=443): Read timed out. (read timeout=10)\n",
      "Progress: 1/94 - keyword: China, tfidf: 0.09611530880721107\n",
      "All links:  ['https://pandas.pydata.org/', 'https://www.nimh.nih.gov/health/publications/pandas', 'https://pandas.pydata.org/docs/', 'https://pandasnetwork.org/what-is-pandas/', 'https://en.wikipedia.org/wiki/Giant_panda', 'https://github.com/pandas-dev/pandas', 'https://www.healthline.com/health/pandas-syndrome', 'https://stackoverflow.com/questions/tagged/pandas', 'https://wesmckinney.com/blog/apache-arrow-pandas-internals/', 'https://www.pandasinternational.org/', 'https://discourse.mcneel.com/t/how-to-run-pandas-in-gh2/172657', 'https://www.w3schools.com/python/pandas/default.asp', 'https://community.alteryx.com/t5/Alteryx-Designer-Desktop-Discussions/Alteryx-write-error-quot-input-must-be-a-pandas-series-quot/td-p/669575', 'https://zoo.sandiegozoo.org/giant-pandas', 'https://www.pandaexpress.com/', 'https://www.pandasppn.org/pandas/', 'https://www.pandasandpeopleband.com/', 'https://apnews.com/article/giant-pandas-washington-zoo-china-764f8016d98c01ab579bdbb6dcc3dd6b', 'https://www.yourbrainonpandas.com/', 'https://www.kaggle.com/learn/pandas']\n",
      "Progress: 2/94 - keyword: pandas, tfidf: 0.12916283975842718\n",
      "All links:  ['https://en.wikipedia.org/wiki/Australia', 'https://australia.com/', 'https://www.pm.gov.au/', 'https://www.tourism.australia.com/en', 'https://www.unisa.edu.au/', 'https://www.britannica.com/place/Australia', 'https://auspost.com.au/', 'https://www.servicesaustralia.gov.au/', 'https://www.uwa.edu.au/', 'https://www.ipaustralia.gov.au/', 'https://www.homeaffairs.gov.au/', 'https://australiazoo.com.au/', 'https://www.nla.gov.au/', 'https://www.virginaustralia.com/us/en/', 'https://www.rba.gov.au/', 'https://www.cia.gov/the-world-factbook/countries/australia/', 'https://www.ga.gov.au/', 'https://www.engineersaustralia.org.au/', 'https://www.dfat.gov.au/', 'https://www.anu.edu.au/']\n",
      "Failed to scrape https://www.servicesaustralia.gov.au/: HTTPSConnectionPool(host='www.servicesaustralia.gov.au', port=443): Read timed out. (read timeout=10)\n",
      "Failed to scrape https://www.dfat.gov.au/: HTTPSConnectionPool(host='www.dfat.gov.au', port=443): Read timed out. (read timeout=10)\n",
      "Progress: 3/94 - keyword: Australia, tfidf: 0.11715112025028196\n",
      "All links:  ['https://en.wikipedia.org/wiki/Koala', 'https://zoo.sandiegozoo.org/cams/koala-cam', 'https://animals.sandiegozoo.org/animals/koala', 'https://www.savethekoala.com/about-koalas/interesting-facts/', 'https://www.nationalgeographic.com/animals/mammals/facts/koala', 'https://koalas.readthedocs.io/', 'https://wwf.org.au/what-we-do/species/koala/', 'https://www.britannica.com/animal/koala', 'https://www.reddit.com/r/koalas/', 'https://www.edinburghzoo.org.uk/animals/webcams/koala-cam', 'https://education.nationalgeographic.org/resource/koalas-101', 'https://github.com/databricks/koalas', 'https://www.wwf.org.uk/learn/fascinating-facts/koala', 'https://www.instagram.com/kirras.koalas/?hl=en', 'https://www.theatlantic.com/magazine/archive/2024/07/australia-koala-crisis-protection/678493/', 'https://louisvillezoo.org/koala/', 'https://www.databricks.com/blog/2020/06/24/introducing-koalas-1-0.html', 'https://lithub.com/what-the-social-lives-of-koalas-tell-us-about-ourselves/', 'https://www.tiktok.com/@naturalhabitok/video/7372221444677274923?lang=en', 'https://simonmustoe.blog/discover-the-most-important-reason-why-koala-conservation-matters-important/']\n",
      "Progress: 4/94 - keyword: koalas, tfidf: 0.13463414648633057\n",
      "All links:  ['https://www.merriam-webster.com/dictionary/specialist', 'https://en.wikipedia.org/wiki/Specialist', 'https://www.dictionary.com/browse/specialist', 'https://j1visa.state.gov/programs/specialist', 'https://exchanges.state.gov/us/program/fulbright-specialist-program', 'https://othercyber.usajobs.gov/job/743747400', 'https://ucop.edu/academic-personnel-programs/_files/apm/apm-330.pdf', 'https://www.teamwendy.com/products/helmets-accessories/helmets/epic-ballistic-helmet-range/epic-specialist-ballistic-helmet', 'https://www.imdb.com/title/tt0111255/', 'http://www.nwcg.gov/positions/incident-training-specialist', 'https://fulbrightspecialist.worldlearning.org/', 'https://jobs.apple.com/en-us/details/114438158/us-specialist-full-time-part-time-and-part-time-temporary', 'https://www.apple.com/retail/instore-shopping-session/', 'https://www.calhr.ca.gov/state-hr-professionals/pages/1303.aspx', 'https://www.usajobs.gov/job/784256900', 'http://dec.vermont.gov/assistance/permits/find-community-assistance-specialist', 'https://www.genderspecialist.com/', 'https://www.calhr.ca.gov/state-hr-professionals/Pages/8337.aspx', 'https://www.usajobs.gov/job/738752100', 'https://www.matc.edu/course-catalog/stem/it-network-specialist.html']\n"
     ]
    },
    {
     "name": "stderr",
     "output_type": "stream",
     "text": [
      "Some characters could not be decoded, and were replaced with REPLACEMENT CHARACTER.\n"
     ]
    },
    {
     "name": "stdout",
     "output_type": "stream",
     "text": [
      "Progress: 5/94 - keyword: specialist, tfidf: 0.07720580872908468\n",
      "All links:  ['https://www.eatsonponce.net/', 'https://www.ubereats.com/', 'https://www.dictionary.com/browse/eats', 'https://www.seriouseats.com/', 'https://www.youtube.com/@KatinaEatsKilos', 'https://eatsparkcity.org/', 'https://www.eatsrestaurantsf.com/', 'https://joanne-eatswellwithothers.com/', 'https://www.facebook.com/katinaeatskilos/', 'https://www.howsweeteats.com/', 'https://www.instagram.com/eats.and.the.city/', 'https://theeatsshow.us.messefrankfurt.com/us/en.html', 'https://www.reddit.com/r/seriouseats/', 'https://www.recipetineats.com/category/quick-and-easy/', 'https://littleeatsandthings.com/', 'https://www.recipetineats.com/', 'https://www.instagram.com/joelle_eats_cake/?hl=en', 'https://manila-eats.com/', 'https://www.instagram.com/dajeneats/?hl=en', 'https://www.tiktok.com/@how.kev.eats?lang=en']\n",
      "Progress: 6/94 - keyword: eats, tfidf: 0.08731380107729611\n",
      "All links:  ['https://www.bamboohr.com/', 'https://www.atlassian.com/software/bamboo', 'https://en.wikipedia.org/wiki/Bamboo', 'https://www.bamboodetroit.com/', 'https://bamboosushi.com/', 'https://app.bamboohr.com/login', 'https://bambooinsurance.com/', 'https://www.growwithbamboo.com/', 'https://bamboocp.com/', 'https://bamboohealth.com/', 'https://www.britannica.com/plant/bamboo', 'https://bambooeats.com/', 'https://www.pechanga.com/eat/bamboo', 'https://www.ecolandscaping.org/08/landscape-challenges/invasive-plants/eco-answers-pros-controlling-invasive-bamboo/', 'https://www.instagram.com/bamboo_ben_/?hl=en', 'https://www.cariloha.com/bed/bedding/', 'https://bamboosolutions.com/', 'https://bamboorose.com/', 'https://github.com/beam-community/bamboo', 'https://www.bambooon2nd.com/']\n",
      "Progress: 7/94 - keyword: bamboo, tfidf: 0.12821562470872344\n",
      "All links:  ['https://www.healthline.com/nutrition/eucalyptus-leaves', 'https://www.amazon.com/Whole-Eucalyptus-Leaves-Natural-Herb/dp/B088BWFFP6', 'https://www.arathealtar.com/letters-of-ara/behind-the-altar-vol-3-natural-dyeing-with-eucalyptus-leaves', 'https://elbetextiles.com.au/blogs/news/dyeing-with-eucalyptus-and-iron-sulphate', 'https://www.annacarolynmeier.com/post/how-to-get-red-eco-prints-with-eucalyptus', 'https://www.aconsideredlife.co.uk/2020/02/making-use-of-eucalyptus.html', 'https://rebeccadesnos.com/blogs/journal/triple-bundle-dyeing-with-eucalyptus-leaves/', 'https://www.mcgill.ca/oss/article/controversial-science-health-news-toxicity/eucalyptus-leaves-more-delicacy-koalas', 'https://sherisilver.com/2020/01/28/how-to-preserve-fresh-eucalyptus/', 'https://www.simonsaysstamp.com/products/simon-says-stamp-eucalyptus-leaves-wafer-die-s661', 'https://www.quora.com/I-just-ate-a-raw-eucalyptus-leaf-What-should-I-do-now', 'https://www.nature.com/articles/ncomms3614', 'https://en.wikipedia.org/wiki/eucalyptus', 'https://www.medicalnewstoday.com/articles/266580', 'https://www.thecut.com/2019/04/how-to-hang-eucalyptus-in-your-shower.html', 'https://www.sallyblake.com/new-page-15', 'https://somethingturquoise.com/2014/06/25/how-to-make-felt-eucalyptus-leaves/', 'https://www.mountsinai.org/health-library/herb/eucalyptus', 'https://bloomcultureflowers.com/blogs/diy-flower-blog/2019-11-11-types-of-eucalyptus-for-your-diy-wedding', 'https://www.sydney.edu.au/study/student-life/student-news/2018/09/10/9-things-you-need-to-know-about-koalas.html']\n",
      "Progress: 8/94 - keyword: eucalyptus leaves, tfidf: 0.08440703147643787\n",
      "All links:  ['https://www.python.org/', 'https://www.w3schools.com/python/', 'https://www.python.org/downloads/', 'https://www.reddit.com/r/Python/', 'https://docs.python.org/3/tutorial/index.html', 'https://en.wikipedia.org/wiki/Python_(programming_language)', 'https://docs.python.org/', 'https://marketplace.visualstudio.com/items?itemName=ms-python.python', 'https://peps.python.org/pep-0008/', 'https://pypi.org/', 'https://stackoverflow.com/questions/tagged/python', 'https://developers.google.com/edu/python', 'https://hub.docker.com/_/python', 'https://paulgraham.com/pypar.html', 'https://www.codecademy.com/catalog/language/python', 'https://www.coursera.org/specializations/python', 'https://code.visualstudio.com/docs/languages/python', 'https://packaging.python.org/tutorials/installing-packages/', 'https://google.github.io/styleguide/pyguide.html', 'https://www.linuxjournal.com/article/3882']\n",
      "Progress: 9/94 - keyword: python, tfidf: 0.21826858324596263\n",
      "All links:  ['https://www.generalist.com/', 'https://www.linkedin.com/pulse/you-might-generalist-milly-tamati', 'https://en.wikipedia.org/wiki/Generalist', 'https://www.forbes.com/sites/danpontefract/2017/02/15/dont-be-afraid-to-call-yourself-a-neo-generalist/', 'https://www.nlm.nih.gov/NIHbmic/generalist_repositories.html', 'https://twitter.com/millytamati?lang=en', 'https://datascience.nih.gov/data-ecosystem/generalist-repository-ecosystem-initiative', 'https://brownschool.wustl.edu/academics/master-of-public-health/generalist-concentration/', 'https://sharing.nih.gov/data-management-and-sharing-policy/sharing-scientific-data/generalist-repositories', 'https://www.merriam-webster.com/dictionary/generalist', 'https://ochagavia.nl/blog/the-undercover-generalist/', 'https://www.reddit.com/r/brotato/comments/14z3c4g/how_to_make_generalist_work_in_d5/', 'https://thegeneralist.store/', 'https://www.reddit.com/r/civ/comments/xcxw1v/best_generalist_civs/', 'https://learningnetwork.cisco.com/s/blogs/a0D3i000002SKIsEAO/the-generalist-network-engineer', 'https://joemcnally.com/2013/07/08/the-path-of-the-generalist/', 'https://annaselundberg.com/the-curse-of-the-generalist/', 'https://andrewsobel.com/article/specialists-do-better-than-generalists-but-deep-generalists-do-even-better/', 'https://www.nymc.edu/school-of-health-sciences-and-practice-shsp/shsp-academics/degrees/master-of-public-health-mph/mph-generalist/', 'https://theask.substack.com/p/is-it-better-to-be-a-generalist-or']\n",
      "Progress: 10/94 - keyword: generalist, tfidf: 0.059435356186816814\n",
      "All links:  ['https://www.foodnetwork.com/', 'https://www.fda.gov/', 'https://www.reddit.com/r/food/', 'https://www.food.com/', 'https://www.fao.org/home/en', 'https://en.wikipedia.org/wiki/Food', 'https://www.foodallergy.org/', 'https://www.foodandwine.com/', 'https://www.youtube.com/@foodwishes', 'https://foodlifeline.org/', 'https://www.slowfood.com/', 'https://www.feedingamerica.org/find-your-local-foodbank', 'https://slowfoodusa.org/', 'https://www.fns.usda.gov/summer/sunmeals', 'https://www.foodcity.com/', 'https://www.foodandwaterwatch.org/', 'https://foodrescue.us/', 'https://thefoodtrust.org/', 'https://frac.org/', 'https://www.truefoodkitchen.com/']\n",
      "Progress: 11/94 - keyword: food, tfidf: 0.13131947296555047\n",
      "All links:  ['https://adapt.org/', 'https://adaptoregon.org/', 'https://adaptclothing.com/', 'https://adaptcommunitynetwork.org/', 'https://adapt.libretexts.org/', 'https://twitter.com/fazeadapt?lang=en', 'https://adapt.mines.edu/', 'https://www.merriam-webster.com/dictionary/adapt', 'https://adaptoftexas.org/', 'https://climate-adapt.eea.europa.eu/', 'https://www.shopglade.com/products/adapt-2-0', 'https://www.youtube.com/@adapt', 'https://arpa-h.gov/research-and-funding/programs/adapt', 'https://www.adaptkitchenjuicebar.com/', 'https://sapt.faa.gov/adapt-start.php', 'https://trainadapt.com/', 'https://dnrec.delaware.gov/coastal-programs/i-adapt/', 'https://tivolilighting.com/tivoli-product/adapt-2-0/', 'https://www.familyconnectionsnj.org/adapt/', 'https://hightower.design/collections/adapt']\n",
      "Progress: 12/94 - keyword: adapt, tfidf: 0.13183003453050307\n",
      "All links:  ['https://www.merriam-webster.com/dictionary/survive', 'https://survive.bandcamp.com/', 'https://www.youtube.com/watch?v=U_LlX4t0A9I', 'https://www.facebook.com/survivesurvive/', 'https://surviveknives.com/', 'https://www.imdb.com/title/tt17080412/', 'https://www.gottman.com/blog/how-to-survive-parenting-a-two-year-old/', 'https://www.npr.org/2009/02/09/100338235/how-to-survive-lifes-tests', 'https://medium.com/@nottremi/but-i-want-to-live-not-just-survive-e4bb6015c129', 'https://www.nytimes.com/2015/03/15/opinion/sunday/frank-bruni-how-to-survive-the-college-admissions-madness.html', 'https://www.marketplace.org/shows/how-we-survive/', 'https://www.anchoragemuseum.org/exhibits/how-to-survive/', 'https://www.aap.org/en/aap-global/helping-babies-survive/', 'https://www.theguardian.com/commentisfree/article/2024/jun/30/i-want-to-survive-the-apocalypse-but-not-if-its-just-me-and-some-terrible-billionaires', 'https://deerassociation.com/shoot-doe-fawns/', 'https://www.theguardian.com/science/article/2024/jun/30/scientists-find-desert-moss-that-can-survive-on-mars', 'https://www.vox.com/22652554/drive-to-survive-f1-racing-netflix', 'https://www.nytimes.com/2024/04/11/opinion/doctor-safety-net-hospital.html', 'https://longreads.com/2024/04/02/i-nearly-died-drowning-maggie-slepian/', 'https://www.dictionary.com/browse/survive']\n",
      "Progress: 13/94 - keyword: survive, tfidf: 0.05572116994256251\n",
      "All links:  ['https://www.merriam-webster.com/dictionary/exclusively', 'https://www.yakimaendodontics.com/', 'https://www.merriam-webster.com/thesaurus/exclusively', 'https://visionsource-exclusivelyeyecare.com/', 'https://exclusivelypet.com/', 'https://catsexclusively.com/', 'https://www.dictionary.com/browse/exclusively', 'https://www.rootcanalnj.com/', 'https://www.cdc.gov/breastfeeding/data/facts.html', 'https://nces.ed.gov/fastfacts/display.asp?id=80', 'https://orthodonticsexclusively.com/', 'https://besjournals.onlinelibrary.wiley.com/doi/abs/10.1111/1365-2664.13059', 'https://arxiv.org/abs/1805.11227', 'https://tax.illinois.gov/research/publications/pio-37.html', 'https://health.gov/healthypeople/objectives-and-data/browse-objectives/infants/increase-proportion-infants-who-are-breastfed-exclusively-through-age-6-months-mich-15', 'https://www.vocabulary.com/dictionary/exclusively', 'https://abm.memberclicks.net/assets/DOCUMENTS/PROTOCOLS/24-allergic-proctocolitis-protocol-english.pdf', 'https://www.apta.org/apta-and-you/leadership-and-governance/policies/interventions-performed-exclusively-by-physical-therapists', 'https://www.binghamton.edu/student-accounts/online-programs/online-tuition-fees/online-tuition-fees-index.html', 'https://dictionary.cambridge.org/dictionary/english/exclusively']\n",
      "Failed to scrape https://dictionary.cambridge.org/dictionary/english/exclusively: ('Connection aborted.', RemoteDisconnected('Remote end closed connection without response'))\n"
     ]
    },
    {
     "name": "stderr",
     "output_type": "stream",
     "text": [
      "Some characters could not be decoded, and were replaced with REPLACEMENT CHARACTER.\n"
     ]
    },
    {
     "name": "stdout",
     "output_type": "stream",
     "text": [
      "Failed to scrape https://catsexclusively.com/: HTTPSConnectionPool(host='catsexclusively.com', port=443): Max retries exceeded with url: / (Caused by SSLError(SSLCertVerificationError(1, '[SSL: CERTIFICATE_VERIFY_FAILED] certificate verify failed: unable to get local issuer certificate (_ssl.c:1122)')))\n",
      "Progress: 14/94 - keyword: exclusively, tfidf: 0.07377445231283361\n",
      "All links:  ['https://www.habitat.org/', 'https://www.habitat.com/', 'https://www.habitat.org/restores', 'https://habitatmetrodenver.org/', 'https://en.wikipedia.org/wiki/Habitat', 'https://www.ashevillehabitat.org/home/', 'https://www.1hotels.com/south-beach/taste/habitat', 'https://www.habitatcincinnati.org/', 'https://www.habitatphiladelphia.org/', 'https://www.habitatla.org/', 'https://community.chef.io/tools/chef-habitat', 'https://habitatportlandregion.org/', 'https://habitatskateboards.com/', 'https://www.cvillehabitat.org/', 'https://www.clevelandhabitat.org/', 'https://www.tchabitat.org/', 'https://habitatforsyth.org/', 'https://www.habitat4humanity.org/', 'https://habitatgift.com/', 'https://habitatdane.org/']\n",
      "Progress: 15/94 - keyword: habitat, tfidf: 0.145317420530979\n",
      "All links:  ['https://www.webmd.com/diet/default.htm', 'https://www.who.int/news-room/fact-sheets/detail/healthy-diet', 'https://en.wikipedia.org/wiki/Diet_(nutrition)', 'https://dceg.cancer.gov/research/who-we-study/nih-aarp-diet-health-study', 'https://my.clevelandclinic.org/health/articles/16037-mediterranean-diet', 'https://www.coca-cola.com/us/en/brands/diet-coke', 'https://www.healthline.com/nutrition/best-diet-plans', 'https://www.mayoclinic.org/healthy-lifestyle/nutrition-and-healthy-eating/in-depth/mediterranean-diet/art-20047801', 'https://www.nhlbi.nih.gov/education/dash-eating-plan', 'https://www.psychologytoday.com/us/basics/diet', 'https://www.merriam-webster.com/dictionary/diet', 'https://jamanetwork.com/journals/jamanetworkopen/fullarticle/2819335', 'https://www.cancer.gov/about-cancer/causes-prevention/risk/diet', 'https://safety.fhwa.dot.gov/road_diets/guidance/info_guide/', 'https://www.medicinenet.com/diet_plans_and_programs/article.htm', 'https://www.instagram.com/diet_prada/?hl=en', 'https://highways.dot.gov/safety/proven-safety-countermeasures/road-diets-roadway-reconfiguration', 'https://www.health.harvard.edu/topics/diet-and-weight-loss', 'https://www.nhs.uk/live-well/eat-well/how-to-eat-a-balanced-diet/the-vegan-diet/', 'https://highways.dot.gov/safety/other/road-diets']\n",
      "Progress: 16/94 - keyword: diet, tfidf: 0.12301407117981274\n",
      "All links:  ['https://en.wikipedia.org/wiki/Species', 'https://www.iucnredlist.org/', 'https://www.fws.gov/law/endangered-species-act', 'https://www.britannica.com/science/species-taxon', 'https://www.imdb.com/title/tt0114508/', 'https://www.merriam-webster.com/dictionary/species', 'https://www.epa.gov/laws-regulations/summary-endangered-species-act', 'https://www.fisheries.noaa.gov/topic/laws-policies', 'https://www.iucn.org/our-union/commissions/iucn-species-survival-commission-2021-2025', 'https://www.endangered.org/', 'https://www.aza.org/species-survival-plan-programs', 'https://ecos.fws.gov/ecp/report/candidate-species', 'https://speciesplus.net/', 'https://www.marinespecies.org/', 'https://www.doi.gov/invasivespecies', 'https://fwp.mt.gov/conservation/aquatic-invasive-species', 'https://wgfd.wyo.gov/fishing-boating/aquatic-invasive-species-prevention', 'https://www.invasivespeciesinfo.gov/', 'https://invasivespecies.idaho.gov/', 'https://www.dfw.state.or.us/wildlife/diversity/species/sensitive_species.asp']\n",
      "Progress: 17/94 - keyword: species, tfidf: 0.16584501592797993\n",
      "All links:  ['https://www.unep.org/node', 'https://www.merriam-webster.com/dictionary/environment', 'https://en.wikipedia.org/wiki/Natural_environment', 'https://www.eea.europa.eu/en', 'https://www.sciencedirect.com/journal/environment-international', 'https://environment.ec.europa.eu/index_en', 'https://www.apple.com/environment/', 'https://environmentamerica.org/', 'https://mde.maryland.gov/', 'https://www.nationalgeographic.com/environment', 'https://www.epw.senate.gov/', 'https://www.gov.uk/government/organisations/environment-agency', 'https://www.epa.gov/home', 'https://unep.org/interactive/beat-plastic-pollution/', 'https://www.lionsclubs.org/en/start-our-global-causes/environment', 'https://www.sfenvironment.org/', 'https://woods.stanford.edu/', 'https://www.bloomberg.org/environment/', 'https://www.oecd.org/environment/', 'https://www.tn.gov/environment.html']\n",
      "Progress: 18/94 - keyword: environment, tfidf: 0.06590087075765338\n",
      "All links:  ['https://www.nativeshoes.com/', 'https://www.nativecos.com/', 'https://www.merriam-webster.com/dictionary/native', 'https://native.eco/', 'https://www.native-instruments.com/en/', 'https://www.buildnative.com/', 'https://www.nativerochester.com/', 'https://www.nativeyewear.com/en-us', 'https://www.nativefoods.com/', 'https://nativeappropriations.com/', 'https://www.cncf.io/', 'https://gonative.ai/', 'https://www.thenativechicago.com/', 'https://native.com/', 'https://www.reddit.com/r/reactnative/', 'https://www.crossvilleinc.com/Products/Native-Metal', 'https://www.nytimes.com/2024/05/14/magazine/native-language-loss.html', 'https://www.instagram.com/native/?hl=en', 'https://nativewatercraft.com/', 'https://www.plantvirginianatives.org/plant-rva-natives']\n",
      "Failed to scrape https://www.nativeyewear.com/en-us: HTTPSConnectionPool(host='www.nativeyewear.com', port=443): Read timed out. (read timeout=10)\n",
      "Progress: 19/94 - keyword: native, tfidf: 0.10672830295924852\n",
      "All links:  ['https://www.webmd.com/health-insurance/insurance-doctor-types', 'https://www.christies.com/departments/Index.aspx', 'https://www.merriam-webster.com/dictionary/specialist', 'https://en.wikipedia.org/wiki/Specialist', 'https://www.asrs.org/home', 'https://specialistshospitalshreveport.com/', 'https://www.investopedia.com/terms/s/specialist.asp', 'https://rsnallc.com/', 'https://pcaobus.org/oversight/standards/implementation-resources-PCAOB-standards-rules/auditors-use-work-specialists', 'https://www.ea.com/games/battlefield/battlefield-2042/game-overview/specialists', 'https://www.bls.gov/ooh/media-and-communication/public-relations-specialists.htm', 'https://www.supremecourt.ohio.gov/courts/advisory/commissions/certification/', 'https://www.dhs.gov/small-business-specialists', 'https://www.mass.gov/orgs/board-of-registration-of-hearing-instrument-specialists', 'https://sgsmn.com/', 'https://em-specialists.org/', 'https://ors.od.nih.gov/sr/dohs/safety/laboratory/Pages/safety_health_specialists.aspx', 'https://epiprod.specialization.apta.org/about-abpts/abpts-certified-specialists-statistics', 'https://www.dhs.wisconsin.gov/benefit-specialists/ebs.htm', 'https://cardiacspecialists.com/']\n",
      "Progress: 20/94 - keyword: specialists, tfidf: 0.05298212947430207\n",
      "All links:  ['http://selectcommitteeontheccp.house.gov/media/press-releases/gallagher-bipartisan-coalition-introduce-legislation-protect-americans-0', 'https://en.wikipedia.org/wiki/Introduced_species', 'https://www.klobuchar.senate.gov/public/index.cfm/2024/3/klobuchar-murkowski-introduce-bipartisan-legislation-to-require-transparency-in-political-ads-with-ai-generated-content', 'https://nyassembly.gov/leg/?sh=advanced', 'https://www.klobuchar.senate.gov/public/index.cfm/2021/2/senator-klobuchar-introduces-sweeping-bill-to-promote-competition-and-improve-antitrust-enforcement', 'http://eshoo.house.gov/media/press-releases/ai-caucus-leaders-introduce-bipartisan-bill-expand-access-ai-research', 'https://www.merkley.senate.gov/merkley-brown-introduce-legislation-banning-lng-exports-to-china/', 'https://www.house.mn.gov/cco/introductions.asp', 'https://www.gillibrand.senate.gov/news/press/release/lummis-gillibrand-introduce-bipartisan-landmark-legislation-to-create-regulatory-framework-for-stablecoins/', 'https://www.aclu.org/legislative-attacks-on-lgbtq-rights-2024', 'https://www.apple.com/newsroom/2024/06/introducing-apple-intelligence-for-iphone-ipad-and-mac/', 'https://www.sanders.senate.gov/press-releases/news-sanders-introduces-medicare-for-all-with-14-colleagues-in-the-senate/', 'https://www.merriam-webster.com/dictionary/introduce', 'https://www.warner.senate.gov/public/index.cfm/2023/3/senators-introduce-bipartisan-bill-to-tackle-national-security-threats-from-foreign-tech', 'http://www.house.gov/the-house-explained/the-legislative-process/introduction-referral', 'https://www.legislature.mi.gov/Bills/DailyReport', 'https://www.booker.senate.gov/news/press/booker-schumer-wyden-introduce-cannabis-administration-and-opportunity-act', 'https://www.warren.senate.gov/newsroom/press-releases/warren-wyden-murray-whitehouse-sanders-introduce-legislation-to-ban-data-brokers-from-selling-americans-location-and-health-data', 'https://www.markey.senate.gov/news/press-releases/senator-markey-and-rep-ocasio-cortez-introduce-green-new-deal-resolution', 'https://www.congress.gov/bill/117th-congress/house-resolution/57']\n",
      "Failed to scrape https://nyassembly.gov/leg/?sh=advanced: HTTPSConnectionPool(host='nyassembly.gov', port=443): Max retries exceeded with url: /leg/?sh=advanced (Caused by SSLError(SSLCertVerificationError(1, '[SSL: CERTIFICATE_VERIFY_FAILED] certificate verify failed: unable to get local issuer certificate (_ssl.c:1122)')))\n",
      "Progress: 21/94 - keyword: introduced, tfidf: 0.029182171547762627\n",
      "All links:  ['https://www.merriam-webster.com/dictionary/carnivorous', 'https://www.carnivorousplantresource.com/vendor/jeremiahs-plants/', 'https://en.wikipedia.org/wiki/Carnivore', 'https://diflora.it/', 'https://www.facebook.com/JeremiahsCPs/', 'https://www.tampa.gov/events/carnivorous-plant-sale-pop-usf-botanical-gardens/146741', 'https://mazuri.com/products/mazuri-aquatic-gel-diet-for-carnivorous-fish', 'https://www.californiacarnivores.com/blogs/growing-tips/76003845-general-carnivorous-plant-growing-tips', 'https://www.reddit.com/r/SavageGarden/', 'https://www.californiacarnivores.com/collections/easy-to-grow', 'https://www.huck.psu.edu/institutes-and-centers/center-for-parasitic-and-carnivorous-plants', 'https://www.youtube.com/@CarnivorousPlantsHub', 'https://blog.wfsu.org/blog-coastal-health/2022/04/carnivorous-plants-both-rare-and-well-done-along-the-apalachicola/', 'https://www.carnivorousplants.org/', 'https://www.foodnetwork.com/shows/carnivorous', 'https://www.reddit.com/r/SavageGarden/comments/z4q57g/carnivorous_plants_vs_fluval_stratum/', 'https://steamcommunity.com/app/1527950/discussions/0/3462723449757260773/', 'https://www.janeperrone.com/on-the-ledge/category/Carnivorous+plants', 'https://gardensvisitor.com/stanley-rehder-carnivorous-plant-garden/', 'https://www.instagram.com/jeremiahsplants/?hl=en']\n",
      "Failed to scrape https://www.carnivorousplants.org/: HTTPSConnectionPool(host='www.carnivorousplants.org', port=443): Read timed out. (read timeout=10)\n",
      "Progress: 22/94 - keyword: carnivorous, tfidf: 0.0735375844674517\n",
      "All links:  ['https://www.herbivoresvegancafe.com/', 'https://education.nationalgeographic.org/resource/herbivore/', 'https://en.wikipedia.org/wiki/herbivore', 'https://www.reddit.com/r/pathoftitans/comments/s8ak7x/unpopular_opinion_herbivores_arent_too_strong/', 'https://courses.lumenlearning.com/wm-biology2/chapter/herbivores-carnivores-and-omnivores/', 'https://www.reddit.com/r/TerraformingMarsGame/comments/x1f1nr/cotd_herbivores_30_aug_2022/', 'https://besjournals.onlinelibrary.wiley.com/doi/10.1111/1365-2664.13972', 'https://www.reddit.com/r/pathoftitans/comments/zsqcfy/herbivores_killing_herbivores/', 'https://steamcommunity.com/app/648350/discussions/1/1680315447988770215/', 'https://www.reddit.com/r/pathoftitans/comments/11a7upc/why_are_herbivores_the_predators/', 'https://steamcommunity.com/app/703080/discussions/0/2992045158710296005/', 'https://www.reddit.com/r/jurassicworldevo/comments/vepkx0/can_i_use_herbivores_to_feed_carnivores/', 'https://www.science.org/doi/10.1126/sciadv.1400103', 'https://www.foodsohawaiidelivery.com/r/514/restaurants/delivery/Vegetarian-Vegan/HERBIVORES-KAILUA-KONA', 'https://slate.com/technology/2012/11/deer-eat-meat-herbivores-and-carnivores-are-not-so-clearly-divided.html', 'https://www.pnas.org/doi/full/10.1073/pnas.1915769117', 'https://www.thehungryherbivores.com/', 'https://www.theherbivorousbutcher.com/', 'https://www.sciencedirect.com/science/article/pii/S0169534798013640', 'https://www.adc-fl.com/dentist-office/englewood-fl-34223/guide-to-herbivores-ominvores-and-carnivores']\n",
      "Progress: 23/94 - keyword: herbivores, tfidf: 0.0509087559706342\n",
      "All links:  ['https://adaptable.io/', 'https://www.merriam-webster.com/dictionary/adaptable', 'https://www.pcori.org/research-results/2015/comparing-safety-and-effectiveness-low-dose-versus-high-dose-aspirin-prevent-problems-heart-disease-adaptable-study-pcornetr-study', 'https://enovis.com/products/surgical/adaptable-knee', 'https://dictionary.cambridge.org/dictionary/english/adaptable', 'https://panolam.com/pattern-search/adaptable-muse/', 'https://www.rubbermaidcommercial.com/cleaning/microfiber/adaptable-flat-mop-kit/', 'https://www.adaptabletools.com/', 'https://www.rubbermaidcommercial.com/material-handling/utility-service-carts/heavy-duty-adaptable-utility-carts/', 'https://www.youtube.com/@adaptablesurvival', 'https://www.adaptableco.com/', 'https://www.gardenfortheenvironment.org/recipeblog/2019/2/15/adaptable-granola', 'https://www.worksmancycles.com/adaptable.html', 'https://www.texasbaseballranch.com/blog/are-you-an-adapted-or-an-adaptable-athlete/', 'http://theaspirinstudy.org/', 'https://www.w3.org/WAI/WCAG21/Understanding/adaptable', 'https://www.nejm.org/doi/full/10.1056/NEJMoa2102137', 'https://www.adaptable-physicaltherapy.com/', 'https://ecrt.umich.edu/resolution-options/adaptable-resolution/', 'https://clinicaltrials.gov/ct2/show/NCT02697916']\n",
      "Failed to scrape https://dictionary.cambridge.org/dictionary/english/adaptable: ('Connection aborted.', RemoteDisconnected('Remote end closed connection without response'))\n",
      "Progress: 24/94 - keyword: adaptable, tfidf: 0.07755651175515006\n",
      "All links:  ['https://en.wikipedia.org/wiki/Reptile', 'https://kids.nationalgeographic.com/animals/reptiles', 'https://www.nationalgeographic.com/animals/reptiles', 'https://www.youtube.com/@ClintsReptiles', 'https://www.reddit.com/r/reptiles/', 'https://www.nwf.org/Educational-Resources/Wildlife-Guide/Reptiles', 'https://reptilesmagazine.com/', 'https://www.britannica.com/animal/reptile', 'https://www.riversidereptileseducationcenter.com/', 'https://iupress.org/9780253066473/ruling-reptiles/', 'https://www.facebook.com/twincitiesreptiles/', 'https://mazuri.com/collections/reptile-amphibian', 'https://stlzoo.org/animals/reptiles', 'https://www.centralfloridazoo.org/animals-attractions/animals/reptiles/', 'https://www.oriannesociety.org/faces-of-the-forest/enduring-and-avoiding-the-cold-how-reptiles-and-amphibians-survive-northern-winters/', 'https://www.nps.gov/yell/learn/nature/reptiles.htm', 'https://www.facebook.com/p/Juggernaut-Reptiles-100045549499855/', 'https://www.nps.gov/mora/learn/nature/reptiles.htm', 'https://dep.nj.gov/njfw/wildlife/reptiles-and-amphibians-in-new-jersey/', 'https://manoa.hawaii.edu/exploringourfluidearth/biological/amphibians-reptiles-and-birds/reptiles']\n",
      "Failed to scrape https://www.nwf.org/Educational-Resources/Wildlife-Guide/Reptiles: HTTPSConnectionPool(host='www.nwf.org', port=443): Max retries exceeded with url: /Educational-Resources/Wildlife-Guide/Reptiles (Caused by SSLError(SSLCertVerificationError(1, '[SSL: CERTIFICATE_VERIFY_FAILED] certificate verify failed: unable to get local issuer certificate (_ssl.c:1122)')))\n",
      "Progress: 25/94 - keyword: reptiles, tfidf: 0.08503989140081579\n",
      "All links:  ['https://en.wikipedia.org/wiki/Mammal', 'https://kids.nationalgeographic.com/animals/mammals', 'https://www.aphis.usda.gov/livestock-poultry-disease/avian/avian-influenza/hpai-detections/mammals', 'https://naturalhistory.si.edu/research/vertebrate-zoology/mammals', 'https://www.britannica.com/animal/mammal', 'https://www.nps.gov/shen/learn/nature/mammals.htm', 'https://www.mmome.org/', 'https://www.nps.gov/mora/learn/nature/mammals-of-mount-rainier.htm', 'http://www.themammals.love/', 'https://www.fisheries.noaa.gov/topic/marine-mammal-protection', 'https://www.efsa.europa.eu/en/supporting/pub/en-8692', 'https://www.fisheries.noaa.gov/alaska/marine-mammal-protection/aerial-surveys-arctic-marine-mammals', 'https://www.nre.navy.mil/organization/departments/code-32/division-322/marine-mammals-and-biology', 'https://www.fisheries.noaa.gov/national/marine-mammal-protection/national-inventory-marine-mammals', 'https://wdfw.wa.gov/species-habitats/living/species-facts', 'https://www.fisheries.noaa.gov/marine-life-distress/frequent-questions-feeding-or-harassing-marine-mammals-wild', 'https://www.nationalgeographic.com/animals/mammals', 'https://store.extension.iastate.edu/product/Mammals-of-Iowa-Field-Guide', 'https://www.marinemammalcenter.org/', 'https://www.tn.gov/twra/wildlife/mammals.html']\n",
      "Progress: 26/94 - keyword: mammals, tfidf: 0.07386645799876404\n",
      "All links:  ['https://education.nationalgeographic.org/resource/ecosystem/', 'https://en.wikipedia.org/wiki/Ecosystem', 'https://www.britannica.com/science/ecosystem', 'https://australian.museum/learn/species-identification/ask-an-expert/what-is-an-ecosystem/', 'https://ecosystem-energy.com/', 'https://www.sciencedirect.com/journal/ecosystem-services', 'https://dataspace.copernicus.eu/', 'https://memory.ucsf.edu/research-trials/professional/care-ecosystem', 'https://www.ecosystemmarketplace.com/', 'https://www.fisheries.noaa.gov/alaska/ecosystems/ecosystem-status-reports-gulf-alaska-bering-sea-and-aleutian-islands', 'https://www.equinix.com/data-centers/ecosystem-discovery', 'http://www.climatehubs.usda.gov/ecosystem-services', 'https://www.wri.org/research/corporate-ecosystem-services-review', 'https://www.millenniumassessment.org/', 'https://dviyer.medium.com/my-role-in-a-social-change-ecosystem-a-mid-year-check-in-1d852589cdb1', 'https://pytorch.org/ecosystem/', 'https://www.fisheries.noaa.gov/about/antarctic-ecosystem-research-division-southwest-fisheries-science-center', 'https://www.decadeonrestoration.org/', 'https://ecosystemservices.us/', 'https://www.dow.com/en-us/materials-ecosystem.html']\n",
      "Progress: 27/94 - keyword: ecosystem, tfidf: 0.0975016758533074\n",
      "All links:  ['https://www.regions.com/personal-banking', 'https://login.regions.com/', 'https://www.healthpartners.com/care/hospitals/regions/', 'https://careers.regions.com/us/en/', 'https://aws.amazon.com/about-aws/global-infrastructure/regions_az/', 'https://www.tricare.mil/About/Regions', 'https://azure.microsoft.com/en-us/explore/global-infrastructure/geographies', 'https://ir.regions.com/news-events/press-releases/default.aspx', 'https://cloud.google.com/compute/docs/regions-zones', 'https://americorps.gov/contact/americorps-nccc-regions', 'https://iucn.org/regions', 'https://www.aphis.usda.gov/regionalization-evaluation-services/region-health-status', 'https://www.hhs.gov/about/agencies/iea/regional-offices/index.html', 'https://docs.aws.amazon.com/AmazonRDS/latest/UserGuide/Concepts.RegionsAndAvailabilityZones.html', 'https://www.doi.gov/employees/reorg/unified-regional-boundaries', 'https://docs.aws.amazon.com/AWSEC2/latest/UserGuide/using-regions-availability-zones.html', 'https://www.dhs.wisconsin.gov/aboutdhs/regions.htm', 'https://docs.aws.amazon.com/general/latest/gr/rande.html', 'https://www2.census.gov/geo/pdfs/maps-data/maps/reference/us_regdiv.pdf', 'https://www.chfs.ky.gov/agencies/dcbs/dsr/Documents/sraregionalmap.pdf']\n"
     ]
    },
    {
     "name": "stderr",
     "output_type": "stream",
     "text": [
      "Some characters could not be decoded, and were replaced with REPLACEMENT CHARACTER.\n"
     ]
    },
    {
     "name": "stdout",
     "output_type": "stream",
     "text": [
      "Progress: 28/94 - keyword: regions, tfidf: 0.06623139374332712\n",
      "All links:  ['https://www.merriam-webster.com/dictionary/natural', 'https://www.nrcs.usda.gov/', 'https://www.youtube.com/@NaturalWorldFacts', 'https://naturalhistory.si.edu/', 'https://naturalcapitalproject.stanford.edu/', 'https://naturalbridgecaverns.com/', 'https://www.naturalgrocers.com/', 'https://www.naturalearthdata.com/', 'https://www.naturalbalanceinc.com/', 'https://nhm.org/', 'https://www.amnh.org/', 'https://naturalbridgeva.com/', 'https://www.nrdc.org/', 'https://capitalscoalition.org/capitals-approach/natural-capital-protocol/', 'https://cloud.google.com/natural-language', 'https://en.wikipedia.org/wiki/Natural_science', 'https://nhmu.utah.edu/', 'https://github.com/NaturalNode/natural', 'https://www.fda.gov/food/food-labeling-nutrition/use-term-natural-food-labeling', 'https://www.thesaurus.com/browse/natural']\n",
      "Progress: 29/94 - keyword: natural, tfidf: 0.10603374673595238\n",
      "All links:  ['https://en.wikipedia.org/wiki/Displacement_(geometry)', 'https://www.urbandisplacement.org/', 'https://www.merriam-webster.com/dictionary/displacement', 'https://www.internal-displacement.org/', 'https://dtm.iom.int/', 'https://environmentalmigration.iom.int/developing-indicators-displacement-disaster-risk-reduction', 'https://www.psychologytoday.com/us/basics/displacement', 'https://byjus.com/physics/distance-and-displacement/', 'https://discourse.mcneel.com/t/rhino-7-displacement-issues/142965', 'https://www.un.org/en/content/action-agenda-on-internal-displacement/', 'https://www.gilson.com/default/shop-products/pipettes/positive-displacement.html', 'https://disasterdisplacement.org/', 'https://www.epa.gov/brownfields/strategies-minimize-displacement', 'https://data.unicef.org/topic/child-migration-and-displacement/displacement/', 'https://tableau.charlottenc.gov/t/Public/views/CommunityDisplacement/LandingPage?%3Aembed=y&%3Aiid=1&%3AisGuestRedirectFromVizportal=y', 'https://www.gilson.com/default/shop-products/pipette-tips/positive-displacement-cp-tips.html', 'https://press.un.org/en/2024/sc15564.doc.htm', 'https://www.austintexas.gov/sites/default/files/files/Housing/Displacement_Mitigation_Strategy_Blueprint_Chapter__002_.pdf', 'https://us.macmillan.com/books/9781250193537/displacement', 'https://www.sanjoseca.gov/your-government/departments-offices/housing/resource-library/housing-policy-plans-and-reports/citywide-anti-displacement-strategy']\n"
     ]
    },
    {
     "name": "stderr",
     "output_type": "stream",
     "text": [
      "Some characters could not be decoded, and were replaced with REPLACEMENT CHARACTER.\n"
     ]
    },
    {
     "name": "stdout",
     "output_type": "stream",
     "text": [
      "Progress: 30/94 - keyword: displacement, tfidf: 0.08989628883831943\n",
      "All links:  ['https://www.nhl.com/predators/', 'https://www.imdb.com/title/tt1424381/', 'https://en.wikipedia.org/wiki/Predators_(film)', 'https://www.espn.com/nhl/team/_/name/nsh/nashville-predators', 'https://www.tennessean.com/sports/predators/', 'https://www.facebook.com/nashvillepredators/', 'https://www.instagram.com/predsnhl/?hl=en', 'https://www.cnn.com/2019/03/07/politics/biden-1993-speech-predators/index.html', 'https://www.orlandopredatorsfootball.com/', 'https://www.mass.gov/news/protect-your-poultry-from-predators', 'https://apnews.com/article/nhl-free-agency-c8524040f3013d2335f900755a0b39bb', 'https://puckpedia.com/team/nashville-predators', 'https://nestwatch.org/learn/all-about-birdhouses/dealing-with-predators/', 'https://www.rottentomatoes.com/m/10012256-predators', 'https://forum.inaturalist.org/t/my-garden-has-too-many-predators-of-monarch-larvae-any-recommendations/34174', 'https://twitter.com/elitepredatorss?lang=en', 'https://www.merriam-webster.com/dictionary/predator', 'https://www.capfriendly.com/teams/predators', 'https://www.reddit.com/r/Predators/comments/1btm9o0/halfquarter_season_ticket_prices/', 'https://www.eliteprospects.com/team/65/nashville-predators']\n",
      "Progress: 31/94 - keyword: predators, tfidf: 0.09042044745471621\n",
      "All links:  ['https://www.invasive.org/', 'https://www.merriam-webster.com/dictionary/invasive', 'https://www.doi.gov/invasivespecies', 'https://www.usda.gov/topics/invasive-species', 'https://www.fs.usda.gov/wildflowers/invasives/index.shtml', 'https://en.wikipedia.org/wiki/Invasive_species', 'https://www.dcr.virginia.gov/natural-heritage/invsppdflist', 'https://www.nae.usace.army.mil/Missions/Regulatory/Invasive-Species/', 'https://www.invasivespeciesinfo.gov/', 'https://www.cdtfa.ca.gov/taxes-and-fees/marine-invasive-species-fee/', 'https://environment.ec.europa.eu/topics/nature-and-biodiversity/invasive-alien-species_en', 'https://www.slc.ca.gov/misp/', 'https://stdofthesea.utah.gov/', 'https://dnr.wisconsin.gov/topic/invasives/classification', 'https://fwp.mt.gov/conservation/aquatic-invasive-species', 'https://www.michigan.gov/invasives', 'https://dec.ny.gov/nature/invasive-species/resources-regulations/regulations', 'https://www.dcnr.pa.gov/Conservation/WildPlants/InvasivePlants/Pages/default.aspx', 'https://dnr.maryland.gov/fisheries/Pages/catfish.aspx', 'https://www.usace.army.mil/Missions/Environmental/Invasive-Species-Management/']\n",
      "Failed to scrape https://www.fs.usda.gov/wildflowers/invasives/index.shtml: HTTPSConnectionPool(host='www.fs.usda.gov', port=443): Read timed out. (read timeout=10)\n",
      "Progress: 32/94 - keyword: invasive, tfidf: 0.14593129321054982\n",
      "All links:  ['https://www.merriam-webster.com/dictionary/threat', 'https://www.dhs.gov/sites/default/files/publications/2020_10_06_homeland-threat-assessment.pdf', 'https://www.dtra.mil/', 'https://www.dni.gov/files/ODNI/documents/2019-ATA-SFR---SSCI.pdf', 'https://www.defense.gov/News/News-Stories/Article/Article/603440/hagel-to-address-threat-multiplier-of-climate-change/', 'https://www.cpuc.ca.gov/industries-and-topics/wildfires/fire-threat-maps-and-fire-safety-rulemaking', 'https://www.secretservice.gov/protection/ntac', 'https://www.europol.europa.eu/publications-events/main-reports/internet-organised-crime-threat-assessment-iocta-2020', 'https://www.cdse.edu/Training/Toolkits/Insider-Threat-Toolkit/', 'http://www.uscp.gov/media-center/press-releases/uscp-threat-assessment-cases-2023', 'https://www.dea.gov/press-releases/2024/05/09/dea-releases-2024-national-drug-threat-assessment', 'https://www.osp.va.gov/insider_threat_program_awareness_reporting_tool.asp', 'https://www.nti.org/', 'https://ua.usembassy.gov/embassy/kyiv/sections-offices/defense-threat-reduction-office/biological-threat-reduction-program/', 'https://www.oni.navy.mil/ONI-Reports/Shipping-Threat-Reports/Worldwide-Threat-to-Shipping/', 'https://www.dea.gov/documents/2024/2024-05/2024-05-24/national-drug-threat-assessment-2024', 'https://csrc.nist.gov/glossary/term/threat', 'https://www.enisa.europa.eu/publications/threat-landscape-for-supply-chain-attacks', 'https://www.ohioattorneygeneral.gov/threatassessment', 'https://www.fortinet.com/resources/analyst-reports/threat-report-2h-2023']\n"
     ]
    },
    {
     "name": "stderr",
     "output_type": "stream",
     "text": [
      "Some characters could not be decoded, and were replaced with REPLACEMENT CHARACTER.\n",
      "Some characters could not be decoded, and were replaced with REPLACEMENT CHARACTER.\n"
     ]
    },
    {
     "name": "stdout",
     "output_type": "stream",
     "text": [
      "Progress: 33/94 - keyword: threat, tfidf: 0.08259975680621848\n",
      "All links:  ['https://survivalinternational.org/', 'https://www.iiss.org/en/publications/survival/', 'https://www.redcross.org/get-help/how-to-prepare-for-emergencies/survival-kit-supplies.html', 'https://cran.r-project.org/package=survival', 'https://www.culturalsurvival.org/', 'https://mustangsurvival.com/', 'https://www.merriam-webster.com/dictionary/survival', 'https://www.cancerresearchuk.org/health-professional/cancer-statistics/survival', 'https://www.nybooks.com/online/2016/11/10/trump-election-autocracy-rules-for-survival/', 'https://cpw.state.co.us/learn/Pages/Survival.aspx', 'https://www.iucn.org/our-union/commissions/iucn-species-survival-commission-2021-2025', 'https://youngsurvival.org/', 'https://www.aza.org/species-survival-plan-programs', 'https://www.ready.gov/kit', 'https://www.survivalsystemsinc.com/', 'https://www.tandfonline.com/toc/tsur20/current', 'https://www.youtube.com/channel/UCA7RTjJU42Y3toOoRXiFwFg', 'https://whitney.org/exhibitions/portable-orchard', 'https://www.cycleforsurvival.org/', 'https://seer.cancer.gov/statfacts/html/breast.html']\n",
      "Progress: 34/94 - keyword: survival, tfidf: 0.09137413400764706\n",
      "All links:  ['https://www.merriam-webster.com/dictionary/meat', 'https://en.wikipedia.org/wiki/Meat', 'https://www.meatyourmaker.com/', 'https://meatbbq.com/', 'https://www.beyondmeat.com/', 'https://www.youtube.com/c/MeatChurchBBQ/videos', 'https://www.facebook.com/MeatLoaf/', 'https://www.instagram.com/meat.therapy/?hl=en', 'https://memeat.com/', 'https://meateatery.com/', 'https://www.nytimes.com/2021/04/24/opinion/climate-change-meatless-meat.html', 'https://www.dictionary.com/browse/meat', 'https://www.sciencedirect.com/journal/meat-science', 'https://www.butcherbox.com/', 'https://meat.studio/', 'https://meatwavechicago.bandcamp.com/album/malign-hex', 'https://ourworldindata.org/meat-production', 'https://dictionary.cambridge.org/dictionary/english/meat', 'https://www.nytimes.com/2009/10/11/magazine/11foer-t.html', 'https://www.karnsfoods.com/shop-online/meat-bundles/']\n",
      "Failed to scrape https://dictionary.cambridge.org/dictionary/english/meat: ('Connection aborted.', RemoteDisconnected('Remote end closed connection without response'))\n",
      "Progress: 35/94 - keyword: meat, tfidf: 0.14271931728750295\n",
      "All links:  ['https://plants.usda.gov/', 'https://en.wikipedia.org/wiki/Plant', 'https://www.thesill.com/collections/live-plants', 'https://easyplant.com/products/large', 'https://www.mdpi.com/journal/plants', 'https://www.greatgardenplants.com/collections/all', 'https://www.reddit.com/r/plants/', 'https://www.livelyroot.com/collections/all-plants', 'https://www.youtube.com/@SheffieldMadePlants', 'https://www.goodhousekeeping.com/home/gardening/advice/g1285/hard-to-kill-plants/', 'https://www.usda.gov/topics/plants', 'https://www.youtube.com/@TheDrPlants/videos', 'http://plants.ensembl.org/', 'https://nautil.us/what-plants-are-saying-about-us-264593/', 'https://betterbuildingssolutioncenter.energy.gov/better-plants', 'https://www.instagram.com/hauseplants/?hl=en', 'https://www.plantvirginianatives.org/plant-rva-natives', 'https://www.aspca.org/pet-care/animal-poison-control/toxic-and-non-toxic-plants', 'https://www.groovyplantsranch.com/', 'https://www.dnr.state.mn.us/invasives/aquaticplants/index.html']\n",
      "Failed to scrape https://betterbuildingssolutioncenter.energy.gov/better-plants: HTTPSConnectionPool(host='betterbuildingssolutioncenter.energy.gov', port=443): Max retries exceeded with url: /better-plants (Caused by SSLError(SSLCertVerificationError(1, '[SSL: CERTIFICATE_VERIFY_FAILED] certificate verify failed: unable to get local issuer certificate (_ssl.c:1122)')))\n",
      "Progress: 36/94 - keyword: plants, tfidf: 0.10126527679452633\n",
      "All links:  ['https://en.wikipedia.org/wiki/Vegetation', 'https://www.landfire.gov/vegetation', 'https://www.xcelenergy.com/customer_support/Vegetation_Management', 'https://dirt.fyi/article/2023/11/vegetation', 'https://www.wellingtonfl.gov/720/Vegetation-Collection', 'https://wildlife.ca.gov/Data/VegCAMP', 'https://permitsonoma.org/divisions/firepreventionandhazmat/servicesandfees/vegetationmanagementservices', 'https://www.boynton-beach.org/420/Vegetation', 'https://earthobservatory.nasa.gov/features/MeasuringVegetation/measuring_vegetation_2.php', 'https://vegdri.unl.edu/', 'https://highways.dot.gov/safety/other/vegetation-control-safety', 'https://landfire.gov/vegetation/evt', 'https://www.dot.state.mn.us/roadsides/vegetation/', 'https://www.epa.gov/heatislands/using-trees-and-vegetation-reduce-heat-islands', 'https://www.garfield-county.com/vegetation-management/', 'https://www.star.nesdis.noaa.gov/smcd/emb/vci/VH/vh_browse.php', 'https://education.nationalgeographic.org/resource/vegetation-region', 'https://vcs.pensoft.net/', 'https://esajournals.onlinelibrary.wiley.com/doi/10.2307/1943563', 'https://connect.ncdot.gov/resources/roadside/Pages/Selective-Vegetation-Removal-Permits.aspx']\n",
      "Failed to scrape https://www.star.nesdis.noaa.gov/smcd/emb/vci/VH/vh_browse.php: HTTPSConnectionPool(host='www.star.nesdis.noaa.gov', port=443): Read timed out. (read timeout=10)\n",
      "Progress: 37/94 - keyword: vegetation, tfidf: 0.12967807749274488\n",
      "All links:  ['https://www.niche.com/', 'https://www.merriam-webster.com/dictionary/niche', 'https://store.nichemodern.com/', 'https://www.nichegeneva.com/', 'https://www.dictionary.com/browse/niche', 'https://nicheprogram.org/node/591', 'https://niche-game.com/', 'https://www.nicheroadwheels.com/', 'https://en.wikipedia.org/wiki/Niche_market', 'https://nichesnowboards.com/', 'https://brasseriebyniche.com/', 'https://store.steampowered.com/app/440650/Niche__a_genetics_survival_game/', 'http://www.nichedesignbuild.com/', 'https://www.nicheinteriors.com/', 'https://www.nichecoffee.co.uk/products/niche-duo', 'http://niche-canada.org/', 'https://www.shopify.com/blog/niche-markets', 'https://www.nichemeatprocessing.org/', 'https://www.bigcommerce.com/theme/niche-cosmetics/', 'https://www.nichehospitality.com/']\n",
      "Progress: 38/94 - keyword: niche, tfidf: 0.12828203229792484\n",
      "All links:  ['https://ourworldindata.org/urbanization', 'https://en.wikipedia.org/wiki/Urbanization', 'https://education.nationalgeographic.org/resource/urbanization', 'https://www.britannica.com/topic/urbanization', 'https://population.un.org/wup/', 'https://www.unfpa.org/urbanization', 'https://www.epa.gov/caddis/urbanization-overview', 'https://esa.un.org/unpd/wup/Publications/Files/WUP2014-Highlights.pdf', 'https://ugc.berkeley.edu/background-content/urbanization/', 'https://www.un.org/development/desa/en/news/population/2018-revision-of-world-urbanization-prospects.html', 'https://www.prb.org/resources/urbanization-an-environmental-force-to-be-reckoned-with/', 'https://www.migrationdataportal.org/themes/urbanization-and-migration', 'https://journals.sagepub.com/home/eau', 'https://www.gsd.harvard.edu/research/office-for-urbanization/', 'https://www.brookings.edu/articles/figures-of-the-week-africas-urbanization-dynamics/', 'https://www.cemex.com/products-solutions/urbanization-solutions', 'https://data.worldbank.org/indicator/SP.URB.TOTL.IN.ZS?locations=CN', 'https://www.merriam-webster.com/dictionary/urbanization', 'https://newsroom.ucla.edu/releases/urbanization-adds-to-racial-and-gender-inequality', 'https://documents.worldbank.org/en/publication/documents-reports/documentdetail/963061495807736752/Philippines-Urbanization-review-fostering-competitive-sustainable-and-inclusive-cities']\n"
     ]
    },
    {
     "name": "stderr",
     "output_type": "stream",
     "text": [
      "Some characters could not be decoded, and were replaced with REPLACEMENT CHARACTER.\n"
     ]
    },
    {
     "name": "stdout",
     "output_type": "stream",
     "text": [
      "Progress: 39/94 - keyword: urbanization, tfidf: 0.06850811787013947\n",
      "All links:  ['https://climate.com/', 'http://www.climate.gov/', 'https://www.climatecentral.org/', 'https://www.climateweeknyc.org/', 'https://www.theclimategroup.org/', 'https://www.noaa.gov/climate', 'https://www.merriam-webster.com/dictionary/climate', 'https://www.cpc.ncep.noaa.gov/', 'https://www.climaterealityproject.org/', 'https://science.nasa.gov/climate-change/', 'https://www.theclimatepledge.com/', 'https://www.ipcc.ch/', 'https://www.climateactionreserve.org/', 'https://www.climateaction100.org/', 'https://www.un.org/en/climatechange/what-is-climate-change', 'https://citizensclimatelobby.org/', 'https://screeningtool.geoplatform.gov/', 'https://toolkit.climate.gov/content/us-climate-resilience-toolkit', 'https://www.cif.org/', 'https://unfccc.int/process-and-meetings/the-paris-agreement']\n",
      "Progress: 40/94 - keyword: climate, tfidf: 0.18103328899489737\n",
      "All links:  ['https://www.merriam-webster.com/dictionary/specific', 'https://travel.state.gov/content/travel/en/international-travel/International-Travel-Country-Information-Pages.html', 'https://pacer.uscourts.gov/find-case/search-specific-court', 'https://policies.google.com/terms/service-specific?hl=en-US', 'https://permitsonoma.org/springs', 'https://www.easa.europa.eu/en/domains/civil-drones-rpas/specific-category-civil-drones', 'https://www.dictionary.com/browse/specific', 'https://www.cancer.gov/types/prostate/psa-fact-sheet', 'https://support.apple.com/en-us/102654', 'https://minamataconvention.org/en/implementation/specific-international-programme', 'https://ofac.treasury.gov/ofac-license-application-page', 'http://www.el-cerrito.org/396/San-Pablo-Avenue-Specific-Plan', 'https://nnss.gov/nssab/', 'https://www.srtr.org/reports/program-specific-reports/', 'https://www.usace.army.mil/Media/News-Releases/News-Release-Article-View/Article/3680078/army-corps-of-engineers-publishes-proposed-rule-for-agency-specific-procedures/', 'https://www.oaklandca.gov/topics/downtown-oakland-specific-plan', 'https://cfpub.epa.gov/ncea/risk/recordisplay.cfm?deid=199243', 'https://www.cms.gov/medicare/payment/prospective-payment-systems/provider-specific-data-public-use-text-format', 'https://www.srcity.org/2911/Downtown-Station-Area-Specific-Plan', 'https://education.ohio.gov/Topics/Special-Education/Disability-Specific-Resources/Specific-Learning-Disability']\n",
      "Progress: 41/94 - keyword: specific, tfidf: 0.0909579999868755\n",
      "All links:  ['https://roads.dot.ca.gov/', 'https://droughtmonitor.unl.edu/', 'https://www.cdc.gov/coronavirus/2019-ncov/need-extra-precautions/people-with-medical-conditions.html', 'https://www.nps.gov/yell/planyourvisit/conditions.htm', 'https://neighbourhood-enlargement.ec.europa.eu/enlargement-policy/conditions-membership_en', 'https://www.va.gov/resources/the-pact-act-and-your-va-benefits/', 'https://www.hrsa.gov/provider-relief/compliance/terms-conditions', 'https://www.tsa.gov/travel/tsa-cares', 'https://policies.google.com/terms?hl=en-US', 'https://www.mayoclinic.org/diseases-conditions', 'https://www.drought.gov/current-conditions', 'http://511.alaska.gov/', 'http://traveler.modot.org/', 'https://www.airnow.gov/', 'https://www.ercot.com/gridmktinfo/dashboards', 'https://www.timberlinelodge.com/conditions', 'https://www.weather.gov/', 'https://quickmap.dot.ca.gov/', 'https://tripcheck.com/', 'https://www.nsf.gov/awards/managing/award_conditions.jsp?org=NSF']\n",
      "Progress: 42/94 - keyword: conditions, tfidf: 0.05773229042158142\n",
      "All links:  ['https://www.florahouston.com/', 'https://www.florahealth.com/', 'https://flora.appfinca.com/en', 'https://www.floranyc.com/', 'https://www.flora-farms.com/', 'https://en.wikipedia.org/wiki/Flora', 'https://florawhb.com/', 'https://www.floraplantshop.com/', 'https://www.merriam-webster.com/dictionary/flora', 'https://floratheexplorer.com/', 'https://www.floragibson.com/', 'https://florabotanicalliving.com/', 'https://www.florabama.com/', 'https://florathevenue.com/', 'https://florail.govoffice2.com/', 'https://www.instagram.com/floracash/?hl=en', 'https://www.townofflora.org/', 'https://florabowley.com/', 'https://www.fbandtbank.com/', 'https://www.instagram.com/flora.forager/?hl=en']\n",
      "Progress: 43/94 - keyword: flora, tfidf: 0.1339629574966293\n",
      "All links:  ['https://www.merriam-webster.com/dictionary/proliferate', 'https://www.dictionary.com/browse/proliferate', 'https://dictionary.cambridge.org/dictionary/english/proliferate', 'https://www.reddit.com/r/Dyson_Sphere_Program/comments/18om79v/is_there_anything_i_shouldnt_proliferate/', 'https://steamcommunity.com/app/1366540/discussions/0/3183485052599335838/', 'https://www.reddit.com/r/mtgrules/comments/z8xz45/replacement_effects_and_proliferateadding_counters/', 'https://mtg.fandom.com/wiki/Proliferate', 'https://www.reddit.com/r/mtgrules/comments/y2cm7v/question_about_proliferatetarget_and_skullbriar/', 'https://steamcommunity.com/app/1366540/discussions/0/3759978601807390874/', 'https://www.reddit.com/r/Dyson_Sphere_Program/comments/18upp30/what_do_i_need_to_proliferate/', 'https://www.vocabulary.com/dictionary/proliferate', 'https://www.reddit.com/r/Dyson_Sphere_Program/comments/18m5v9z/psa_dont_forgot_to_proliferate_ammo/', 'https://cubecobra.com/cube/overview/proliferate', 'https://www.mtgsalvation.com/forums/magic-fundamentals/magic-rulings/magic-rulings-archives/296001-proliferate-and-hexproof', 'https://docs.proliferate.alps.science/', 'https://www.mtgsalvation.com/forums/magic-fundamentals/magic-rulings/magic-rulings-archives/293547-spellskite-vs-proliferate', 'https://xkcd.com/927/', 'https://articles.starcitygames.com/magic-the-gathering/what-you-need-to-know-about-proliferate-cubes-massive-update-on-magic-online/', 'https://boardgames.stackexchange.com/questions/47199/can-proliferate-be-used-on-life-counters', 'https://cyberdefensereview.army.mil/CDR-Content/Articles/Article-View/Article/3606588/weaponizing-words-using-technology-to-proliferate-information-warfare/']\n",
      "Failed to scrape https://dictionary.cambridge.org/dictionary/english/proliferate: ('Connection aborted.', RemoteDisconnected('Remote end closed connection without response'))\n",
      "Progress: 44/94 - keyword: proliferate, tfidf: 0.0691119912311734\n",
      "All links:  ['https://stableprogram.org/', 'https://stabledc.com/', 'https://www.usestable.com/', 'https://www.stableaccount.com/', 'https://stable.auto/', 'https://stability.ai/', 'https://www.stablearts.org/', 'https://www.merriam-webster.com/dictionary/stable', 'https://en.wikipedia.org/wiki/Stable', 'https://www.stablecafe.com/', 'https://github.com/AUTOMATIC1111/stable-diffusion-webui', 'https://stablekentucky.com/', 'https://www.stablecraftbrewing.com/', 'https://github.com/CompVis/stable-diffusion', 'https://huggingface.co/spaces/stabilityai/stable-diffusion', 'https://www.smu.edu/oit/services/stable', 'https://www.starstable.com/', 'https://beta.dreamstudio.ai/', 'https://community.esri.com/t5/gis-manager-s-group/most-stable-arcgis-pro-versions-rule-of-thumb/td-p/1286320', 'https://apps.apple.com/us/app/star-stable-horses/id1126342383']\n",
      "Progress: 45/94 - keyword: stable, tfidf: 0.10828152842633927\n",
      "All links:  ['https://stability.ai/', 'https://www.fsb.org/', 'https://home.treasury.gov/policy-issues/financial-markets-financial-institutions-and-fiscal-service/fsoc', 'https://www.imf.org/en/Publications/GFSR', 'https://www.merriam-webster.com/dictionary/stability', 'https://health.gov/healthypeople/objectives-and-data/browse-objectives/economic-stability', 'https://oci.wi.gov/Pages/Consumers/HealthcareStabilityPlan.aspx', 'https://ocfs.ny.gov/programs/fostercare/education.php', 'https://economy-finance.ec.europa.eu/economic-and-fiscal-governance/stability-and-growth-pact_en', 'https://www.federalreserve.gov/publications/files/financial-stability-report-20201109.pdf', 'https://www.cde.state.co.us/studentsupport/educationstability', 'https://floir.com/docs-sf/default-source/property-and-casualty/stability-unit-reports/january-2024-isu-report_final.pdf?sfvrsn=7b9dee69_4', 'https://www.nejm.org/doi/full/10.1056/NEJMc2004973', 'https://www.marincounty.org/-/media/files/departments/pw/mcstoppp/residents/fischenichstabilitythresholds.pdf', 'https://www.hudexchange.info/programs/rhsp/', 'https://www.ecb.europa.eu/press/financial-stability-publications/fsr/html/index.en.html', 'https://www.romney.senate.gov/support-grows-for-romney-and-manchins-fiscal-stability-act/', 'https://www.nvcc.edu/student-resources/financial-education/financial-stability/index.html', 'https://www.boston.gov/departments/housing/office-housing-stability', 'https://www.manchin.senate.gov/newsroom/press-releases/manchin-romney-introduce-bipartisan-fiscal-stability-act']\n"
     ]
    },
    {
     "name": "stderr",
     "output_type": "stream",
     "text": [
      "Some characters could not be decoded, and were replaced with REPLACEMENT CHARACTER.\n",
      "Some characters could not be decoded, and were replaced with REPLACEMENT CHARACTER.\n"
     ]
    },
    {
     "name": "stdout",
     "output_type": "stream",
     "text": [
      "Failed to scrape https://ocfs.ny.gov/programs/fostercare/education.php: ('Connection aborted.', RemoteDisconnected('Remote end closed connection without response'))\n"
     ]
    },
    {
     "name": "stderr",
     "output_type": "stream",
     "text": [
      "Some characters could not be decoded, and were replaced with REPLACEMENT CHARACTER.\n"
     ]
    },
    {
     "name": "stdout",
     "output_type": "stream",
     "text": [
      "Progress: 46/94 - keyword: stability, tfidf: 0.07269392539809184\n",
      "All links:  ['https://www.change.org/', 'https://www.ipcc.ch/', 'https://unfccc.int/', 'https://www.changehealthcare.com/', 'https://www.merriam-webster.com/dictionary/change', 'https://www.un.org/en/climatechange/what-is-climate-change', 'https://colorofchange.org/', 'https://www.uscis.gov/addresschange', 'https://science.nasa.gov/climate-change/', 'https://www.dmv.pa.gov/Driver-Services/Driver-Licensing/pages/change-your-name-or-address.aspx', 'https://apps.ilsos.gov/addrchange/', 'https://www.dmv.virginia.gov/online-services/address-change', 'https://egov.uscis.gov/coa/displayCOAForm.do', 'https://www.southwest.com/air/change/', 'https://developer.mozilla.org/en-US/docs/Web/API/HTMLElement/change_event', 'https://climateknowledgeportal.worldbank.org/home', 'https://www.va.gov/education/apply-for-education-benefits/application/1995/', 'https://travel.state.gov/content/travel/en/passports/have-passport/change-correct.html', 'https://ww2.arb.ca.gov/our-work/programs/ab-32-climate-change-scoping-plan', 'https://www.epa.gov/climate-indicators']\n",
      "Progress: 47/94 - keyword: change, tfidf: 0.10603990071850282\n",
      "All links:  ['https://www.merriam-webster.com/dictionary/favored', 'https://www.linkedin.com/company/favored-live', 'https://www.instagram.com/tomifavored/?hl=en', 'https://www.lfishman.com/catalog/shop/Flooring/Luxury-Vinyl-Tile-Plank/Favored-Nation/dept-2UA?a=1', 'https://www.reddit.com/r/nfl/comments/1dttdsm/patrick_mahomes_favored_to_win_mvp_cj_stroud_and/', 'https://community.gemsofwar.com/t/favored-troop-manual-selection/65613', 'https://www.reddit.com/r/overwatch2/comments/1avvtco/44_on_rank_because_my_team_was_favored/', 'https://www.cms.gov/priorities/innovation/innovation-models/most-favored-nation-model', 'https://www.reddit.com/r/dndnext/comments/p8okro/omitting_concentration_from_the_rangers_favored/', 'https://www.thesaurus.com/browse/favored', 'https://www.rootedwoman.com/products/favored', 'https://www.irs.gov/forms-pubs/about-publication-969', 'https://projects.fivethirtyeight.com/2024-election-forecast/', 'https://www.nytimes.com/2023/10/27/opinion/hamas-war-gaza-israel.html', 'https://ilr.law.uiowa.edu/volume-108-issue-5/2023/07/increasingly-dangerous-variants-most-favored-nation-theory-religious-liberty', 'https://steamcommunity.com/app/627690/discussions/0/3223871682621489925/', 'https://spokenflames.com/products/favored', 'https://paizo.com/threads/rzs2l2tm?NPC-classes-get-Favored-Class-Bonus', 'https://www.dndbeyond.com/forums/d-d-beyond-general/bugs-support/13144-tiefling-as-favored-enemy', 'https://vowdweddings.com/favored-dress/002081_VD008.html']\n",
      "Progress: 48/94 - keyword: favored, tfidf: 0.0652472783801698\n",
      "All links:  ['https://stability.ai/', 'https://www.fsb.org/', 'https://home.treasury.gov/policy-issues/financial-markets-financial-institutions-and-fiscal-service/fsoc', 'https://www.imf.org/en/Publications/GFSR', 'https://www.merriam-webster.com/dictionary/stability', 'https://health.gov/healthypeople/objectives-and-data/browse-objectives/economic-stability', 'https://oci.wi.gov/Pages/Consumers/HealthcareStabilityPlan.aspx', 'https://ocfs.ny.gov/programs/fostercare/education.php', 'https://economy-finance.ec.europa.eu/economic-and-fiscal-governance/stability-and-growth-pact_en', 'https://www.federalreserve.gov/publications/files/financial-stability-report-20201109.pdf', 'https://www.cde.state.co.us/studentsupport/educationstability', 'https://floir.com/docs-sf/default-source/property-and-casualty/stability-unit-reports/january-2024-isu-report_final.pdf?sfvrsn=7b9dee69_4', 'https://www.nejm.org/doi/full/10.1056/NEJMc2004973', 'https://www.marincounty.org/-/media/files/departments/pw/mcstoppp/residents/fischenichstabilitythresholds.pdf', 'https://www.hudexchange.info/programs/rhsp/', 'https://www.ecb.europa.eu/press/financial-stability-publications/fsr/html/index.en.html', 'https://www.romney.senate.gov/support-grows-for-romney-and-manchins-fiscal-stability-act/', 'https://www.nvcc.edu/student-resources/financial-education/financial-stability/index.html', 'https://www.boston.gov/departments/housing/office-housing-stability', 'https://www.manchin.senate.gov/newsroom/press-releases/manchin-romney-introduce-bipartisan-fiscal-stability-act']\n"
     ]
    },
    {
     "name": "stderr",
     "output_type": "stream",
     "text": [
      "Some characters could not be decoded, and were replaced with REPLACEMENT CHARACTER.\n",
      "Some characters could not be decoded, and were replaced with REPLACEMENT CHARACTER.\n"
     ]
    },
    {
     "name": "stdout",
     "output_type": "stream",
     "text": [
      "Failed to scrape https://ocfs.ny.gov/programs/fostercare/education.php: ('Connection aborted.', RemoteDisconnected('Remote end closed connection without response'))\n"
     ]
    },
    {
     "name": "stderr",
     "output_type": "stream",
     "text": [
      "Some characters could not be decoded, and were replaced with REPLACEMENT CHARACTER.\n"
     ]
    },
    {
     "name": "stdout",
     "output_type": "stream",
     "text": [
      "Failed to scrape https://home.treasury.gov/policy-issues/financial-markets-financial-institutions-and-fiscal-service/fsoc: HTTPSConnectionPool(host='home.treasury.gov', port=443): Read timed out. (read timeout=10)\n",
      "Progress: 49/94 - keyword: stability, tfidf: 0.07313694037192116\n",
      "All links:  ['https://www.webmd.com/diet/default.htm', 'https://www.who.int/news-room/fact-sheets/detail/healthy-diet', 'https://en.wikipedia.org/wiki/Diet_(nutrition)', 'https://dceg.cancer.gov/research/who-we-study/nih-aarp-diet-health-study', 'https://my.clevelandclinic.org/health/articles/16037-mediterranean-diet', 'https://www.coca-cola.com/us/en/brands/diet-coke', 'https://www.healthline.com/nutrition/best-diet-plans', 'https://www.mayoclinic.org/healthy-lifestyle/nutrition-and-healthy-eating/in-depth/mediterranean-diet/art-20047801', 'https://www.nhlbi.nih.gov/education/dash-eating-plan', 'https://www.psychologytoday.com/us/basics/diet', 'https://www.merriam-webster.com/dictionary/diet', 'https://jamanetwork.com/journals/jamanetworkopen/fullarticle/2819335', 'https://www.cancer.gov/about-cancer/causes-prevention/risk/diet', 'https://safety.fhwa.dot.gov/road_diets/guidance/info_guide/', 'https://www.medicinenet.com/diet_plans_and_programs/article.htm', 'https://www.instagram.com/diet_prada/?hl=en', 'https://highways.dot.gov/safety/proven-safety-countermeasures/road-diets-roadway-reconfiguration', 'https://www.health.harvard.edu/topics/diet-and-weight-loss', 'https://www.nhs.uk/live-well/eat-well/how-to-eat-a-balanced-diet/the-vegan-diet/', 'https://highways.dot.gov/safety/other/road-diets']\n",
      "Progress: 50/94 - keyword: diet, tfidf: 0.12301407117981274\n",
      "All links:  ['https://ring.com/neighbors', 'https://www.neighborsmn.org/', 'https://www.imdb.com/title/tt2004420/', 'https://neighborsnashville.com/', 'https://www.neighborsfcu.org/', 'https://en.wikipedia.org/wiki/Neighbors_(2014_film)', 'https://neighborscafelv.com/', 'https://nextdoor.com/', 'https://www.1hotels.com/brooklyn-bridge/taste/neighbors', 'https://www.newyorker.com/magazine/2024/03/25/neighbors-fiction-zach-williams', 'https://www.neighborsatx.com/', 'https://www.neighborscu.org/', 'https://www.facebook.com/drewholcombmusic/', 'https://www.washingtonpost.com/lifestyle/advice/carolyn-hax-their-dream-home-plan-floats-their-boat-but-neighbors-make-waves/2020/02/06/b7a8223e-447d-11ea-aa6a-083d01b3ed18_story.html', 'https://www.neighborspodcast.com/', 'https://arnesvenson.com/the-neighbors.html', 'https://www.washingtonpost.com/advice/2024/06/28/ask-amy-neighbors-potential-racism/', 'https://www.neighborsofwatertown.com/', 'https://apps.apple.com/us/app/neighbors-by-ring/id1218902777', 'https://play.google.com/store/apps/details?id=com.ring.neighborhoods&hl=en_US']\n",
      "Failed to scrape https://www.washingtonpost.com/advice/2024/06/28/ask-amy-neighbors-potential-racism/: HTTPSConnectionPool(host='www.washingtonpost.com', port=443): Read timed out. (read timeout=10)\n",
      "Progress: 51/94 - keyword: neighbors, tfidf: 0.09301275710257004\n",
      "All links:  ['https://www.merriam-webster.com/dictionary/compete', 'https://competewith.com/', 'https://compete.golfnow.com/', 'https://www.ftc.gov/legal-library/browse/rules/noncompete-rule', 'https://www.governor.virginia.gov/newsroom/news-releases/2022/december/name-954249-en.html', 'https://www.federalregister.gov/documents/2024/05/07/2024-09171/non-compete-clause-rule', 'https://www.dictionary.com/browse/compete', 'https://compete.org/', 'https://sellercentral-europe.amazon.com/seller-forums/discussions/t/c1b347bd9cd7d8d5ca81d605a8a25dc3', 'https://www.yalejreg.com/nc/predicting-the-fate-of-the-ftcs-non-compete-ban/', 'https://www.usef.org/compete', 'https://www.congress.gov/bill/118th-congress/house-bill/159', 'https://dictionary.cambridge.org/dictionary/english/compete', 'https://business.ca.gov/california-competes-tax-credit/', 'https://pollardllc.com/florida-non-compete-lawyer-flat-fee/', 'https://competela.org/', 'https://www.gsa.gov/sell-to-government/step-2-compete-for-a-contract', 'https://www.aeaweb.org/articles?id=10.1257/jep.8.2.117', 'https://code.dccouncil.gov/us/dc/council/laws/24-175', 'https://www.usfigureskating.org/skate/compete/compete-usa']\n",
      "Failed to scrape https://dictionary.cambridge.org/dictionary/english/compete: ('Connection aborted.', RemoteDisconnected('Remote end closed connection without response'))\n",
      "Progress: 52/94 - keyword: compete, tfidf: 0.06319981595072564\n",
      "All links:  ['https://www.foodsourceinc.com/', 'https://projectbread.org/foodsource-hotline', 'https://www.yelp.com/biz/food-source-stockton', 'https://kansasfoodsource.org/', 'https://www.reddit.com/r/Oxygennotincluded/comments/18ffvtr/best_food_source_for_you/', 'https://www.chhs.colostate.edu/fsi/', 'https://www.reddit.com/r/Oxygennotincluded/comments/tv3k1n/sustainable_food_source/', 'https://www.nwf.org/Garden-for-Wildlife/Food', 'https://www.reddit.com/r/dontstarve/comments/13sns9h/long_term_food_source/', 'https://www.ers.usda.gov/publications/pub-details/?pubid=105955', 'https://www.reddit.com/r/allthemods/comments/ugmjbx/best_food_source_in_atm6/', 'https://en.wikipedia.org/wiki/Food', 'https://fdc.nal.usda.gov/', 'https://onlinelibrary.wiley.com/doi/abs/10.1002/jsfa.898', 'https://ods.od.nih.gov/factsheets/VitaminB12-HealthProfessional/', 'https://www.indeed.com/q-food-source-l-stockton,-ca-jobs.html', 'https://www.nature.com/articles/s42003-021-01764-4', 'https://forum.rpg.net/index.php?threads/zombies-alternate-food-source-card.544938/', 'https://pubmed.ncbi.nlm.nih.gov/38492022/', 'https://specialtyfoodsource.com/']\n",
      "Failed to scrape https://www.nwf.org/Garden-for-Wildlife/Food: HTTPSConnectionPool(host='www.nwf.org', port=443): Max retries exceeded with url: /Garden-for-Wildlife/Food (Caused by SSLError(SSLCertVerificationError(1, '[SSL: CERTIFICATE_VERIFY_FAILED] certificate verify failed: unable to get local issuer certificate (_ssl.c:1122)')))\n",
      "Progress: 53/94 - keyword: food source, tfidf: 0.06562797594783672\n",
      "All links:  ['https://www.conservation.org/', 'https://mdc.mo.gov/', 'https://www.conservationfund.org/', 'https://www.iucn.org/', 'https://fsa.usda.gov/programs-and-services/conservation-programs/conservation-reserve-program/index', 'https://www.nrcs.usda.gov/programs-initiatives/csp-conservation-stewardship-program', 'https://fsa.usda.gov/programs-and-services/conservation-programs/index', 'https://www.wcs.org/', 'https://thesca.org/', 'https://dec.ny.gov/', 'https://www.iucnredlist.org/', 'https://www.usda.gov/topics/conservation', 'https://www.merriam-webster.com/dictionary/conservation', 'https://www.dcnr.pa.gov/', 'https://conbio.onlinelibrary.wiley.com/journal/15231739', 'https://conservationco.org/', 'https://www.culturalheritage.org/', 'https://conservationnw.org/', 'https://conservationlegacy.org/', 'https://wildlife.ca.gov/Conservation']\n",
      "Failed to scrape https://fsa.usda.gov/programs-and-services/conservation-programs/index: HTTPSConnectionPool(host='www.fsa.usda.gov', port=443): Read timed out. (read timeout=10)Failed to scrape https://fsa.usda.gov/programs-and-services/conservation-programs/conservation-reserve-program/index: HTTPSConnectionPool(host='www.fsa.usda.gov', port=443): Read timed out. (read timeout=10)\n",
      "\n",
      "Progress: 54/94 - keyword: conservation, tfidf: 0.1344599622183945\n",
      "All links:  ['https://training.fema.gov/is/courseoverview.aspx?code=is-100.c', 'https://pll.harvard.edu/course/cs50-introduction-computer-science', 'https://www.ada.gov/topics/intro-to-ada/', 'https://www.merriam-webster.com/dictionary/introduction', 'https://www.dictionary.com/browse/introduction', 'https://writingcenter.uagc.edu/introductions-conclusions', 'https://www.edx.org/learn/computer-science/harvard-university-cs50-s-introduction-to-computer-science', 'https://clep.collegeboard.org/clep-exams/introduction-educational-psychology', 'https://www.nngroup.com/articles/usability-101-introduction-to-usability/', 'https://www.pomona.edu/administration/writing-center/student-resources/general-writing-resources/role-introduction', 'https://github.com/victoriadrake/hugo-theme-introduction', 'https://vuejs.org/guide/introduction.html', 'https://getbootstrap.com/docs/5.0/getting-started/introduction/', 'https://sre.google/sre-book/introduction/', 'https://platform.openai.com/docs/introduction', 'https://learnyouahaskell.com/introduction', 'https://ori.hhs.gov/ori-introduction-responsible-conduct-research', 'https://community.qualtrics.com/survey-platform-before-march-2021-56/how-do-you-put-in-the-survey-introduction-and-instructions-348', 'https://writingcenter.unc.edu/tips-and-tools/introductions/', 'https://blogs.ubc.ca/khead/research/research-advice/formula']\n",
      "Progress: 55/94 - keyword: introduction, tfidf: 0.0661641600392562\n",
      "All links:  ['https://harmreduction.org/about-us/principles-of-harm-reduction/', 'https://www.samhsa.gov/find-help/harm-reduction', 'https://harmreduction.org/', 'https://www.merriam-webster.com/dictionary/harm', 'https://dictionary.cambridge.org/dictionary/english/harm', 'https://www.nj.gov/health/hivstdtb/hrc', 'https://www.who.int/initiatives/medication-without-harm', 'https://hri.global/what-is-harm-reduction/', 'https://www.nybooks.com/articles/2024/07/18/agreeing-to-our-harm-marilynne-robinson/', 'https://noharm.org/', 'https://www.vdh.virginia.gov/disease-prevention/chr/', 'https://www.urban.org/research/publication/do-no-harm-guide-applying-equity-awareness-data-visualization', 'https://www.harmreductionohio.org/', 'https://nida.nih.gov/news-events/news-releases/2022/12/nih-launches-harm-reduction-research-network-to-prevent-overdose-fatalities', 'https://www.mass.gov/orgs/harm-reduction-commission', 'https://www.networkforphl.org/resources/topics/projects/harm-reduction-legal-project/', 'https://chfs.ky.gov/agencies/dph/Pages/harmreduction.aspx', 'https://www.af.mil/About-Us/Fact-Sheets/Display/Article/104574/agm-88-harm/', 'https://en.wikipedia.org/wiki/Harm', 'https://support.google.com/websearch/answer/45449?hl=en']\n",
      "Failed to scrape https://dictionary.cambridge.org/dictionary/english/harm: ('Connection aborted.', RemoteDisconnected('Remote end closed connection without response'))\n",
      "Progress: 56/94 - keyword: harm, tfidf: 0.13329076012633964\n",
      "All links:  ['https://www.instagram.com/invaderwashere/?hl=en', 'https://www.newyorker.com/magazine/2005/04/25/invaders-3', 'https://www.imdb.com/title/tt0061265/', 'https://www.bonescoffee.com/products/mint-invaders-12oz', 'https://hollywoodburns.bandcamp.com/album/invaders', 'https://en.wikipedia.org/wiki/The_Invaders', 'https://www.reddit.com/r/MarvelStrikeForce/comments/123npbt/invaders_arent_good_even_in_raids/', 'https://forum.chickeninvaders.com/t/legendary-tracking-topic/7384', 'https://www.reddit.com/r/MarvelStrikeForce/comments/17h90cm/are_invaders_bad/', 'https://github.com/sausheong/invaders', 'https://www.reddit.com/r/MarvelStrikeForce/comments/136qaxr/who_to_focus_on_building_first_rebirth_vs_invaders/', 'https://www.hup.harvard.edu/books/9780674975415', 'https://www.reddit.com/r/MarvelStrikeForce/comments/1768f4j/invaders_counter_room_2_in_cc/', 'https://pbskids.org/plumlanding/games/invaders/index.html', 'https://www.reddit.com/r/MarvelStrikeForce/comments/12meppn/invaders_are_legit_full_team_demolishes_doom_raid/', 'https://forum.gamemaker.io/index.php?threads/space-invaders-style-movement.73957/', 'https://www.reddit.com/r/eldenringdiscussion/comments/1aglncv/best_weapon_to_defend_yourself_against_invaders/', 'https://www.politico.eu/article/viktor-orban-hungary-doesnt-want-muslim-invaders/', 'https://www.reddit.com/r/RiseofEmpires/comments/1ccuwjq/fending_off_invaders_mini_game/', 'https://www.ignite-films.com/products/invaders-from-mars']\n",
      "Progress: 57/94 - keyword: invaders, tfidf: 0.033004563036295856\n",
      "All links:  ['https://plantbasedfoods.org/', 'https://www.health.harvard.edu/blog/what-is-a-plant-based-diet-and-why-should-you-try-it-2018092614760', 'https://en.wikipedia.org/wiki/Plant-based_diet', 'https://www.forksoverknives.com/how-tos/plant-based-primer-beginners-guide-starting-plant-based-diet/', 'https://plantbasedtreaty.org/', 'https://www.yogurtland.com/flavors/view/5451/plant-based-salted-chocolate-souffl', 'https://www.plantbasedpizzeria.net/', 'https://shop.barebells.com/product-category/plant-based/', 'https://pbpc.com/', 'https://www.gardein.com/beefless-and-porkless/classics/ultimate-plant-based-burger', 'https://www.theosplantbased.com/', 'https://www.healthline.com/nutrition/plant-based-diet-guide', 'https://siggis.com/product/sweetened-plain-plant-based-24oz', 'https://plantbasedrdblog.com/', 'https://plantbasedseafoodco.com/', 'https://www.cuimc.columbia.edu/news/what-plant-based-diet-and-it-healthy', 'https://www.rasplantbased.com/', 'https://www.jamba.com/smoothies/plant-based', 'https://www.earthplantbased.com/', 'https://shop.trifectanutrition.com/shop/meal-plans/vegan-meal-plan/']\n",
      "Progress: 58/94 - keyword: plant-based, tfidf: 0.0\n",
      "All links:  ['https://www.usda.gov/', 'https://www.agriculture.com/', 'https://texasagriculture.gov/', 'https://en.wikipedia.org/wiki/Agriculture', 'https://www.fdacs.gov/', 'https://www.nass.usda.gov/AgCensus/', 'https://www.cdfa.ca.gov/', 'https://www.nifa.usda.gov/', 'https://www.agriculture.ks.gov/', 'http://www.fsis.usda.gov/', 'https://www.fao.org/home/en', 'https://www.mdpi.com/journal/agriculture', 'https://agri.ohio.gov/', 'https://agr.wa.gov/', 'https://www.mda.state.mn.us/', 'https://www.nrcs.usda.gov/', 'https://www.agriculture.pa.gov/', 'https://www.aphis.usda.gov/', 'https://ag.colorado.gov/', 'https://www.agriculture.senate.gov/']\n",
      "Failed to scrape http://www.fsis.usda.gov/: HTTPConnectionPool(host='www.fsis.usda.gov', port=80): Read timed out. (read timeout=10)\n",
      "Progress: 59/94 - keyword: agriculture, tfidf: 0.06432441874929076\n",
      "All links:  ['https://en.wikipedia.org/wiki/Pest_(organism)', 'https://www.maine.gov/dacf/php/gotpests/whatisapest/index.shtml', 'https://www.aphis.usda.gov/plant-pests-diseases/hungry-pests', 'https://ccmedia.fdacs.gov/content/download/2984/file/pesticide', 'https://www.cdfa.ca.gov/plant/PDEP/target_pests.html', 'https://homesteadbrooklyn.com/all/2017/1/17/common-insects-pests-on-houseplants', 'https://www.epa.gov/safepestcontrol/dos-and-donts-pest-control', 'https://mda.maryland.gov/plants-pests/Pages/spotted-lantern-fly.aspx', 'https://www.epa.gov/insect-repellents/list-pests-significant-public-health-importance', 'https://ipm.ucanr.edu/agriculture/', 'https://www.merriam-webster.com/dictionary/pest', 'https://ipm.ucanr.edu/home-and-landscape/', 'https://www.ers.usda.gov/topics/farm-practices-management/crop-livestock-practices/pest-management/', 'https://agr.wa.gov/departments/insects-pests-and-weeds', 'https://portal.311.nyc.gov/article/?kanumber=KA-02278', 'https://hgic.clemson.edu/factsheet/common-houseplant-insects-related-pests/', 'https://invasivespecies.idaho.gov/pests', 'https://invasivespecies.wa.gov/projects/pest-ready/', 'https://mitppc.umn.edu/', 'https://guides.sll.texas.gov/landlord-tenant-law/repairs-mold-pests']\n",
      "Failed to scrape https://ipm.ucanr.edu/agriculture/: HTTPSConnectionPool(host='ipm.ucanr.edu', port=443): Max retries exceeded with url: /agriculture/ (Caused by SSLError(SSLCertVerificationError(1, '[SSL: CERTIFICATE_VERIFY_FAILED] certificate verify failed: unable to get local issuer certificate (_ssl.c:1122)')))\n",
      "Failed to scrape https://ipm.ucanr.edu/home-and-landscape/: HTTPSConnectionPool(host='ipm.ucanr.edu', port=443): Max retries exceeded with url: /home-and-landscape/ (Caused by SSLError(SSLCertVerificationError(1, '[SSL: CERTIFICATE_VERIFY_FAILED] certificate verify failed: unable to get local issuer certificate (_ssl.c:1122)')))\n",
      "Failed to scrape https://invasivespecies.wa.gov/projects/pest-ready/: HTTPSConnectionPool(host='invasivespecies.wa.gov', port=443): Max retries exceeded with url: /projects/pest-ready/ (Caused by SSLError(SSLCertVerificationError(1, '[SSL: CERTIFICATE_VERIFY_FAILED] certificate verify failed: unable to get local issuer certificate (_ssl.c:1122)')))\n"
     ]
    },
    {
     "name": "stderr",
     "output_type": "stream",
     "text": [
      "Some characters could not be decoded, and were replaced with REPLACEMENT CHARACTER.\n"
     ]
    },
    {
     "name": "stdout",
     "output_type": "stream",
     "text": [
      "Progress: 60/94 - keyword: pests, tfidf: 0.05285490212813814\n",
      "All links:  ['https://www.range.com/', 'https://www.range.co/', 'https://www.merriam-webster.com/dictionary/range', 'https://www.range.net/', 'https://rangechicago.com/', 'https://www.frontrange.edu/index.html', 'https://docs.python.org/3/library/stdtypes.html', 'https://www.rangebank.com/', 'https://docs.python.org/3/library/functions.html', 'https://rangesa.com/', 'https://www.rangedowntown.com/', 'https://www.facebook.com/therangemusic/', 'https://www.php.net/manual/en/function.range.php', 'https://rangecafe.com/', 'https://www.landrover.com/range-rover/range-rover/index.html', 'https://www.landroverusa.com/range-rover/range-rover/index.html', 'http://burrow.com/living-room/seating/range', 'https://rangeusa.com/', 'https://www.dictionary.com/browse/range', 'https://developers.google.com/apps-script/reference/spreadsheet/range']\n",
      "Progress: 61/94 - keyword: range, tfidf: 0.13915301297213176\n",
      "All links:  ['https://www.spreadbagelry.com/', 'https://developer.mozilla.org/en-US/docs/Web/JavaScript/Reference/Operators/Spread_syntax', 'https://www.thespreadsono.com/', 'https://www.merriam-webster.com/dictionary/spread', 'https://www.jif.com/peanut-butter/creamy/peanut-butter-chocolate', 'https://spread-web.jp/', 'https://spreadthelovefoods.com/', 'https://www.imdb.com/title/tt1186370/', 'https://spreadthewordnevada.org/', 'https://www.icantbelieveitsnotbutter.com/en/products/original', 'https://spread.co.jp/en/', 'https://www.cdc.gov/respiratory-viruses/prevention/precautions-when-sick.html', 'https://tidyr.tidyverse.org/reference/spread.html', 'https://www.cdc.gov/tb/causes/index.html', 'https://www.cancerresearchuk.org/about-cancer/what-is-cancer/how-cancer-can-spread', 'https://spreadnc.com/', 'https://en.wikipedia.org/wiki/Spread_(film)', 'http://spread.org/', 'https://www.smuckers.com/fruit-spreads/natural/natural-strawberry-fruit-spread', 'https://www.slowthespread.org/']\n",
      "Progress: 62/94 - keyword: spread, tfidf: 0.11939595854363919\n",
      "All links:  ['https://kids.nationalgeographic.com/nature/habitats', 'https://en.wikipedia.org/wiki/Habitat', 'https://www.erdc.usace.army.mil/Media/Fact-Sheets/Fact-Sheet-Article-View/Article/1920665/harmful-algal-bloom-interception-treatment-and-transformation-system-habitats/', 'https://animals.sandiegozoo.org/habitats', 'https://ssec.si.edu/habitats', 'https://www.flaquarium.org/visit/habitats/', 'https://australian.museum/learn/species-identification/ask-an-expert/what-is-a-habitat/', 'https://www.habitat.org/', 'https://cpw.state.co.us/conservation/Pages/CON-Habitats.aspx', 'https://www.eea.europa.eu/en/topics/at-a-glance/nature/state-of-nature-in-europe-a-health-check/habitats-and-species-latest-status-and-trends', 'https://wdfw.wa.gov/species-habitats/at-risk/phs', 'https://boardgamegeek.com/boardgame/200853/habitats', 'https://environment.ec.europa.eu/topics/nature-and-biodiversity/habitats-directive_en', 'https://wdfw.wa.gov/species-habitats', 'https://www.fisheries.noaa.gov/feature-story/study-assesses-vulnerability-coastal-habitats-climate-change-northeast-united-states', 'https://gf.nd.gov/education/habitats-of-nd', 'https://esajournals.onlinelibrary.wiley.com/doi/10.2307/1942161', 'https://grandfather.com/visit/things-to-do/wildlife-habitats/', 'https://www.zenhabitats.com/', 'https://www.nwf.org/Garden-for-Wildlife/Create/Schoolyards']\n",
      "Failed to scrape https://www.nwf.org/Garden-for-Wildlife/Create/Schoolyards: HTTPSConnectionPool(host='www.nwf.org', port=443): Max retries exceeded with url: /Garden-for-Wildlife/Create/Schoolyards (Caused by SSLError(SSLCertVerificationError(1, '[SSL: CERTIFICATE_VERIFY_FAILED] certificate verify failed: unable to get local issuer certificate (_ssl.c:1122)')))\n",
      "Progress: 63/94 - keyword: habitats, tfidf: 0.07631084298258604\n",
      "All links:  ['https://en.wikipedia.org/wiki/Coexist_(image)', 'https://www.getcoexist.com/', 'https://upstanderproject.org/films/coexist', 'https://www.merriam-webster.com/dictionary/coexist', 'https://www.washingtonpost.com/lifestyle/2024/05/09/how-co-exist-with-belligerent-catbird/', 'https://www.vox.com/2016/6/8/11867438/coexist-logo-bumper-sticker', 'https://www.usda.gov/topics/farming/coexistence', 'https://www.nature.com/articles/nature13946', 'https://www.coexistgaming.com/', 'https://www.linkedin.com/pulse/growth-comfort-do-coexist-jeremiah-dangler', 'https://mfnn.org/resource/can-we-should-we-really-coexist/', 'https://www.dictionary.com/browse/coexist', 'https://buschgardens.com/williamsburg/tours/howl-to-coexist/', 'https://community.st.com/t5/stm32-mcus-touchgfx-and-gui/touchgfx-openamp-coexist-issue/td-p/575190', 'https://www.imf.org/en/Blogs/Articles/2021/02/18/blog-public-and-private-money-can-coexist-in-the-digital-age', 'https://www.coexiststables.com/', 'https://www.sdhumane.org/programs/project-wildlife/coexist.html', 'https://www.bearsmart.com/blog/can-we-coexist/', 'https://gshock.casio.com/us/products/collection/coexist/', 'https://mountainlion.org/coexistence/']\n",
      "Progress: 64/94 - keyword: coexist, tfidf: 0.08060565892355202\n",
      "All links:  ['https://balanceapp.com/', 'https://www.getbalance.com/', 'https://www.merriam-webster.com/dictionary/balance', 'https://www.newbalance.com/', 'https://www.nidcd.nih.gov/health/balance-disorders', 'https://play.google.com/store/apps/details?id=com.elevatelabs.geonosis&hl=en_US', 'https://www.balancepro.org/', 'https://www.balance-menopause.com/', 'https://www.thebalancerestaurant.com/', 'https://www.health.harvard.edu/topics/balance', 'https://www.federalreserve.gov/monetarypolicy/bst_recenttrends.htm', 'https://www.investopedia.com/terms/b/balancesheet.asp', 'https://www.imf.org/external/pubs/ft/bop/2007/bopman6.htm', 'https://www.nia.nih.gov/health/falls-and-falls-prevention/older-adults-and-balance-problems', 'https://www.irs.gov/payments/online-account-for-individuals', 'https://balance.it/', 'https://balancegrille.com/', 'https://www.imf.org/en/Publications/SPROLLs/imf-committee-on-balance-of-payments-statistics-ar', 'https://www.ncaa.org/sports/2014/9/25/life-in-the-balance.aspx', 'https://shop.balance.it/collections/all']\n",
      "Progress: 65/94 - keyword: balance, tfidf: 0.10183155834380635\n",
      "All links:  ['https://www.esa.org/', 'https://www.merriam-webster.com/dictionary/ecological', 'https://www.sciencedirect.com/journal/ecological-economics', 'https://www.footprintcalculator.org/', 'https://www.sciencedirect.com/journal/ecological-indicators', 'https://www.footprintnetwork.org/our-work/ecological-footprint/', 'https://en.wikipedia.org/wiki/Ecology', 'https://esajournals.onlinelibrary.wiley.com/journal/15577015', 'https://resjournals.onlinelibrary.wiley.com/journal/13652311', 'https://esajournals.onlinelibrary.wiley.com/journal/19395582', 'https://www.dnr.state.mn.us/ecs/index.html', 'https://esajournals.onlinelibrary.wiley.com/hub/journal/15577015/aims-and-scope/read-full-aims-and-scope', 'https://besjournals.onlinelibrary.wiley.com/journal/26888319', 'https://esajournals.onlinelibrary.wiley.com/', 'https://www.visionofhumanity.org/maps/ecological-threat-report/', 'https://www.natureserve.org/products/terrestrial-ecological-systems-united-states', 'https://grow.oeffa.org/', 'https://eri.nau.edu/', 'https://bulletin.auburn.edu/undergraduate/samuelginncollegeofengineering/departmentofbiosystemsengineering/ecologicalengineeringoption_major/', 'https://www.ser.org/']\n",
      "Progress: 66/94 - keyword: ecological, tfidf: 0.0756011628820282\n",
      "All links:  ['https://www.merriam-webster.com/dictionary/variation', 'https://www.ncbi.nlm.nih.gov/guide/variation/', 'https://data.cms.gov/summary-statistics-on-use-and-payments/medicare-geographic-comparisons/medicare-geographic-variation-by-national-state-county', 'https://www.ncbi.nlm.nih.gov/clinvar/', 'https://www.ema.europa.eu/en/glossary/variation', 'https://www.acquisition.gov/far/52.211-18', 'https://sellercentral-europe.amazon.com/seller-forums/discussions/t/769df1ebc613bcbeeec0cf41334464de', 'http://www.bsg.ox.ac.uk/research/publications/variation-government-responses-covid-19', 'https://sellercentral-europe.amazon.com/seller-forums/discussions/t/c28751cb0a291b1940e1006c0a5e8027', 'https://www.lovd.nl/', 'https://fingertips.phe.org.uk/profile/atlas-of-variation', 'https://www.ebi.ac.uk/eva/', 'https://www.bis.org/bcbs/publ/d362.htm', 'https://arxiv.org/abs/1710.10196', 'https://www.ncleg.gov/EnactedLegislation/Statutes/PDF/BySection/Chapter_47f/GS_47F-1-104.pdf', 'https://www.britannica.com/science/variation-biology', 'https://www.eurocontrol.int/Economics/DailyTrafficVariation-States.html', 'https://www.kff.org/report-section/state-variation-in-medicaid-ltss-policy-choices-and-implications-for-upcoming-policy-debates-issue-brief/', 'https://iovs.arvojournals.org/article.aspx?articleid=2126887', 'https://www.nj.gov/dca/codes/forms/pdf_ucc_stdforms/ucc_f160_app_for_var.pdf']\n"
     ]
    },
    {
     "name": "stderr",
     "output_type": "stream",
     "text": [
      "Some characters could not be decoded, and were replaced with REPLACEMENT CHARACTER.\n"
     ]
    },
    {
     "name": "stdout",
     "output_type": "stream",
     "text": [
      "Progress: 67/94 - keyword: variation, tfidf: 0.07388602791729074\n",
      "All links:  ['https://www.census.gov/popclock/', 'https://www.worldometers.info/world-population/', 'https://data.worldbank.org/indicator/SP.POP.TOTL', 'https://population.un.org/wpp/', 'https://popcouncil.org/', 'https://www.prb.org/', 'https://ourworldindata.org/population-growth', 'https://data.oecd.org/pop/population.htm', 'https://www.un.org/development/desa/pd/', 'https://www.unfpa.org/', 'https://ofm.wa.gov/washington-data-research/population-demographics', 'https://en.wikipedia.org/wiki/Population', 'https://www.populationmedia.org/', 'https://ofm.wa.gov/sites/default/files/public/dataresearch/pop/april1/ofm_april1_population_final.pdf', 'https://populationconnection.org/', 'https://www.osbm.nc.gov/facts-figures/population-demographics/state-demographer/countystate-population-projections', 'https://data.census.gov/', 'https://bhw.hrsa.gov/workforce-shortage-areas/shortage-designation', 'https://opb.georgia.gov/census-data/population-projections', 'https://lsom.uthscsa.edu/phs/']\n"
     ]
    },
    {
     "name": "stderr",
     "output_type": "stream",
     "text": [
      "Some characters could not be decoded, and were replaced with REPLACEMENT CHARACTER.\n"
     ]
    },
    {
     "name": "stdout",
     "output_type": "stream",
     "text": [
      "Progress: 68/94 - keyword: population, tfidf: 0.12411888422974915\n",
      "All links:  ['https://www.ecdc.europa.eu/en/publications-and-data/monitoring/weekly-threats-reports', 'https://www.congress.gov/bill/115th-congress/senate-bill/2836', 'https://www.ecdc.europa.eu/en/publications-data/communicable-disease-threats-report-22-28-june-2024-week-26', 'https://www.justice.gov/opa/blog/justice-department-launches-task-force-combat-threats-against-election-workers-0', 'https://www.fws.gov/library/collections/threats-birds', 'https://myfwc.com/research/wildlife/sea-turtles/threats/', 'http://www.uscp.gov/media-center/press-releases/uscp-threat-assessment-cases-2023', 'https://www.nps.gov/subjects/bats/threats-to-bats.htm', 'https://www.cdc.gov/antimicrobial-resistance/data-research/threats/index.html', 'https://www.nato.int/cps/en/natohq/topics_156338.htm', 'https://training.fema.gov/is/courseoverview.aspx?code=is-915', 'https://www.dni.gov/files/ODNI/documents/assessments/ICA-declass-16MAR21.pdf', 'https://www.who.int/news-room/spotlight/ten-threats-to-global-health-in-2019', 'https://www.fisheries.noaa.gov/west-coast/endangered-species-conservation/saving-southern-resident-killer-whales', 'https://health.ec.europa.eu/publications/hera-factsheet-health-union-identifying-top-3-priority-health-threats_en', 'https://www.fbi.gov/investigate/cyber', 'https://www.dhs.gov/national-terrorism-advisory-system', 'https://www.fbi.gov/news/stories/hoax-threats-awareness-100518', 'https://bridgingdivides.princeton.edu/UnderstandingThreats', 'https://www.cisa.gov/topics/cyber-threats-and-advisories']\n"
     ]
    },
    {
     "name": "stderr",
     "output_type": "stream",
     "text": [
      "Some characters could not be decoded, and were replaced with REPLACEMENT CHARACTER.\n"
     ]
    },
    {
     "name": "stdout",
     "output_type": "stream",
     "text": [
      "Progress: 69/94 - keyword: threats, tfidf: 0.05279186253227881\n",
      "All links:  ['https://www.un.org/en/climatechange/science/climate-issues/biodiversity', 'https://www.worldwildlife.org/pages/what-is-biodiversity', 'https://education.nationalgeographic.org/resource/biodiversity/', 'https://en.wikipedia.org/wiki/Biodiversity', 'https://environment.ec.europa.eu/strategy/biodiversity-strategy-2030_en', 'https://www.amnh.org/research/center-for-biodiversity-conservation/what-is-biodiversity', 'https://www.cepf.net/our-work/biodiversity-hotspots', 'https://www.conservation.org/priorities/biodiversity-hotspots', 'https://www.ipbes.net/node/36759', 'https://www.biodiversitylibrary.org/', 'https://www.gbif.org/', 'https://www.cbd.int/sp/targets', 'https://www.financeforbiodiversity.org/', 'https://www.unep.org/news-and-stories/press-release/our-global-food-system-primary-driver-biodiversity-loss', 'https://unbiodiversitylab.org/en/', 'https://nap.nationalacademies.org/catalog/989/biodiversity', 'https://www.eea.europa.eu/en/topics/in-depth/biodiversity', 'https://www.usaid.gov/policy/biodiversity', 'https://www.who.int/news-room/fact-sheets/detail/biodiversity-and-health', 'https://briwildlife.org/']\n",
      "Progress: 70/94 - keyword: biodiversity, tfidf: 0.12438239829131059\n",
      "All links:  ['https://en.wikipedia.org/wiki/Vegetarianism', 'https://www.health.harvard.edu/staying-healthy/becoming-a-vegetarian', 'https://www.mayoclinic.org/healthy-lifestyle/nutrition-and-healthy-eating/in-depth/vegetarian-diet/art-20046446', 'https://www.reddit.com/r/vegetarian/', 'https://www.vegetariantimes.com/', 'https://www.merriam-webster.com/dictionary/vegetarian', 'https://whatsgabycooking.com/category/categories/vegetarian/', 'https://www.vegetarianventures.com/', 'https://www.nhs.uk/live-well/eat-well/how-to-eat-a-balanced-diet/the-vegetarian-diet/', 'https://www.betterhealth.vic.gov.au/health/healthyliving/vegetarian-and-vegan-eating', 'https://www.healthline.com/nutrition/vegan-vs-vegetarian', 'https://smittenkitchen.com/recipes/diet/vegetarian/', 'https://www.delish.com/cooking/menus/g1486/healthy-vegetarian-dinner-recipes/', 'https://www.vrg.org/', 'https://www.washingtonpost.com/lifestyle/food/a-former-omnivore-comes-out-as-vegetarian/2013/03/04/4868316a-8054-11e2-8074-b26a871b165a_story.html', 'https://www.recipetineats.com/category/vegetarian-recipes/', 'https://www.nytimes.com/2016/02/07/books/review/the-vegetarian-by-han-kang.html', 'https://www.loveandlemons.com/', 'https://www.nytimes.com/2024/05/23/dining/very-delicious-vegetarian-eating.html', 'https://www.ranchogordo.com/blogs/recipes/tagged/vegetarian']\n",
      "Progress: 71/94 - keyword: vegetarian, tfidf: 0.08855125216238792\n",
      "All links:  ['https://us.scarpa.com/instinct', 'https://en.wikipedia.org/wiki/Instinct', 'https://www.merriam-webster.com/dictionary/instinct', 'https://instinctpetfood.com/', 'https://www.britannica.com/topic/instinct', 'http://www.birthinginstincts.com/birthing-instincts', 'https://www.clairol.com/en-US/products/product/natural-instincts', 'https://www.wildinstinctsrehab.com/', 'https://moderawealth.com/rattlesnakes-instincts-and-investing/', 'https://www.pittsburghzoo.org/animal-instincts-valentines-dinner/', 'https://www.linkedin.com/pulse/go-your-gut-guide-trusting-instincts-work-maura-charles', 'https://www.livingwithgotlands.com/2015/11/the-natural-instincts-of-border-collies/', 'https://www.bbc.com/worklife/article/20220401-intuition-when-is-it-right-to-trust-your-gut-instincts', 'https://www.linkedin.com/pulse/leadership-instincts-listen-amplify-include-general-martin-e-dempsey', 'https://fs.blog/knowledge-project-podcast/diana-chapman/', 'https://animalinstinctsapparel.com/', 'https://www.facebook.com/equineinstinctsstudio/', 'https://medium.com/@haileymagee/how-to-trust-your-instincts-when-outgrowing-a-friendship-37443b66a4b4', 'https://www.fredhutch.org/en/news/center-news/2015/04/instinctive-reactions-to-smells-linked-to-olfactory-neurons.html', 'https://stylecraftus.com/instinct-metal-clipper-professional-hair-clipper-with-vector-i-t-c-motor.html']\n",
      "Progress: 72/94 - keyword: instincts, tfidf: 0.044954101907065565\n",
      "All links:  ['https://preyproject.com/', 'https://en.wikipedia.org/wiki/Prey_(2022_film)', 'https://www.imdb.com/title/tt11866324/', 'https://prey.bethesda.net/', 'https://store.steampowered.com/app/480490/Prey/', 'https://www.preytaxidermy.com/', 'https://www.reddit.com/r/prey/', 'https://www.hulu.com/movie/prey-55349764-323e-4d0e-898f-a4c12c9bf615', 'https://www.youtube.com/@IMPREY', 'https://apps.apple.com/us/app/prey-find-my-phone-security/id456755037', 'https://play.google.com/store/apps/details?id=com.prey&hl=en_US', 'https://steamcommunity.com/app/480490', 'https://www.merriam-webster.com/dictionary/prey', 'https://www.rottentomatoes.com/m/prey_2022', 'https://store.epicgames.com/en-US/p/prey', 'https://www.instagram.com/rprey00/?hl=en', 'https://panel.preyproject.com/', 'https://www.netflix.com/title/81350329', 'http://www.nmasercola.com/prey', 'https://www.amazon.com/Prey-Michael-Crichton/dp/0066214122']\n",
      "Progress: 73/94 - keyword: prey, tfidf: 0.14271460797828472\n",
      "All links:  ['https://www.worldwildlife.org/species/directory?direction=desc&sort=extinction_status', 'https://www.fws.gov/program/endangered-species', 'https://en.wikipedia.org/wiki/Endangered_species', 'https://www.fws.gov/law/endangered-species-act', 'https://www.iucnredlist.org/', 'https://www.endangered.org/', 'https://www.maine.gov/ifw/fish-wildlife/wildlife/endangered-threatened-species/listed-species.html', 'https://www.endangered.org/campaigns/endangered-species-day/', 'https://www.endangeredwolfcenter.org/', 'https://www.epa.gov/laws-regulations/summary-endangered-species-act', 'https://www.fisheries.noaa.gov/topic/laws-policies', 'https://savingplaces.org/americas-most-endangered-historic-places', 'https://wildlife.ca.gov/Conservation/CESA', 'https://savingplaces.org/stories/11-most-endangered-historic-places-2024', 'https://dep.nj.gov/njfw/wildlife/endangered-and-nongame-species/', 'https://www.fisheries.noaa.gov/topic/endangered-species-conservation', 'https://www.epa.gov/endangered-species', 'https://www.elalliance.org/', 'https://dnr.wisconsin.gov/topic/erreview/review', 'https://www.miamidade.gov/environment/endangered-lands.asp']\n",
      "Progress: 74/94 - keyword: endangered, tfidf: 0.1170201738488859\n",
      "All links:  ['https://www.remedygames.com/games/control', 'https://www.merriam-webster.com/dictionary/control', 'https://www.cdc.gov/index.html', 'https://en.wikipedia.org/wiki/Control_(video_game)', 'https://store.steampowered.com/app/870780/Control_Ultimate_Edition/', 'https://store.epicgames.com/en-US/p/control', 'https://www.cbp.gov/travel/us-citizens/mobile-passport-control', 'https://www.dictionary.com/browse/control', 'https://vi-control.net/community/', 'https://www.controlglobal.com/', 'https://www.bis.doc.gov/index.php/regulations/commerce-control-list-ccl', 'https://www.imdb.com/title/tt0421082/', 'https://www.armscontrol.org/node/13866', 'https://www.sciencedirect.com/journal/control-engineering-practice', 'https://sanctionssearch.ofac.treas.gov/', 'https://www.controlrisks.com/', 'https://tobaccocontrol.bmj.com/', 'https://www.waterboards.ca.gov/', 'https://masscannabiscontrol.com/home/', 'https://control.fandom.com/wiki/Control']\n",
      "Progress: 75/94 - keyword: control, tfidf: 0.11560635918659397\n",
      "All links:  ['https://www.merriam-webster.com/dictionary/lag', 'https://en.wikipedia.org/wiki/Lag', 'https://community.monday.com/t/dependency-new-lag-time-beta-testing/65156', 'https://www.instagram.com/this.is.lag/?hl=en', 'https://community.netgear.com/t5/Managed-Switches/GSM7228PS-LAG-Issues/td-p/1135607', 'https://forum.knime.com/t/lag-column-with-negative-value/7622', 'https://www.statalist.org/forums/forum/general-stata-discussion/general/1368592-lag-regression-by-one-year', 'https://community.smartsheet.com/discussion/3804/question-regarding-lag-times', 'https://community.juniper.net/discussion/mc-lag-vs-evpn', 'https://community.alteryx.com/t5/Alteryx-Designer-Desktop-Discussions/What-can-I-do-to-get-rid-of-the-massive-lag-while-dragging/td-p/1007994', 'https://www.facebook.com/This.is.Lag/', 'https://www.dictionary.com/browse/lag', 'https://community.ruckuswireless.com/t5/ICX-Switches/ICX-7150-switch-LAG-issues-odd-error-on-one-switch-same-tag-type/m-p/9023', 'https://community.extremenetworks.com/t5/extremeswitching-exos-switch/one-member-of-lag-is-in-a-defaulted-state/m-p/53667', 'https://community-forums.domo.com/main/discussion/56721/lag-lead-function-misses-the-last-iteration', 'https://forums.blurbusters.com/viewforum.php?f=10', 'https://community.arubanetworks.com/discussion/vsx-to-vsx-lag', 'https://answers.microsoft.com/en-us/windows/forum/all/high-definition-audio-device-causes-cursor-lag/93c6e2f0-523f-4594-9943-86e9eaa071da', 'https://community.sophos.com/sophos-xg-firewall/f/discussions/133959/lag-not-working-unless-you-specify-interface-speed', 'https://community.anaplan.com/discussion/51140/performance-comparison-offset-lag-previous-lookup']\n",
      "Progress: 76/94 - keyword: lag, tfidf: 0.13744687294637442\n",
      "All links:  ['https://www.britannica.com/science/feeding-behavior', 'https://pubmed.ncbi.nlm.nih.gov/15839392/', 'https://www.sciencedirect.com/topics/psychology/feeding-behavior', 'https://en.wikipedia.org/wiki/List_of_feeding_behaviours', 'https://news.stanford.edu/stories/2016/09/unique-feeding-habits-whales-come-light', 'https://www.frontiersin.org/journals/earth-science/articles/10.3389/feart.2017.00023/full', 'https://www.nature.com/articles/180560a0', 'https://www.ncbi.nlm.nih.gov/pmc/articles/PMC2619405/', 'https://onlinelibrary.wiley.com/doi/full/10.1111/pala.12597', 'https://menunkatuck.org/unique-feeding-habits-of-doves', 'https://resjournals.onlinelibrary.wiley.com/doi/10.1111/syen.12441', 'https://www.vims.edu/bayinfo/ospreycam/about/feeding/', 'https://aquila.usm.edu/cgi/viewcontent.cgi?article=1169&context=goms', 'https://pubs.acs.org/doi/10.1021/acs.est.7b03585', 'https://www.fao.org/fishery/affris/species-profiles/common-carp/natural-food-and-feeding-habits/en/', 'https://www.dupageforest.org/blog/daring-dragonflies', 'https://journals.plos.org/plosone/article?id=10.1371/journal.pone.0037683', 'https://www.science.org/doi/10.1126/science.284.5415.798', 'https://psycnet.apa.org/record/1992-38008-001', 'https://blogs.ifas.ufl.edu/charlotteco/2015/12/18/seasonal-feeding-habits-of-snook-and-redfish/']\n"
     ]
    },
    {
     "name": "stderr",
     "output_type": "stream",
     "text": [
      "Some characters could not be decoded, and were replaced with REPLACEMENT CHARACTER.\n"
     ]
    },
    {
     "name": "stdout",
     "output_type": "stream",
     "text": [
      "Progress: 77/94 - keyword: feeding habits, tfidf: 0.025538463930587653\n",
      "All links:  ['https://www.merriam-webster.com/dictionary/reproduce', 'https://oceanservice.noaa.gov/education/tutorial_corals/coral06_reproduction.html', 'https://wyss.harvard.edu/news/team-builds-first-living-robots-that-can-reproduce/', 'https://en.wikipedia.org/wiki/Reproduction', 'https://discuss.dvc.org/t/first-run-of-dvc-getting-a-failed-to-reproduce-error/171', 'https://coral.org/en/coral-reefs-101/how-corals-reproduce/', 'https://www.usda.gov/peoples-garden/pollinators', 'https://support.microsoft.com/en-us/windows/record-steps-to-reproduce-a-problem-46582a9b-620f-2e36-00c9-04e25d784e47', 'https://www.cnn.com/2021/11/29/americas/xenobots-self-replicating-robots-scn/index.html', 'https://www.purdue.edu/newsroom/releases/2013/Q1/scientists-learning-how-multiple-genome-plants-reproduce.html', 'https://authorservices.wiley.com/author-resources/Journal-Authors/Prepare/permissions-material.html', 'https://arxiv.org/abs/2304.10145', 'https://www.law.cornell.edu/uscode/text/17/106', 'https://www.ohio.edu/engineering/research/reproduce-laboratory', 'https://www.library.northwestern.edu/find-borrow-request/reproduce-materials/', 'https://www.wolterskluwer.com/en/solutions/uptodate/policies-legal/permission-to-reproduce', 'https://www.bitlaw.com/copyright/scope.html', 'https://www.dictionary.com/browse/reproduce', 'https://www.hedgehogstreet.org/about-hedgehogs/hoglets/', 'https://www.thesaurus.com/browse/reproduce']\n",
      "Progress: 78/94 - keyword: reproduce, tfidf: 0.05399086668617735\n",
      "All links:  ['https://www.merriam-webster.com/dictionary/potentially', 'https://www.hhs.texas.gov/about/process-improvement/improving-services-texans/medicaid-chip-quality-efficiency-improvement/potentially-preventable-events', 'https://ww2.arb.ca.gov/our-work/programs/air-cleaners-ozone-products/potentially-hazardous-ozone-generators-sold-air', 'https://dwd.wisconsin.gov/dvr/policy-guidance/eligibility/potentially-eligible-guidance.htm', 'https://www.piercecountywa.gov/5651/Potentially-Dangerous-or-Dangerous-Anima', 'https://www.epa.gov/enforcement/finding-potentially-responsible-parties-prp', 'https://www.cms.gov/medicare/quality-initiatives-patient-assessment-instruments/nursinghomequalityinits/downloads/fact-sheet-for-potentially-preventable-readmission-measures-for-the-post-acute-care-qrps.pdf', 'https://policymanual.nih.gov/3035', 'https://developers.google.com/android/play-protect/potentially-harmful-applications', 'https://www.fda.gov/tobacco-products/rules-regulations-and-guidance/harmful-and-potentially-harmful-constituents-tobacco-products-and-tobacco-smoke-established-list', 'https://dictionary.cambridge.org/dictionary/english/potentially', 'https://emergency.cdc.gov/han/2024/han00509.asp', 'https://epa.illinois.gov/topics/waste-management/waste-disposal/general-regulations.html', 'https://sanctuaries.noaa.gov/protect/ppw/', 'https://www.cdc.gov/mmwr/volumes/66/ss/ss6602a1.htm', 'https://support.microsoft.com/en-us/windows/protect-your-pc-from-potentially-unwanted-applications-c7668a25-174e-3b78-0191-faf0607f7a6e', 'https://www.cdc.gov/mmwr/volumes/69/rr/rr6906a1.htm', 'https://portal.ct.gov/deep/remediation--site-clean-up/list-of-contaminated-or-potentially-contaminated-sites-in-connecticut', 'https://www.transportation.gov/grants/ss4a/multijurisdictional-and-potentially-duplicative-applications', 'https://www.dropboxforum.com/t5/Security-and-Permissions/Personal-shared-folders-potentially-accessed-via-stolen-work/td-p/775397']\n",
      "Failed to scrape https://dictionary.cambridge.org/dictionary/english/potentially: ('Connection aborted.', RemoteDisconnected('Remote end closed connection without response'))\n"
     ]
    },
    {
     "name": "stderr",
     "output_type": "stream",
     "text": [
      "Some characters could not be decoded, and were replaced with REPLACEMENT CHARACTER.\n"
     ]
    },
    {
     "name": "stdout",
     "output_type": "stream",
     "text": [
      "Progress: 79/94 - keyword: potentially, tfidf: 0.04025698969680286\n",
      "All links:  ['https://www.merriam-webster.com/dictionary/endure', 'https://www.amazon.com/Endure-Curiously-Elastic-Limits-Performance/dp/0062499866', 'https://neuroscienceblueprint.nih.gov/training/endure-undergraduate-education', 'https://www.dictionary.com/browse/endure', 'http://www.endure-network.eu/', 'https://dictionary.cambridge.org/dictionary/english/endure', 'https://www.instagram.com/project.endure/', 'https://dictionary.cambridge.org/us/dictionary/english/endure', 'https://pathfinderrucktraining.com/products/pathfinder-endure-intermediate-ruck-training', 'https://www.nytimes.com/2010/01/03/weekinreview/03carr.html', 'https://groundedcuriosity.com/book-review-endure-mind-body-and-the-curiously-elastic-limits-of-human-performance-by-alex-hutchinson/', 'https://endure.wustl.edu/apply/', 'https://www.traceminerals.com/products/endure-performance-electrolyte-drops', 'https://specialinterestno.bandcamp.com/album/endure', 'https://www.kickstarter.com/projects/1115177182/endure-edc-survival-pen', 'https://www.reddit.com/r/EldenRingPVP/comments/1b1g2ey/is_there_a_counter_to_endure_that_i_can_use/', 'https://www.endureiq.com/', 'https://huntingtonhouse.com/collection/2300-endure/', 'https://alpinecols.com/book-review-endure-by-alex-hutchinson/', 'https://www.reddit.com/r/Ironsworn/comments/bqnv41/endure_harm_and_stress/']\n",
      "Failed to scrape https://dictionary.cambridge.org/us/dictionary/english/endure: ('Connection aborted.', RemoteDisconnected('Remote end closed connection without response'))\n",
      "Failed to scrape https://dictionary.cambridge.org/dictionary/english/endure: ('Connection aborted.', RemoteDisconnected('Remote end closed connection without response'))\n",
      "Progress: 80/94 - keyword: endure, tfidf: 0.0980425209940838\n",
      "All links:  ['https://www.webmd.com/a-to-z-guides/defining-patient-conditions', 'https://agupubs.onlinelibrary.wiley.com/doi/full/10.1029/2018JD028970', 'https://www.nextgenscience.org/pe/hs-ls2-6-ecosystems-interactions-energy-and-dynamics', 'https://www.amazon.com/Stable-Condition-Limited-Influence-Attitudes/dp/0871540282', 'https://pubs.rsc.org/en/content/articlelanding/2019/ee/c9ee01664c', 'https://link.springer.com/article/10.1007/s10546-017-0307-5', 'https://www.imf.org/en/Publications/GFSR', 'https://www.rmets.org/metmatters/when-air-stable-or-unstable', 'https://www.nature.com/articles/s41467-021-22140-0', 'https://rmets.onlinelibrary.wiley.com/doi/full/10.1002/met.1880', 'https://www.nature.com/articles/s41563-019-0305-8', 'https://www.thelancet.com/journals/lanmic/article/PIIS2666-5247(20)30003-3/fulltext', 'https://en.wikipedia.org/wiki/Medical_state', 'https://forum.dynare.org/t/blanchard-kahn-conditions-are-not-satisfied-no-stable-equilibrium-the-jacobian-of-the-static-model-is-singular/19725', 'https://www.nature.com/articles/s41467-023-40889-4', 'https://www.dfs.ny.gov/industry_guidance/industry_letters/il20220608_issuance_stablecoins', 'https://news.mit.edu/2024/study-lifes-building-blocks-surprisingly-stable-venus-conditions-0320', 'https://arxiv.org/abs/math/0103074', 'https://link.aps.org/doi/10.1103/PhysRevD.88.083013', 'https://journals.ametsoc.org/view/journals/apme/40/2/1520-0450_2001_040_0259_anmted_2.0.co_2.xml']\n",
      "Failed to scrape https://pubs.rsc.org/en/content/articlelanding/2019/ee/c9ee01664c: ('Connection aborted.', RemoteDisconnected('Remote end closed connection without response'))\n",
      "Progress: 81/94 - keyword: stable conditions, tfidf: 0.024270510386041534\n",
      "All links:  ['https://www.imdb.com/title/tt0268126/', 'https://en.wikipedia.org/wiki/Adaptation_(film)', 'https://www.merriam-webster.com/dictionary/adaptation', 'https://www.adaptation-fund.org/', 'https://www.unep.org/resources/adaptation-gap-report-2023', 'https://unfccc.int/topics/adaptation-and-resilience/the-big-picture/introduction', 'https://www.unep.org/resources/adaptation-gap-report-2022', 'https://gca.org/', 'https://www.adaptationclearinghouse.org/', 'https://www.plumpjackcollection.com/adaptation', 'https://georgerrmartin.com/notablog/2024/05/24/the-adaptation-tango/', 'https://www.wri.org/initiatives/adaptation-action-coalition', 'https://education.nationalgeographic.org/resource/adaptation', 'https://nca2018.globalchange.gov/chapter/28/', 'https://academic.oup.com/adaptation', 'https://www.ipcc.ch/report/sixth-assessment-report-working-group-ii/', 'https://www.usaid.gov/climate/adaptation', 'https://forestadaptation.org/adapt/adaptation-workbook', 'https://climate.ec.europa.eu/eu-action/adaptation-climate-change/eu-adaptation-strategy_en', 'https://www.newyorker.com/magazine/2013/01/07/adaptation-eric-klinenberg']\n",
      "Progress: 82/94 - keyword: adaptation, tfidf: 0.11592699272455145\n",
      "All links:  ['https://www.eurofound.europa.eu/en/topic/living-conditions', 'https://www.gao.gov/products/gao-23-105797', 'https://ourworldindata.org/a-history-of-global-living-conditions', 'https://ec.europa.eu/eurostat/web/microdata/european-union-statistics-on-income-and-living-conditions', 'https://forum.powerscore.com/viewtopic.php?t=4615', 'https://hcr.ny.gov/living-conditions-and-essential-services', 'https://european-union.europa.eu/institutions-law-budget/institutions-and-bodies/search-all-eu-institutions-and-bodies/eurofound_en', 'https://www.nami.org/Find-Support/Living-with-a-Mental-Health-Condition', 'https://www.worldbank.org/en/programs/lsms', 'http://www.sf.gov/get-help-reporting-substandard-living-conditions', 'https://www.vera.org/dignity-behind-bars/living-conditions-in-prison', 'https://skoll.org/about/issue-areas/environmental-sustainability/living-conditions/living-conditions-overview/', 'https://www.ams.usda.gov/sites/default/files/media/Living%20Conditions%2C%20Facilities%2C%20and%20Handling%20for%20Organic%20Livestock_FINAL.pdf', 'https://www.mhlw.go.jp/english/database/db-hss/cslc-index.html', 'https://apps.bostonglobe.com/ideas/graphics/2021/12/editing-the-constitution/guarantee-decent-living-conditions/', 'https://sheltercluster.org/north-west-syria-hub/documents/action-plan-dignified-shelter-living-conditions-nw-syria', 'https://www.pwcva.gov/department/neighborhood-services/unsafe-living-conditions', 'https://www.wowt.com/2024/07/01/man-takes-omaha-housing-authority-court-over-fathers-living-conditions/', 'https://fra.europa.eu/en/publication/2014/discrimination-against-and-living-conditions-roma-women-11-eu-member-states', 'https://eures.europa.eu/living-and-working/living-and-working-conditions_en']\n",
      "Failed to scrape https://www.vera.org/dignity-behind-bars/living-conditions-in-prison: HTTPSConnectionPool(host='www.vera.org', port=443): Max retries exceeded with url: /dignity-behind-bars/living-conditions-in-prison (Caused by SSLError(SSLCertVerificationError(1, '[SSL: CERTIFICATE_VERIFY_FAILED] certificate verify failed: unable to get local issuer certificate (_ssl.c:1122)')))\n"
     ]
    },
    {
     "name": "stderr",
     "output_type": "stream",
     "text": [
      "Some characters could not be decoded, and were replaced with REPLACEMENT CHARACTER.\n"
     ]
    },
    {
     "name": "stdout",
     "output_type": "stream",
     "text": [
      "Progress: 83/94 - keyword: living conditions, tfidf: 0.05974287400783851\n",
      "All links:  ['https://en.wikipedia.org/wiki/Temperature', 'https://www.britannica.com/science/temperature', 'http://www.climate.gov/news-features/understanding-climate/climate-change-global-temperature', 'https://www.merriam-webster.com/dictionary/temperature', 'https://www.foodsafety.gov/food-safety-charts/safe-minimum-internal-temperatures', 'https://climate.nasa.gov/vital-signs/global-temperature/?intent=121', 'http://www.fsis.usda.gov/food-safety/safe-food-handling-and-preparation/food-safety-basics/safe-temperature-chart', 'https://www.oaktreecapital.com/insights/memo/taking-the-temperature', 'https://www.prelectronics.com/products/temperature-transmitters/', 'https://www.cpc.ncep.noaa.gov/', 'https://ugc.berkeley.edu/background-content/temperature/', 'https://www.weather.gov/forecastmaps/', 'https://www.onsetcomp.com/products/data-loggers-sensors/temperature', 'https://www.dictionary.com/browse/temperature', 'https://community.openai.com/t/cheat-sheet-mastering-temperature-and-top-p-in-chatgpt-api/172683', 'https://www.onsetcomp.com/products/data-loggers/mx1101', 'https://data.giss.nasa.gov/gistemp/', 'https://www.nationalgeographic.org/encyclopedia/temperature/', 'https://www.burkert.com/en/products/sensors-transmitters-and-controllers/temperature', 'https://shop.spotsee.io/temperature_indicators/cold_chain_indicators/warmmark_warmmark']\n",
      "Failed to scrape http://www.fsis.usda.gov/food-safety/safe-food-handling-and-preparation/food-safety-basics/safe-temperature-chart: HTTPConnectionPool(host='www.fsis.usda.gov', port=80): Read timed out. (read timeout=10)\n",
      "Progress: 84/94 - keyword: temperature, tfidf: 0.11785331063998443\n",
      "All links:  ['https://www.statalist.org/forums/forum/general-stata-discussion/general/1666235-region-specific-linear-trends-a-good-option', 'https://www.reddit.com/r/AWSCertifications/comments/132t6n4/are_amis_region_specific/', 'https://github.com/aws/aws-cli/issues/4445', 'https://www.wordhippo.com/what-is/another-word-for/region-specific.html', 'https://github.com/spulec/moto/issues/3292', 'https://community.hubspot.com/t5/GDPR/GDPR-Region-specific-emails/m-p/730336', 'https://www.claimscon.org/our-work/compensation/background/article2-article2/region-specific-pension-program/', 'https://dceo.illinois.gov/smallbizassistance/regionspecificassistance.html', 'https://community.hubspot.com/t5/Blog-Website-Page-Publishing/Region-specific-date-formats-in-blog-templates/m-p/841487', 'https://www.sellercommunity.com/t5/Hardware-Troubleshooting/Is-the-Square-Terminal-region-specific/td-p/638833', 'https://developers.google.com/tag-platform/tag-manager/server-side/enable-region-specific-settings', 'https://awpkb.dot.wi.gov/Content/constr/Pantry/RegionSpecific.htm', 'https://help.flywire.com/hc/en-us/categories/360001177734-Region-Specific-Payments', 'https://www.nature.com/articles/s41467-019-14198-8', 'https://papers.nips.cc/paper/8394-region-specific-diffeomorphic-metric-mapping', 'https://www.collinsdictionary.com/us/dictionary/english/regionally-specific', 'https://www.nature.com/articles/s41593-018-0192-3', 'https://pubmed.ncbi.nlm.nih.gov/36749722/', 'https://elifesciences.org/articles/40855', 'https://teamtreehouse.com/community/region-specific-time-format']\n",
      "Failed to scrape https://www.claimscon.org/our-work/compensation/background/article2-article2/region-specific-pension-program/: ('Connection aborted.', ConnectionResetError(54, 'Connection reset by peer'))\n",
      "Progress: 85/94 - keyword: region-specific, tfidf: 0.0\n",
      "All links:  ['https://migrationbrewing.com/', 'https://www.imdb.com/title/tt6495056/', 'https://www.migrationwines.com/', 'https://www.iom.int/', 'https://www.youtube.com/watch?v=cQfo0HJhCnE', 'https://www.uphe.com/movies/migration', 'https://www.migrationpolicy.org/', 'https://en.wikipedia.org/wiki/Migration_(2023_film)', 'https://www.migrationdataportal.org/', 'https://refugeesmigrants.un.org/migration-compact', 'https://learn.microsoft.com/en-us/ef/core/managing-schemas/migrations/', 'https://www.irs.gov/statistics/soi-tax-stats-migration-data', 'https://home-affairs.ec.europa.eu/index_en', 'https://gmdac.iom.int/', 'https://mayorsmigrationcouncil.org/', 'https://publications.iom.int/books/world-migration-report-2022', 'https://aws.amazon.com/migration/partner-solutions/', 'https://missingmigrants.iom.int/', 'https://lawrencemigration.phillipscollection.org/the-migration-series', 'https://support.apple.com/en-us/102613']\n",
      "Progress: 86/94 - keyword: migration, tfidf: 0.12372385671165327\n",
      "All links:  ['https://www.britannica.com/topic/resource-dependency-theory', 'https://stackoverflow.com/questions/5292283/use-a-dependencys-resources', 'https://github.com/aws-amplify/amplify-cli/issues/12400', 'https://stackoverflow.com/questions/20136214/gradle-common-resource-dependency-for-multiple-java-projects', 'https://powerusers.microsoft.com/t5/Microsoft-Dataverse/Removing-Web-Resource-Dependency/td-p/2341623', 'https://en.wikipedia.org/wiki/Resource_dependence_theory', 'https://aclanthology.org/P15-2139', 'https://developer.hashicorp.com/terraform/tutorials/configuration-language/dependencies', 'https://callihandata.com/2021/01/28/missing-sql-failover-cluster-dependency/', 'https://community.atlassian.com/t5/Jira-questions/Jira-Web-Resource-Plugin-Dependency/qaq-p/1153024', 'https://learn.microsoft.com/en-us/azure/azure-resource-manager/bicep/resource-dependencies', 'https://link.springer.com/article/10.1007/s11187-008-9156-4', 'https://www.linkedin.com/pulse/resource-dependency-inversely-roportional-growth-bharath-kumar', 'https://www.sciencedirect.com/topics/economics-econometrics-and-finance/resource-dependence-theory', 'https://www.econstor.eu/bitstream/10419/78991/1/756930359.pdf', 'https://onlinelibrary.wiley.com/doi/abs/10.1526/003601107781799254', 'https://www.nissan-global.com/EN/SUSTAINABILITY/ENVIRONMENT/GREENPROGRAM/DEPENDENCY/', 'https://eiti.org/documents/extractives-dependence-index-edi', 'https://journals.sagepub.com/doi/10.1177/0899764005275411', 'https://study.com/academy/lesson/resource-dependency-theory-how-external-resources-affect-organizational-behavior.html']\n"
     ]
    },
    {
     "name": "stderr",
     "output_type": "stream",
     "text": [
      "Some characters could not be decoded, and were replaced with REPLACEMENT CHARACTER.\n"
     ]
    },
    {
     "name": "stdout",
     "output_type": "stream",
     "text": [
      "Progress: 87/94 - keyword: resource dependency, tfidf: 0.04786770143877246\n",
      "All links:  ['https://www.sciencedirect.com/topics/biochemistry-genetics-and-molecular-biology/species-coexistence', 'https://besjournals.onlinelibrary.wiley.com/doi/10.1111/1365-2656.12879', 'https://www.journals.uchicago.edu/doi/10.1086/282505', 'https://www.jstor.org/stable/2459090', 'https://www.nature.com/articles/s41467-023-43279-y', 'https://www.cell.com/trends/ecology-evolution/fulltext/S0169-5347(20)30339-6', 'https://esajournals.onlinelibrary.wiley.com/doi/abs/10.1890/0012-9658(2001)082[0175%3AAVBIOH]2.0.CO%3B2', 'https://aslopubs.onlinelibrary.wiley.com/doi/abs/10.4319/lo.1978.23.6.1126', 'https://esajournals.onlinelibrary.wiley.com/doi/10.1890/10-0154.1', 'https://scholarworks.umt.edu/cgi/viewcontent.cgi?article=1034&context=wildbio_pubs', 'https://en.wikipedia.org/wiki/Coexistence_theory', 'https://nph.onlinelibrary.wiley.com/doi/abs/10.1111/nph.16865', 'https://academic.oup.com/jmammal/article/83/1/306/2372981', 'https://www.frontiersin.org/journals/plant-science/articles/10.3389/fpls.2015.00866/full', 'https://nph.onlinelibrary.wiley.com/doi/abs/10.1111/j.1469-8137.2012.04276.x', 'https://www.umt.edu/coop-unit/documents/martin_publications/reprint550.pdf', 'https://link.aps.org/doi/10.1103/PhysRevLett.127.208101', 'https://www.sdhumane.org/programs/project-wildlife/coexist.html', 'https://defenders.org/issues/promoting-coexistence', 'https://www.pnas.org/doi/full/10.1073/pnas.1413650112']\n"
     ]
    },
    {
     "name": "stderr",
     "output_type": "stream",
     "text": [
      "Some characters could not be decoded, and were replaced with REPLACEMENT CHARACTER.\n",
      "Some characters could not be decoded, and were replaced with REPLACEMENT CHARACTER.\n"
     ]
    },
    {
     "name": "stdout",
     "output_type": "stream",
     "text": [
      "Progress: 88/94 - keyword: coexisting species, tfidf: 0.03709276424597342\n",
      "All links:  ['https://en.wikipedia.org/wiki/Predation', 'https://www.montecookgames.com/store/product/predation/', 'https://www.sciencedirect.com/topics/agricultural-and-biological-sciences/predation', 'https://www.reddit.com/r/mtgrules/comments/18hw122/ezuris_predation_and_ward/', 'https://www.fisheries.noaa.gov/feature-story/first-direct-evidence-killer-whale-predation-bowhead-whales-us-pacific-arctic', 'https://www.merriam-webster.com/dictionary/predation', 'https://www.nature.com/scitable/knowledge/library/predation-herbivory-and-parasitism-13261134/', 'https://www.ecologyandsociety.org/vol6/iss1/art11/', 'https://pubs.nmsu.edu/_circulars/CR688/', 'https://uapress.arizona.edu/book/landscapes-of-movement-and-predation', 'https://oceanservice.noaa.gov/education/tutorial_corals/coral08_naturalthreats.html', 'https://www.gwct.org.uk/game/research/predation-control/', 'https://www.britannica.com/science/predation', 'https://www.facebook.com/predationsubstitutetraining/', 'https://www.pgc.pa.gov/Wildlife/WildlifeSpecies/White-tailedDeer/Pages/PredationDeerPopulation.aspx', 'https://dictionary.cambridge.org/dictionary/english/predation', 'https://esajournals.onlinelibrary.wiley.com/doi/full/10.1002/ecs2.3168', 'https://besjournals.onlinelibrary.wiley.com/doi/10.1111/j.1365-2656.2011.01945.x', 'https://www.atixa.org/resources/pattern-and-predation-20-minutes-to-trained/', 'https://digitalcommons.library.umaine.edu/aes_techbulletin/18/']\n",
      "Failed to scrape https://dictionary.cambridge.org/dictionary/english/predation: ('Connection aborted.', RemoteDisconnected('Remote end closed connection without response'))\n",
      "Progress: 89/94 - keyword: predation, tfidf: 0.07803006703074533\n",
      "All links:  ['https://en.wikipedia.org/wiki/Competition', 'https://www.firstinspires.org/robotics/frc', 'https://www.jcs.mil/Portals/36/Documents/Doctrine/jdn_jg/jdn1_19.pdf', 'https://www.merriam-webster.com/dictionary/competition', 'https://www.ftc.gov/about-ftc/bureaus-offices/bureau-competition', 'https://climate-pact.europa.eu/get-involved/capture-your-climate-action-enter-our-photo-competition_en', 'https://competition-policy.ec.europa.eu/index_en', 'http://www.house.gov/educators-and-students/congressional-art-competition', 'https://www.oecd.org/competition/', 'https://dictionary.cambridge.org/dictionary/english/competition', 'https://www.psychologytoday.com/us/basics/sport-and-competition', 'https://commission.europa.eu/about-european-commission/departments-and-executive-agencies/competition_en', 'https://www.nationalgrocers.org/foundation/student-case-study-competition/', 'https://www.congress.gov/bill/117th-congress/senate-bill/673', 'https://www.gallup.com/cliftonstrengths/en/252191/competition-theme.aspx', 'https://www.whitehouse.gov/briefing-room/presidential-actions/2021/07/09/executive-order-on-promoting-competition-in-the-american-economy/', 'https://www.fcc.gov/wireline-competition', 'https://hankamer.baylor.edu/baugh-center/new-venture', 'https://igem.org/', 'https://www.af.mil/reoptimization-for-great-power-competition/']\n",
      "Failed to scrape https://dictionary.cambridge.org/dictionary/english/competition: ('Connection aborted.', RemoteDisconnected('Remote end closed connection without response'))\n",
      "Progress: 90/94 - keyword: competition, tfidf: 0.12244189105290139\n",
      "All links:  ['https://resilience.com/', 'https://www.apa.org/topics/resilience', 'https://www.psychologytoday.com/us/basics/resilience', 'https://www.merriam-webster.com/dictionary/resilience', 'https://www.ourresilience.org/', 'https://developingchild.harvard.edu/science/key-concepts/resilience/', 'https://www.verywellmind.com/what-is-resilience-2795059', 'https://dictionary.cambridge.org/dictionary/english/resilience', 'https://www.resilience.org/', 'https://www.cyberresilience.com/', 'https://www.mayoclinic.org/tests-procedures/resilience-training/in-depth/resilience/art-20046311', 'https://www.mind.org.uk/information-support/types-of-mental-health-problems/stress/managing-stress-and-building-resilience/', 'https://kpjrfilms.co/resilience/', 'https://resiliencemi.org/', 'https://www.resalliance.org/', 'https://www.dhs.gov/topics/resilience', 'https://www.everydayhealth.com/wellness/resilience/', 'https://www.fema.gov/about/offices/resilience', 'https://www.codot.gov/programs/planning/cdot-resilience-program', 'https://digital-strategy.ec.europa.eu/en/library/cyber-resilience-act']\n",
      "Failed to scrape https://dictionary.cambridge.org/dictionary/english/resilience: ('Connection aborted.', RemoteDisconnected('Remote end closed connection without response'))\n",
      "Progress: 91/94 - keyword: resilience, tfidf: 0.12662241328645757\n",
      "All links:  ['https://www.wcs.org/', 'https://www.worldwildlife.org/', 'https://www.fws.gov/', 'https://wildlifestudios.com/', 'https://www.ncwildlife.org/', 'https://www.wildlife.la/', 'https://www.imdb.com/title/tt5929754/', 'https://wildlife.ohiodnr.gov/', 'http://wildlifebrewing.com/', 'https://www.wildlifehc.org/wildlife-habitat-council/', 'https://wildlife.ca.gov/', 'https://myfwc.com/', 'https://en.wikipedia.org/wiki/Wildlife', 'https://wildnet.org/', 'https://cpw.state.co.us/', 'https://www.awf.org/', 'https://www.pgc.pa.gov/Wildlife/Pages/default.aspx', 'https://wcb.ca.gov/', 'https://tpwd.texas.gov/', 'https://www.comedywildlifephoto.com/']\n",
      "Progress: 92/94 - keyword: wildlife, tfidf: 0.14243019304818327\n",
      "All links:  ['https://www.merriam-webster.com/dictionary/confinement', 'https://www.aclu.org/news/prisoners-rights/i-spent-16-months-solitary-confinement-and-now-im', 'https://www.nytimes.com/2021/03/25/opinion/solitary-confinement-reform.html', 'https://legislature.maine.gov/statutes/34-A/title34-Asec3036-A.html', 'https://snapcraft.io/docs/snap-confinement', 'https://legislature.maine.gov/legis/statutes/30-A/title30-Asec1659-A.html', 'https://www.nps.gov/jacs/', 'https://legis.la.gov/legis/ViewDocument.aspx?d=1219732', 'https://www.energy.gov/science/doe-explainsplasma-confinement', 'http://reports.oah.state.nc.us/ncac/title%2010a%20-%20health%20and%20human%20services/chapter%2014%20-%20director,%20division%20of%20health%20service%20regulation/subchapter%20j/subchapter%20j%20rules.pdf', 'https://app.leg.wa.gov/rcw/default.aspx?cite=9.94A.680', 'https://www.themarshallproject.org/2019/05/30/i-developed-agoraphobia-in-prison', 'https://www.judiciary.senate.gov/committee-activity/hearings/legacy-of-harm-eliminating-the-abuse-of-solitary-confinement', 'https://www.nyclu.org/resources/policy/legislations/humane-alternatives-long-term-halt-solitary-confinement-act', 'https://en.wikipedia.org/wiki/Confinement', 'https://www.nyclu.org/court-cases/peoples-v-fischer-challenging-policies-governing-use-solitary-confinement-new-yorks-prisons', 'https://csgjusticecenter.org/publications/more-community-less-confinement/', 'https://www.judiciary.senate.gov/press/releases/durbin-coons-introduce-bill-to-limit-use-of-solitary-confinement', 'https://ojjdp.ojp.gov/model-programs-guide/literature-reviews/alternatives_to_detection_and_confinement.pdf', 'https://www.aclu-nj.org/en/press-releases/gov-murphy-signs-isolated-confinement-restriction-act-law']\n"
     ]
    },
    {
     "name": "stderr",
     "output_type": "stream",
     "text": [
      "Some characters could not be decoded, and were replaced with REPLACEMENT CHARACTER.\n",
      "Some characters could not be decoded, and were replaced with REPLACEMENT CHARACTER.\n",
      "Some characters could not be decoded, and were replaced with REPLACEMENT CHARACTER.\n"
     ]
    },
    {
     "name": "stdout",
     "output_type": "stream",
     "text": [
      "Progress: 93/94 - keyword: confinement, tfidf: 0.09750227742822383\n",
      "All links:  ['https://reliance.com/', 'https://www.reliancetelephone.com/', 'https://www.ril.com/', 'https://reliancebank.bank/', 'https://www.relianceorthodontics.com/', 'https://reliancebankmn.com/', 'https://www.reliancestandard.com/home/', 'https://www.reliancecu.org/', 'https://www.youtube.com/channel/UCIMXKin1fXXCeq2UJePJEog/videos', 'https://en.wikipedia.org/wiki/Reliance_Industries', 'https://www.greif.com/reliance-products/', 'https://ilsr.org/', 'https://www.theparisreview.org/blog/2020/01/15/the-myth-of-self-reliance/', 'https://smartirb.org/reliance/', 'https://getreliancehealth.com/', 'https://research.rutgers.edu/faculty-staff/compliance/human-research-protection/reliance', 'https://www.research.uky.edu/office-research-integrity/single-irb-reliance', 'https://www.irs.gov/newsroom/general-overview-of-taxpayer-reliance-on-guidance-published-in-the-internal-revenue-bulletin-and-faqs', 'https://irbreliance.ucop.edu/', 'https://www.merriam-webster.com/dictionary/reliance']\n",
      "Failed to scrape https://reliancebank.bank/: HTTPSConnectionPool(host='reliancebank.bank', port=443): Max retries exceeded with url: / (Caused by SSLError(SSLCertVerificationError(1, '[SSL: CERTIFICATE_VERIFY_FAILED] certificate verify failed: unable to get local issuer certificate (_ssl.c:1122)')))\n",
      "Failed to scrape https://irbreliance.ucop.edu/: HTTPSConnectionPool(host='irbreliance.ucop.edu', port=443): Read timed out. (read timeout=10)\n",
      "Progress: 94/94 - keyword: reliance, tfidf: 0.1100209217131585\n"
     ]
    }
   ],
   "source": [
    "import requests\n",
    "import tiktoken\n",
    "from bs4 import BeautifulSoup\n",
    "from openai import OpenAI\n",
    "client = OpenAI(api_key=open_ai_key)\n",
    "from sklearn.feature_extraction.text import TfidfVectorizer\n",
    "import nltk\n",
    "nltk.download('punkt')\n",
    "import json\n",
    "import concurrent.futures\n",
    "\n",
    "def extract_articles(keyword):\n",
    "      url = 'https://customsearch.googleapis.com/customsearch/v1'\n",
    "      params = {\n",
    "          'key': \"\",\n",
    "          'cx': '',\n",
    "          'q': keyword,\n",
    "          'start': 1,\n",
    "          'num': 10,\n",
    "          'lr': \"lang_en\",\n",
    "          \"filter\": 1\n",
    "      }      \n",
    "      articles = []\n",
    "      all_links = []\n",
    "      try:\n",
    "        for i in range(2):\n",
    "          response = requests.get(url, params={\n",
    "              **params,\n",
    "              \"start\": i * 10 + 1\n",
    "          })\n",
    "          data = response.json()\n",
    "          links = [item['link'] for item in data['items'] if 'link' in item]\n",
    "          all_links.extend(links)\n",
    "\n",
    "        print(\"All links: \", all_links)\n",
    "        \n",
    "        # Function to scrape a single link\n",
    "        def scrape_link(link):\n",
    "            try:\n",
    "                page = requests.get(link, timeout=10)\n",
    "                soup = BeautifulSoup(page.content, 'html.parser')\n",
    "                return soup.get_text()\n",
    "            except Exception as e:\n",
    "                print(f\"Failed to scrape {link}: {e}\")\n",
    "                return None\n",
    "\n",
    "        # Use ThreadPoolExecutor to scrape links concurrently\n",
    "        with concurrent.futures.ThreadPoolExecutor() as executor:\n",
    "            results = list(executor.map(scrape_link, all_links))\n",
    "\n",
    "        # Filter out None results and extend articles list\n",
    "        articles.extend([result for result in results if result is not None])\n",
    "\n",
    "      except Exception as e:\n",
    "          print(f\"An error occurred: {e}\")\n",
    "          # all.extend(data[\"items\"])\n",
    "          \n",
    "      return articles\n",
    "\n",
    "def extract_domain_specific_keywords(prompt, answers):\n",
    "    # first 50k tokens\n",
    "    tokenizer = tiktoken.get_encoding(\"cl100k_base\")\n",
    "    tokens = tokenizer.encode(answers)\n",
    "    first_50000_tokens = tokens[:50000]\n",
    "    extracted_text = tokenizer.decode(first_50000_tokens)\n",
    "\n",
    "    response = client.chat.completions.create(\n",
    "        model=\"gpt-4o\",\n",
    "        response_format={ \"type\": \"json_object\" },\n",
    "        messages=[\n",
    "            {\"role\": \"system\", \"content\": \"You are a helpful assistant designed to output JSON.\"},\n",
    "            {\"role\": \"user\", \"content\": f\"Here is a question: {prompt}. Identify 100 domain-specific keywords that are most relevant to the question from the following set of student answers, and return them in a JSON object with an array field named 'keywords':\\n\\n{extracted_text}\"}\n",
    "        ]\n",
    "    )\n",
    "    \n",
    "    keywords = json.loads(response.choices[0].message.content)\n",
    "\n",
    "    return keywords\n",
    "\n",
    "def extract_tfidf_from_articles(keyword, articles):\n",
    "    def preprocess(text):\n",
    "        return text.lower()\n",
    "\n",
    "    # Preprocess articles\n",
    "    preprocessed_articles = [preprocess(article) for article in articles]\n",
    "\n",
    "    # Initialize the vectorizer\n",
    "    vectorizer = TfidfVectorizer()\n",
    "\n",
    "    # Fit and transform the articles\n",
    "    tfidf_matrix = vectorizer.fit_transform(preprocessed_articles)\n",
    "\n",
    "    # Get the feature names (i.e., the words)\n",
    "    feature_names = vectorizer.get_feature_names_out()\n",
    "\n",
    "    # Split the keyword into individual words and lower each\n",
    "    keywords = keyword.lower().split()\n",
    "\n",
    "    # Initialize list to store tf-idf values for each word in the keyword\n",
    "    tfidf_values_list = []\n",
    "\n",
    "    # Iterate over each word in the keyword\n",
    "    for word in keywords:\n",
    "        try:\n",
    "            # Find the index of the word\n",
    "            word_index = feature_names.tolist().index(word)\n",
    "            # Get the tf-idf values for the word across all documents\n",
    "            tfidf_values = tfidf_matrix[:, word_index].toarray().flatten()\n",
    "            # Append the average tf-idf value for the word\n",
    "            tfidf_values_list.append(tfidf_values.mean())\n",
    "        except ValueError:\n",
    "            # If the word is not found, append 0.0\n",
    "            tfidf_values_list.append(0.0)\n",
    "\n",
    "    # Calculate the average tf-idf value for the entire keyword phrase\n",
    "    if tfidf_values_list:\n",
    "        average_tfidf = sum(tfidf_values_list) / len(tfidf_values_list)\n",
    "    else:\n",
    "        average_tfidf = 0.0\n",
    "\n",
    "    return average_tfidf\n",
    "\n",
    "\n",
    "def extract_weighted_keywords(setnumbers, df, prompts):\n",
    "  weighted_keywords = {}\n",
    "  all_articles = {}\n",
    "  for setno in setnumbers:\n",
    "    answers = \" \".join(df[df['EssaySet'] == setno]['EssayText'].tolist())\n",
    "    keywords = extract_domain_specific_keywords(prompts[setno], answers)[\"keywords\"]\n",
    "    # keywords = ['animals', 'Asia', 'Australia', 'Bamboo', 'Bears', 'Biologists', 'Biodiversity', 'Boa constrictor', 'Burmese python', 'Bushnell', 'Cape Coral', 'Carnivores', 'Change', 'China', 'Climates', 'Cobra', 'Cold blooded', 'Creatures', 'Customer', 'Ecosystem', 'Ecophobia', 'Effective threat', 'Endangered species', 'Environment', 'Everglades', 'Exclusive food', 'Exploded', 'Food source', 'Florida', 'Food stability', 'Food variety', 'Generalists', 'Government', 'Habitat', 'Hankering', 'Herbivores', 'Hood spread', 'Households', 'Humans', 'Hurricane Andrew', 'Invasive species', 'Key Largo wood rat', 'Kimberly', 'Koala', 'Lizards', 'Macroherbivores', 'Macinnes', 'Madagascar', 'Mammals', 'Mcinnes', 'Microchip', 'Monitor lizard', 'Natural predators', 'Niche environments', 'Nile monitor lizard', 'Non-native', 'Organisms', 'Panda', 'Pandas', 'Permit', 'Pets', 'Plants', 'Policy adviser', 'Potomac', 'Predators', 'Prey', 'Python', 'Raccoon', 'Radiated tortoises', 'Reed', 'Reptiles', 'Resource-specific', 'RobRoy Macinnes', 'Scales', 'Scorpion', 'Sensitive habitats', 'Skip Snow', 'Specialists', 'Stability', 'Survival', 'Tourists', 'Traditional diet', 'Urban areas', 'U.S. Fish and Wildlife Service', 'U.S. Geological Survey', 'Unique habitat', 'Variety of foods', 'Warm blooded', 'Weeds', 'Wildlife biologist', 'Zoologists']\n",
    "    \n",
    "    set_scores = {}\n",
    "\n",
    "    total_keywords = len(keywords)\n",
    "    for i, keyword in enumerate(keywords, 1):\n",
    "       articles = extract_articles(keyword)\n",
    "       tfidf = extract_tfidf_from_articles(keyword, articles)\n",
    "       \n",
    "       set_scores[keyword] = tfidf\n",
    "       print(f\"Progress: {i}/{total_keywords} - keyword: {keyword}, tfidf: {tfidf}\")\n",
    "       \n",
    "       if setno not in all_articles:\n",
    "           all_articles[setno] = {}\n",
    "       all_articles[setno][keyword] = articles\n",
    "    \n",
    "    weighted_keywords[setno] = set_scores\n",
    "  \n",
    "  return weighted_keywords, all_articles\n",
    "\n",
    "weighted_keywords, all_articles = extract_weighted_keywords([3], df, prompts)\n",
    "\n",
    "    \n",
    "   \n",
    "   \n"
   ]
  },
  {
   "cell_type": "code",
   "execution_count": 140,
   "metadata": {},
   "outputs": [],
   "source": [
    "from utils.feature_extractor import FeatureExtractor\n",
    "\n",
    "feature_extractor = FeatureExtractor(prompts, only_prompts, model, doc2vec_model, ngram_results, weighted_keywords)"
   ]
  },
  {
   "cell_type": "markdown",
   "metadata": {},
   "source": [
    "train model"
   ]
  },
  {
   "cell_type": "code",
   "execution_count": 142,
   "metadata": {},
   "outputs": [],
   "source": [
    "from numpy import hstack\n",
    "\n",
    "# run this for everythting ... so i can just do it once, and then save it as a csv to re-load ... \n",
    "def add_features_to_df(df, feature_extractor, add_word2vec=False, add_doc2vec=False, add_pos=False, add_prompt_overlap=False, add_weighted_keywords=False, add_lexical_overlap=False, add_stylistic_features=False, add_logical_operators=False, add_temporal_features=False):\n",
    "    if add_word2vec:\n",
    "        df['word2vec_features'] = None\n",
    "    if add_doc2vec:\n",
    "        df['doc2vec_features'] = None\n",
    "    if add_pos:\n",
    "        df['pos_features'] = None\n",
    "    if add_prompt_overlap:\n",
    "        df['prompt_overlap_features'] = None\n",
    "    if add_weighted_keywords:\n",
    "        df['weighted_keywords_features'] = None\n",
    "    if add_lexical_overlap:\n",
    "        df['lexical_overlap_features'] = None\n",
    "    if add_stylistic_features:\n",
    "        df['stylistic_features'] = None\n",
    "    if add_logical_operators:\n",
    "        df['logical_operators_features'] = None\n",
    "    if add_temporal_features:\n",
    "        df['temporal_features'] = None\n",
    "\n",
    "    total_items = len(df)\n",
    "    print(f\"Processing {total_items} items...\")\n",
    "\n",
    "    # Iterate over each row in the training DataFrame\n",
    "    num = 0\n",
    "    for index, row in df.iterrows():\n",
    "        # Extract features using the feature_extractor object\n",
    "        if add_word2vec:\n",
    "            word2vec_features = feature_extractor.word2vec(row['EssayText'])\n",
    "            df.at[index, 'word2vec_features'] = word2vec_features\n",
    "        if add_doc2vec:\n",
    "            doc2vec_features = feature_extractor.doc2vec(row['EssayText'])\n",
    "            df.at[index, 'doc2vec_features'] = doc2vec_features\n",
    "        if add_pos:\n",
    "            pos_features = feature_extractor.pos(row['EssaySet'], row['EssayText'])\n",
    "            df.at[index, 'pos_features'] = pos_features\n",
    "        if add_prompt_overlap:\n",
    "            prompt_overlap_features = feature_extractor.prompt_overlap(row['EssaySet'], row['EssayText'])\n",
    "            df.at[index, 'prompt_overlap_features'] = prompt_overlap_features\n",
    "        if add_weighted_keywords:\n",
    "            weighted_keywords_features = feature_extractor.weighted_domain_specific_keywords(row['EssaySet'], row['EssayText'])\n",
    "            df.at[index, 'weighted_keywords_features'] = weighted_keywords_features\n",
    "        if add_lexical_overlap:\n",
    "            lexical_overlap_features = feature_extractor.lexical_overlap(row['EssaySet'], row['EssayText'])\n",
    "            df.at[index, 'lexical_overlap_features'] = lexical_overlap_features\n",
    "        if add_stylistic_features:\n",
    "            stylistic_features = feature_extractor.stylistic_features(row['EssayText'])\n",
    "            df.at[index, 'stylistic_features'] = stylistic_features\n",
    "        if add_logical_operators:\n",
    "            logical_operators_features = feature_extractor.logical_operators(row['EssayText'])\n",
    "            df.at[index, 'logical_operators_features'] = logical_operators_features\n",
    "        if add_temporal_features:\n",
    "            temporal_features = feature_extractor.temporal_features(row['EssayText'])\n",
    "            df.at[index, 'temporal_features'] = temporal_features\n",
    "\n",
    "        # Update after every 1000 items\n",
    "        if (num) % 1000 == 0:\n",
    "            print(f\"Processed {num} items.\")\n",
    "        num += 1\n",
    "\n",
    "    return df"
   ]
  },
  {
   "cell_type": "code",
   "execution_count": 144,
   "metadata": {},
   "outputs": [],
   "source": [
    "essay_set = 3"
   ]
  },
  {
   "cell_type": "code",
   "execution_count": 145,
   "metadata": {},
   "outputs": [],
   "source": [
    "essay_set_df = df[df['EssaySet'] == essay_set].copy(deep=True)"
   ]
  },
  {
   "cell_type": "code",
   "execution_count": 161,
   "metadata": {},
   "outputs": [
    {
     "name": "stdout",
     "output_type": "stream",
     "text": [
      "Processing 3152 items...\n",
      "Processed 0 items.\n",
      "Processed 1000 items.\n",
      "Processed 2000 items.\n",
      "Processed 3000 items.\n"
     ]
    }
   ],
   "source": [
    "# Save the updated DataFrame to a CSV file\n",
    "import os\n",
    "from datetime import datetime\n",
    "\n",
    "# Execute the function to add features to the DataFrame and display the updated DataFrame\n",
    "add_features_to_df(essay_set_df, feature_extractor, add_logical_operators=True)\n",
    "\n",
    "# Create the folder if it doesn't exist\n",
    "if not os.path.exists('updated_features'):\n",
    "    os.makedirs('updated_features')\n",
    "\n",
    "# Get the current timestamp\n",
    "timestamp = datetime.now().strftime('%Y%m%d_%H%M%S')\n",
    "\n",
    "# Save the updated DataFrame to a CSV file with the timestamp\n",
    "essay_set_df.to_csv(f'updated_features/updated_features_{timestamp}.csv', index=False)\n"
   ]
  },
  {
   "cell_type": "code",
   "execution_count": 162,
   "metadata": {},
   "outputs": [
    {
     "data": {
      "text/html": [
       "<div>\n",
       "<style scoped>\n",
       "    .dataframe tbody tr th:only-of-type {\n",
       "        vertical-align: middle;\n",
       "    }\n",
       "\n",
       "    .dataframe tbody tr th {\n",
       "        vertical-align: top;\n",
       "    }\n",
       "\n",
       "    .dataframe thead th {\n",
       "        text-align: right;\n",
       "    }\n",
       "</style>\n",
       "<table border=\"1\" class=\"dataframe\">\n",
       "  <thead>\n",
       "    <tr style=\"text-align: right;\">\n",
       "      <th></th>\n",
       "      <th>Id</th>\n",
       "      <th>DataSet</th>\n",
       "      <th>EssaySet</th>\n",
       "      <th>Score1</th>\n",
       "      <th>Score2</th>\n",
       "      <th>EssayText</th>\n",
       "      <th>Word_Count</th>\n",
       "      <th>word2vec_features</th>\n",
       "      <th>doc2vec_features</th>\n",
       "      <th>pos_features</th>\n",
       "      <th>prompt_overlap_features</th>\n",
       "      <th>weighted_keywords_features</th>\n",
       "      <th>lexical_overlap_features</th>\n",
       "      <th>stylistic_features</th>\n",
       "      <th>logical_operators_features</th>\n",
       "      <th>temporal_features</th>\n",
       "    </tr>\n",
       "  </thead>\n",
       "  <tbody>\n",
       "    <tr>\n",
       "      <th>4917</th>\n",
       "      <td>4918</td>\n",
       "      <td>Train</td>\n",
       "      <td>3</td>\n",
       "      <td>1</td>\n",
       "      <td>1</td>\n",
       "      <td>China's panda and Australia's koala are two an...</td>\n",
       "      <td>50</td>\n",
       "      <td>[0.016498972, 0.031992994, -0.05212467, 0.1381...</td>\n",
       "      <td>[-0.12533814, -0.19425772, -0.11712208, 0.1578...</td>\n",
       "      <td>[0, 0, 0, 0, 0, 0, 0, 1, 1, 1, 0, 0, 0, 0, 0, ...</td>\n",
       "      <td>[0.5]</td>\n",
       "      <td>[0.5367291916595557, 0.4403533819564889, 0.0, ...</td>\n",
       "      <td>[0.05]</td>\n",
       "      <td>[57, 0, 0, 0, 0, 0, 0, 0, 0, 0, 0, 0, 0, 0, 0,...</td>\n",
       "      <td>[2, 1, 0.03508771929824561, 1, 57, 3]</td>\n",
       "      <td>[8, 0, 0, 10, 2, 0, 0]</td>\n",
       "    </tr>\n",
       "    <tr>\n",
       "      <th>4918</th>\n",
       "      <td>4919</td>\n",
       "      <td>Train</td>\n",
       "      <td>3</td>\n",
       "      <td>1</td>\n",
       "      <td>2</td>\n",
       "      <td>Pandas and koalas are similar because they are...</td>\n",
       "      <td>57</td>\n",
       "      <td>[0.024004769, 0.044829894, -0.07149012, 0.1326...</td>\n",
       "      <td>[-0.054628838, -0.020331863, -0.1796877, 0.262...</td>\n",
       "      <td>[0, 0, 0, 0, 0, 0, 0, 0, 0, 1, 1, 0, 0, 0, 0, ...</td>\n",
       "      <td>[0.54]</td>\n",
       "      <td>[0.0, 0.0, 0.6039808046123907, 0.0, 0.0, 0.0, ...</td>\n",
       "      <td>[0.06]</td>\n",
       "      <td>[63, 0, 0, 0, 0, 0, 0, 0, 0, 0, 0, 0, 0, 0, 0,...</td>\n",
       "      <td>[5, 2, 0.07936507936507936, 1, 63, 2]</td>\n",
       "      <td>[6, 1, 0, 9, 0, 1, 0]</td>\n",
       "    </tr>\n",
       "    <tr>\n",
       "      <th>4919</th>\n",
       "      <td>4920</td>\n",
       "      <td>Train</td>\n",
       "      <td>3</td>\n",
       "      <td>1</td>\n",
       "      <td>1</td>\n",
       "      <td>Pandas in China and Koalas in Australia are si...</td>\n",
       "      <td>33</td>\n",
       "      <td>[0.026684571, 0.032433067, -0.060349528, 0.149...</td>\n",
       "      <td>[0.030490095, -0.09904233, 0.011396943, 0.2152...</td>\n",
       "      <td>[1, 1, 1, 1, 1, 0, 1, 0, 0, 0, 0, 0, 0, 0, 1, ...</td>\n",
       "      <td>[0.42]</td>\n",
       "      <td>[0.5367291916595557, 0.4403533819564889, 0.0, ...</td>\n",
       "      <td>[0.03]</td>\n",
       "      <td>[36, 0, 0, 0, 0, 0, 0, 0, 0, 0, 0, 0, 0, 0, 0,...</td>\n",
       "      <td>[2, 1, 0.05555555555555555, 0, 36, 3]</td>\n",
       "      <td>[6, 0, 0, 5, 1, 0, 0]</td>\n",
       "    </tr>\n",
       "    <tr>\n",
       "      <th>4920</th>\n",
       "      <td>4921</td>\n",
       "      <td>Train</td>\n",
       "      <td>3</td>\n",
       "      <td>2</td>\n",
       "      <td>1</td>\n",
       "      <td>Pandas in China only eat bamboo and Koalas in ...</td>\n",
       "      <td>32</td>\n",
       "      <td>[0.006107875, 0.04953003, -0.058074407, 0.1578...</td>\n",
       "      <td>[-0.047954723, -0.00897786, -0.018569963, 0.12...</td>\n",
       "      <td>[1, 1, 1, 1, 1, 1, 1, 1, 1, 1, 1, 1, 1, 1, 1, ...</td>\n",
       "      <td>[0.38]</td>\n",
       "      <td>[0.5367291916595557, 0.4403533819564889, 0.0, ...</td>\n",
       "      <td>[0.03]</td>\n",
       "      <td>[34, 0, 0, 0, 0, 0, 0, 0, 0, 0, 0, 0, 0, 0, 0,...</td>\n",
       "      <td>[1, 1, 0.029411764705882353, 0, 34, 2]</td>\n",
       "      <td>[5, 1, 0, 4, 1, 1, 0]</td>\n",
       "    </tr>\n",
       "    <tr>\n",
       "      <th>4921</th>\n",
       "      <td>4922</td>\n",
       "      <td>Train</td>\n",
       "      <td>3</td>\n",
       "      <td>0</td>\n",
       "      <td>0</td>\n",
       "      <td>Pandas in China and koalas from Australia are ...</td>\n",
       "      <td>27</td>\n",
       "      <td>[0.0075033437, 0.01469695, -0.046362836, 0.130...</td>\n",
       "      <td>[0.11114751, -0.024824172, -0.093851134, 0.109...</td>\n",
       "      <td>[1, 1, 0, 0, 0, 0, 0, 1, 0, 1, 0, 0, 0, 0, 1, ...</td>\n",
       "      <td>[0.5]</td>\n",
       "      <td>[0.5367291916595557, 0.4403533819564889, 0.0, ...</td>\n",
       "      <td>[0.03]</td>\n",
       "      <td>[29, 0, 0, 0, 0, 0, 0, 0, 0, 0, 0, 0, 0, 0, 0,...</td>\n",
       "      <td>[1, 1, 0.034482758620689655, 0, 29, 2]</td>\n",
       "      <td>[4, 0, 0, 4, 0, 0, 0]</td>\n",
       "    </tr>\n",
       "    <tr>\n",
       "      <th>...</th>\n",
       "      <td>...</td>\n",
       "      <td>...</td>\n",
       "      <td>...</td>\n",
       "      <td>...</td>\n",
       "      <td>...</td>\n",
       "      <td>...</td>\n",
       "      <td>...</td>\n",
       "      <td>...</td>\n",
       "      <td>...</td>\n",
       "      <td>...</td>\n",
       "      <td>...</td>\n",
       "      <td>...</td>\n",
       "      <td>...</td>\n",
       "      <td>...</td>\n",
       "      <td>...</td>\n",
       "      <td>...</td>\n",
       "    </tr>\n",
       "    <tr>\n",
       "      <th>8064</th>\n",
       "      <td>8065</td>\n",
       "      <td>Priva</td>\n",
       "      <td>3</td>\n",
       "      <td>2</td>\n",
       "      <td>2</td>\n",
       "      <td>China's panda are similar to koalas because Th...</td>\n",
       "      <td>14</td>\n",
       "      <td>[-0.020585494, 0.07710405, -0.07188554, 0.1588...</td>\n",
       "      <td>[0.06200168, -0.13997632, -0.08725603, 0.11112...</td>\n",
       "      <td>[0, 0, 0, 0, 0, 0, 0, 0, 0, 0, 0, 0, 0, 0, 0, ...</td>\n",
       "      <td>[0.33]</td>\n",
       "      <td>[0.0, 0.4403533819564889, 0.0, 0.0, 0.0, 0.0, ...</td>\n",
       "      <td>[0.02]</td>\n",
       "      <td>[16, 0, 0, 0, 0, 0, 0, 0, 0, 0, 0, 0, 0, 0, 0,...</td>\n",
       "      <td>[1, 1, 0.0625, 0, 16, 1]</td>\n",
       "      <td>[3, 0, 0, 3, 0, 0, 0]</td>\n",
       "    </tr>\n",
       "    <tr>\n",
       "      <th>8065</th>\n",
       "      <td>8066</td>\n",
       "      <td>Priva</td>\n",
       "      <td>3</td>\n",
       "      <td>1</td>\n",
       "      <td>1</td>\n",
       "      <td>Pandas from China are similar to koalas in Aus...</td>\n",
       "      <td>25</td>\n",
       "      <td>[0.009386699, 0.0152493315, -0.07514191, 0.119...</td>\n",
       "      <td>[0.07324394, -0.050994035, -0.07131314, 0.1118...</td>\n",
       "      <td>[0, 0, 0, 0, 1, 0, 0, 0, 0, 0, 0, 0, 0, 0, 0, ...</td>\n",
       "      <td>[0.5]</td>\n",
       "      <td>[0.5367291916595557, 0.4403533819564889, 0.0, ...</td>\n",
       "      <td>[0.03]</td>\n",
       "      <td>[27, 0, 0, 0, 0, 0, 0, 0, 0, 0, 0, 0, 0, 0, 0,...</td>\n",
       "      <td>[0, 0, 0.0, 0, 27, 2]</td>\n",
       "      <td>[2, 0, 0, 2, 0, 0, 0]</td>\n",
       "    </tr>\n",
       "    <tr>\n",
       "      <th>8066</th>\n",
       "      <td>8067</td>\n",
       "      <td>Priva</td>\n",
       "      <td>3</td>\n",
       "      <td>1</td>\n",
       "      <td>1</td>\n",
       "      <td>Koalas and panda are both similar in that they...</td>\n",
       "      <td>49</td>\n",
       "      <td>[0.019533284, 0.06098972, -0.046831258, 0.1476...</td>\n",
       "      <td>[0.051570136, -0.08533205, -0.05561295, 0.2763...</td>\n",
       "      <td>[0, 0, 0, 0, 0, 0, 0, 1, 0, 1, 1, 0, 0, 0, 0, ...</td>\n",
       "      <td>[0.42]</td>\n",
       "      <td>[0.0, 0.0, 0.0, 0.0, 0.0, 0.0, 0.0, 0.58742134...</td>\n",
       "      <td>[0.05]</td>\n",
       "      <td>[55, 0, 0, 0, 0, 0, 0, 0, 0, 0, 0, 0, 0, 0, 0,...</td>\n",
       "      <td>[2, 1, 0.03636363636363636, 0, 55, 4]</td>\n",
       "      <td>[7, 0, 0, 9, 0, 0, 0]</td>\n",
       "    </tr>\n",
       "    <tr>\n",
       "      <th>8067</th>\n",
       "      <td>8068</td>\n",
       "      <td>Priva</td>\n",
       "      <td>3</td>\n",
       "      <td>1</td>\n",
       "      <td>0</td>\n",
       "      <td>Pandas in China and koalas in Australia are si...</td>\n",
       "      <td>53</td>\n",
       "      <td>[0.013115416, 0.043629017, -0.0131985275, 0.14...</td>\n",
       "      <td>[-0.107658185, -0.012414971, -0.031618986, 0.2...</td>\n",
       "      <td>[1, 1, 0, 0, 1, 0, 0, 0, 0, 0, 0, 0, 0, 0, 1, ...</td>\n",
       "      <td>[0.5]</td>\n",
       "      <td>[0.5367291916595557, 0.4403533819564889, 0.0, ...</td>\n",
       "      <td>[0.05]</td>\n",
       "      <td>[59, 0, 0, 0, 0, 0, 0, 0, 0, 0, 0, 0, 0, 0, 0,...</td>\n",
       "      <td>[3, 1, 0.05084745762711865, 1, 59, 3]</td>\n",
       "      <td>[9, 0, 0, 11, 0, 0, 0]</td>\n",
       "    </tr>\n",
       "    <tr>\n",
       "      <th>8068</th>\n",
       "      <td>8069</td>\n",
       "      <td>Priva</td>\n",
       "      <td>3</td>\n",
       "      <td>2</td>\n",
       "      <td>2</td>\n",
       "      <td>Pandas and koalas are alike because they can b...</td>\n",
       "      <td>47</td>\n",
       "      <td>[0.049839366, 0.04162786, -0.019241333, 0.1189...</td>\n",
       "      <td>[-0.09284858, 0.08486702, -0.16200553, 0.24598...</td>\n",
       "      <td>[0, 0, 0, 0, 0, 0, 0, 1, 0, 0, 0, 0, 0, 0, 0, ...</td>\n",
       "      <td>[0.5]</td>\n",
       "      <td>[0.0, 0.0, 0.0, 0.0, 0.0, 0.0, 0.0, 0.0, 0.0, ...</td>\n",
       "      <td>[0.05]</td>\n",
       "      <td>[51, 0, 0, 0, 0, 0, 0, 0, 0, 0, 0, 0, 0, 0, 0,...</td>\n",
       "      <td>[4, 3, 0.0784313725490196, 1, 51, 3]</td>\n",
       "      <td>[5, 2, 0, 11, 0, 1, 0]</td>\n",
       "    </tr>\n",
       "  </tbody>\n",
       "</table>\n",
       "<p>3152 rows × 16 columns</p>\n",
       "</div>"
      ],
      "text/plain": [
       "        Id DataSet  EssaySet  Score1  Score2  \\\n",
       "4917  4918   Train         3       1       1   \n",
       "4918  4919   Train         3       1       2   \n",
       "4919  4920   Train         3       1       1   \n",
       "4920  4921   Train         3       2       1   \n",
       "4921  4922   Train         3       0       0   \n",
       "...    ...     ...       ...     ...     ...   \n",
       "8064  8065   Priva         3       2       2   \n",
       "8065  8066   Priva         3       1       1   \n",
       "8066  8067   Priva         3       1       1   \n",
       "8067  8068   Priva         3       1       0   \n",
       "8068  8069   Priva         3       2       2   \n",
       "\n",
       "                                              EssayText  Word_Count  \\\n",
       "4917  China's panda and Australia's koala are two an...          50   \n",
       "4918  Pandas and koalas are similar because they are...          57   \n",
       "4919  Pandas in China and Koalas in Australia are si...          33   \n",
       "4920  Pandas in China only eat bamboo and Koalas in ...          32   \n",
       "4921  Pandas in China and koalas from Australia are ...          27   \n",
       "...                                                 ...         ...   \n",
       "8064  China's panda are similar to koalas because Th...          14   \n",
       "8065  Pandas from China are similar to koalas in Aus...          25   \n",
       "8066  Koalas and panda are both similar in that they...          49   \n",
       "8067  Pandas in China and koalas in Australia are si...          53   \n",
       "8068  Pandas and koalas are alike because they can b...          47   \n",
       "\n",
       "                                      word2vec_features  \\\n",
       "4917  [0.016498972, 0.031992994, -0.05212467, 0.1381...   \n",
       "4918  [0.024004769, 0.044829894, -0.07149012, 0.1326...   \n",
       "4919  [0.026684571, 0.032433067, -0.060349528, 0.149...   \n",
       "4920  [0.006107875, 0.04953003, -0.058074407, 0.1578...   \n",
       "4921  [0.0075033437, 0.01469695, -0.046362836, 0.130...   \n",
       "...                                                 ...   \n",
       "8064  [-0.020585494, 0.07710405, -0.07188554, 0.1588...   \n",
       "8065  [0.009386699, 0.0152493315, -0.07514191, 0.119...   \n",
       "8066  [0.019533284, 0.06098972, -0.046831258, 0.1476...   \n",
       "8067  [0.013115416, 0.043629017, -0.0131985275, 0.14...   \n",
       "8068  [0.049839366, 0.04162786, -0.019241333, 0.1189...   \n",
       "\n",
       "                                       doc2vec_features  \\\n",
       "4917  [-0.12533814, -0.19425772, -0.11712208, 0.1578...   \n",
       "4918  [-0.054628838, -0.020331863, -0.1796877, 0.262...   \n",
       "4919  [0.030490095, -0.09904233, 0.011396943, 0.2152...   \n",
       "4920  [-0.047954723, -0.00897786, -0.018569963, 0.12...   \n",
       "4921  [0.11114751, -0.024824172, -0.093851134, 0.109...   \n",
       "...                                                 ...   \n",
       "8064  [0.06200168, -0.13997632, -0.08725603, 0.11112...   \n",
       "8065  [0.07324394, -0.050994035, -0.07131314, 0.1118...   \n",
       "8066  [0.051570136, -0.08533205, -0.05561295, 0.2763...   \n",
       "8067  [-0.107658185, -0.012414971, -0.031618986, 0.2...   \n",
       "8068  [-0.09284858, 0.08486702, -0.16200553, 0.24598...   \n",
       "\n",
       "                                           pos_features  \\\n",
       "4917  [0, 0, 0, 0, 0, 0, 0, 1, 1, 1, 0, 0, 0, 0, 0, ...   \n",
       "4918  [0, 0, 0, 0, 0, 0, 0, 0, 0, 1, 1, 0, 0, 0, 0, ...   \n",
       "4919  [1, 1, 1, 1, 1, 0, 1, 0, 0, 0, 0, 0, 0, 0, 1, ...   \n",
       "4920  [1, 1, 1, 1, 1, 1, 1, 1, 1, 1, 1, 1, 1, 1, 1, ...   \n",
       "4921  [1, 1, 0, 0, 0, 0, 0, 1, 0, 1, 0, 0, 0, 0, 1, ...   \n",
       "...                                                 ...   \n",
       "8064  [0, 0, 0, 0, 0, 0, 0, 0, 0, 0, 0, 0, 0, 0, 0, ...   \n",
       "8065  [0, 0, 0, 0, 1, 0, 0, 0, 0, 0, 0, 0, 0, 0, 0, ...   \n",
       "8066  [0, 0, 0, 0, 0, 0, 0, 1, 0, 1, 1, 0, 0, 0, 0, ...   \n",
       "8067  [1, 1, 0, 0, 1, 0, 0, 0, 0, 0, 0, 0, 0, 0, 1, ...   \n",
       "8068  [0, 0, 0, 0, 0, 0, 0, 1, 0, 0, 0, 0, 0, 0, 0, ...   \n",
       "\n",
       "     prompt_overlap_features  \\\n",
       "4917                   [0.5]   \n",
       "4918                  [0.54]   \n",
       "4919                  [0.42]   \n",
       "4920                  [0.38]   \n",
       "4921                   [0.5]   \n",
       "...                      ...   \n",
       "8064                  [0.33]   \n",
       "8065                   [0.5]   \n",
       "8066                  [0.42]   \n",
       "8067                   [0.5]   \n",
       "8068                   [0.5]   \n",
       "\n",
       "                             weighted_keywords_features  \\\n",
       "4917  [0.5367291916595557, 0.4403533819564889, 0.0, ...   \n",
       "4918  [0.0, 0.0, 0.6039808046123907, 0.0, 0.0, 0.0, ...   \n",
       "4919  [0.5367291916595557, 0.4403533819564889, 0.0, ...   \n",
       "4920  [0.5367291916595557, 0.4403533819564889, 0.0, ...   \n",
       "4921  [0.5367291916595557, 0.4403533819564889, 0.0, ...   \n",
       "...                                                 ...   \n",
       "8064  [0.0, 0.4403533819564889, 0.0, 0.0, 0.0, 0.0, ...   \n",
       "8065  [0.5367291916595557, 0.4403533819564889, 0.0, ...   \n",
       "8066  [0.0, 0.0, 0.0, 0.0, 0.0, 0.0, 0.0, 0.58742134...   \n",
       "8067  [0.5367291916595557, 0.4403533819564889, 0.0, ...   \n",
       "8068  [0.0, 0.0, 0.0, 0.0, 0.0, 0.0, 0.0, 0.0, 0.0, ...   \n",
       "\n",
       "     lexical_overlap_features  \\\n",
       "4917                   [0.05]   \n",
       "4918                   [0.06]   \n",
       "4919                   [0.03]   \n",
       "4920                   [0.03]   \n",
       "4921                   [0.03]   \n",
       "...                       ...   \n",
       "8064                   [0.02]   \n",
       "8065                   [0.03]   \n",
       "8066                   [0.05]   \n",
       "8067                   [0.05]   \n",
       "8068                   [0.05]   \n",
       "\n",
       "                                     stylistic_features  \\\n",
       "4917  [57, 0, 0, 0, 0, 0, 0, 0, 0, 0, 0, 0, 0, 0, 0,...   \n",
       "4918  [63, 0, 0, 0, 0, 0, 0, 0, 0, 0, 0, 0, 0, 0, 0,...   \n",
       "4919  [36, 0, 0, 0, 0, 0, 0, 0, 0, 0, 0, 0, 0, 0, 0,...   \n",
       "4920  [34, 0, 0, 0, 0, 0, 0, 0, 0, 0, 0, 0, 0, 0, 0,...   \n",
       "4921  [29, 0, 0, 0, 0, 0, 0, 0, 0, 0, 0, 0, 0, 0, 0,...   \n",
       "...                                                 ...   \n",
       "8064  [16, 0, 0, 0, 0, 0, 0, 0, 0, 0, 0, 0, 0, 0, 0,...   \n",
       "8065  [27, 0, 0, 0, 0, 0, 0, 0, 0, 0, 0, 0, 0, 0, 0,...   \n",
       "8066  [55, 0, 0, 0, 0, 0, 0, 0, 0, 0, 0, 0, 0, 0, 0,...   \n",
       "8067  [59, 0, 0, 0, 0, 0, 0, 0, 0, 0, 0, 0, 0, 0, 0,...   \n",
       "8068  [51, 0, 0, 0, 0, 0, 0, 0, 0, 0, 0, 0, 0, 0, 0,...   \n",
       "\n",
       "                  logical_operators_features       temporal_features  \n",
       "4917   [2, 1, 0.03508771929824561, 1, 57, 3]  [8, 0, 0, 10, 2, 0, 0]  \n",
       "4918   [5, 2, 0.07936507936507936, 1, 63, 2]   [6, 1, 0, 9, 0, 1, 0]  \n",
       "4919   [2, 1, 0.05555555555555555, 0, 36, 3]   [6, 0, 0, 5, 1, 0, 0]  \n",
       "4920  [1, 1, 0.029411764705882353, 0, 34, 2]   [5, 1, 0, 4, 1, 1, 0]  \n",
       "4921  [1, 1, 0.034482758620689655, 0, 29, 2]   [4, 0, 0, 4, 0, 0, 0]  \n",
       "...                                      ...                     ...  \n",
       "8064                [1, 1, 0.0625, 0, 16, 1]   [3, 0, 0, 3, 0, 0, 0]  \n",
       "8065                   [0, 0, 0.0, 0, 27, 2]   [2, 0, 0, 2, 0, 0, 0]  \n",
       "8066   [2, 1, 0.03636363636363636, 0, 55, 4]   [7, 0, 0, 9, 0, 0, 0]  \n",
       "8067   [3, 1, 0.05084745762711865, 1, 59, 3]  [9, 0, 0, 11, 0, 0, 0]  \n",
       "8068    [4, 3, 0.0784313725490196, 1, 51, 3]  [5, 2, 0, 11, 0, 1, 0]  \n",
       "\n",
       "[3152 rows x 16 columns]"
      ]
     },
     "execution_count": 162,
     "metadata": {},
     "output_type": "execute_result"
    }
   ],
   "source": [
    "essay_set_df"
   ]
  },
  {
   "cell_type": "code",
   "execution_count": 163,
   "metadata": {},
   "outputs": [],
   "source": [
    "features = ['word2vec_features', 'doc2vec_features', 'pos_features', 'prompt_overlap_features', 'weighted_keywords_features', 'lexical_overlap_features', 'stylistic_features', 'logical_operators_features', 'temporal_features']"
   ]
  },
  {
   "cell_type": "code",
   "execution_count": 164,
   "metadata": {},
   "outputs": [],
   "source": [
    "# prepare data set \n",
    "import numpy as np\n",
    "\n",
    "training_data = essay_set_df[(essay_set_df['DataSet'] == 'Train')].copy(deep=True)\n",
    "training_data = training_data.dropna(subset=['word2vec_features', 'doc2vec_features'])\n",
    "X_train = np.vstack(training_data[features].apply(lambda x: np.hstack(x), axis=1).values)\n",
    "y_train = training_data['Score1']"
   ]
  },
  {
   "cell_type": "code",
   "execution_count": 165,
   "metadata": {},
   "outputs": [],
   "source": [
    "# train model; hyper-parameter search\n",
    "from sklearn.ensemble import RandomForestClassifier\n",
    "from scipy.stats import randint\n",
    "from sklearn.model_selection import RandomizedSearchCV\n",
    "\n",
    "param_dist = {'n_estimators': randint(50,500),\n",
    "              'max_depth': randint(1,20)}\n",
    "clf = RandomForestClassifier()\n",
    "rand_search = RandomizedSearchCV(clf, \n",
    "                                param_distributions = param_dist, \n",
    "                                n_iter=5, \n",
    "                                cv=5)\n",
    "                                \n",
    "\n",
    "rand_search.fit(X_train, y_train)\n",
    "best_clf = rand_search.best_estimator_"
   ]
  },
  {
   "cell_type": "code",
   "execution_count": null,
   "metadata": {},
   "outputs": [],
   "source": [
    "# faster, more estimates\n",
    "clf = RandomForestClassifier(max_depth=100, n_estimators=100)\n",
    "clf.fit(X_train, y_train)\n",
    "\n",
    "best_clf = clf"
   ]
  },
  {
   "cell_type": "markdown",
   "metadata": {},
   "source": [
    "test model"
   ]
  },
  {
   "cell_type": "code",
   "execution_count": null,
   "metadata": {},
   "outputs": [
    {
     "name": "stdout",
     "output_type": "stream",
     "text": [
      "Confusion Matrix:\n",
      "[[ 24 123   2]\n",
      " [ 14 338   8]\n",
      " [  6  98  18]]\n",
      "Cohen Kappa Score (Weighted): 0.1950373198372678\n"
     ]
    }
   ],
   "source": [
    "from sklearn.metrics import cohen_kappa_score\n",
    "from sklearn.metrics import confusion_matrix\n",
    "\n",
    "val_set = essay_set_df[(essay_set_df['DataSet'] == 'Priva')].copy(deep=True)\n",
    "val_set = val_set.dropna(subset=['word2vec_features', 'doc2vec_features'])\n",
    "\n",
    "X_val = np.vstack(val_set[features].apply(lambda x: np.hstack(x), axis=1).values)\n",
    "y_val = val_set['Score1']\n",
    "\n",
    "y_pred = best_clf.predict(X_val)\n",
    "\n",
    "conf_matrix = confusion_matrix(y_val, y_pred)\n",
    "print(\"Confusion Matrix:\")\n",
    "print(conf_matrix)\n",
    "\n",
    "kappa_score = cohen_kappa_score(y_val, y_pred, weights='quadratic')\n",
    "print(f\"Cohen Kappa Score (Weighted): {kappa_score}\")\n"
   ]
  }
 ],
 "metadata": {
  "kernelspec": {
   "display_name": "venv",
   "language": "python",
   "name": "python3"
  },
  "language_info": {
   "codemirror_mode": {
    "name": "ipython",
    "version": 3
   },
   "file_extension": ".py",
   "mimetype": "text/x-python",
   "name": "python",
   "nbconvert_exporter": "python",
   "pygments_lexer": "ipython3",
   "version": "3.9.0"
  }
 },
 "nbformat": 4,
 "nbformat_minor": 2
}
